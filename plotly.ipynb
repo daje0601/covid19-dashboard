{
 "cells": [
  {
   "cell_type": "code",
   "execution_count": 39,
   "metadata": {},
   "outputs": [
    {
     "data": {
      "application/vnd.plotly.v1+json": {
       "config": {
        "plotlyServerURL": "https://plot.ly"
       },
       "data": [
        {
         "customdata": [
          [
           33947230,
           608115,
           33339115,
           "US"
          ],
          [
           30987880,
           411989,
           30143850,
           "India"
          ],
          [
           19209729,
           537394,
           17128429,
           "Brazil"
          ],
          [
           5884395,
           111609,
           407965,
           "France"
          ],
          [
           5785542,
           142877,
           5195394,
           "Russia"
          ],
          [
           5500151,
           50367,
           5365075,
           "Turkey"
          ],
          [
           5252655,
           128797,
           16127,
           "United Kingdom"
          ],
          [
           4702657,
           100250,
           4326403,
           "Argentina"
          ],
          [
           4565372,
           114337,
           4317436,
           "Colombia"
          ],
          [
           4275846,
           127831,
           4106315,
           "Italy"
          ],
          [
           4041474,
           81043,
           150376,
           "Spain"
          ],
          [
           3746935,
           91326,
           3635420,
           "Germany"
          ],
          [
           3440400,
           86391,
           3069943,
           "Iran"
          ],
          [
           2881046,
           75179,
           2652581,
           "Poland"
          ],
          [
           2670046,
           69210,
           2157363,
           "Indonesia"
          ],
          [
           2616827,
           235507,
           2061595,
           "Mexico"
          ],
          [
           2313705,
           55066,
           2241165,
           "Ukraine"
          ],
          [
           2236805,
           65595,
           1970516,
           "South Africa"
          ],
          [
           2085883,
           194752,
           2047805,
           "Peru"
          ],
          [
           1783082,
           18055,
           27490,
           "Netherlands"
          ],
          [
           1670073,
           30335,
           1637367,
           "Czechia"
          ],
          [
           1592130,
           34049,
           1543171,
           "Chile"
          ],
          [
           1485457,
           26232,
           1414817,
           "Philippines"
          ],
          [
           1457192,
           17677,
           1326073,
           "Iraq"
          ],
          [
           1429304,
           26427,
           1397993,
           "Canada"
          ],
          [
           1100616,
           25207,
           0,
           "Belgium"
          ],
          [
           1093576,
           14642,
           0,
           "Sweden"
          ],
          [
           1081405,
           34242,
           1046537,
           "Romania"
          ],
          [
           1059538,
           17052,
           897412,
           "Bangladesh"
          ],
          [
           981392,
           22689,
           916373,
           "Pakistan"
          ],
          [
           916559,
           17182,
           852269,
           "Portugal"
          ],
          [
           867567,
           6503,
           759705,
           "Malaysia"
          ],
          [
           848322,
           6441,
           836556,
           "Israel"
          ],
          [
           828201,
           14943,
           789749,
           "Japan"
          ],
          [
           808612,
           30013,
           741896,
           "Hungary"
          ],
          [
           759025,
           9864,
           741540,
           "Jordan"
          ],
          [
           717937,
           7077,
           0,
           "Serbia"
          ],
          [
           706775,
           10901,
           317600,
           "Switzerland"
          ],
          [
           660788,
           9430,
           624711,
           "Nepal"
          ],
          [
           654813,
           1880,
           632775,
           "United Arab Emirates"
          ],
          [
           652354,
           10726,
           639154,
           "Austria"
          ],
          [
           548972,
           7881,
           534768,
           "Lebanon"
          ],
          [
           547273,
           9404,
           527256,
           "Morocco"
          ],
          [
           524878,
           3584,
           471323,
           "Kazakhstan"
          ],
          [
           518609,
           16845,
           413155,
           "Tunisia"
          ],
          [
           503734,
           8006,
           484883,
           "Saudi Arabia"
          ],
          [
           471757,
           21850,
           437167,
           "Ecuador"
          ],
          [
           456815,
           17287,
           383441,
           "Bolivia"
          ],
          [
           447718,
           12789,
           93764,
           "Greece"
          ],
          [
           441056,
           14066,
           397953,
           "Paraguay"
          ],
          [
           430121,
           3287,
           423404,
           "Belarus"
          ],
          [
           422703,
           18158,
           397003,
           "Bulgaria"
          ],
          [
           418604,
           6661,
           398300,
           "Panama"
          ],
          [
           391971,
           12523,
           255300,
           "Slovakia"
          ],
          [
           386722,
           4842,
           311761,
           "Costa Rica"
          ],
          [
           381336,
           5492,
           361327,
           "Georgia"
          ],
          [
           380699,
           2158,
           360746,
           "Kuwait"
          ],
          [
           377704,
           5854,
           365852,
           "Uruguay"
          ],
          [
           363029,
           2934,
           26873,
           "Thailand"
          ],
          [
           361079,
           8233,
           352251,
           "Croatia"
          ],
          [
           337602,
           4988,
           330946,
           "Azerbaijan"
          ],
          [
           335609,
           3900,
           276843,
           "Dominican Republic"
          ],
          [
           325024,
           9798,
           284613,
           "Guatemala"
          ],
          [
           315409,
           3585,
           310239,
           "West Bank and Gaza"
          ],
          [
           303291,
           2540,
           292069,
           "Denmark"
          ],
          [
           288138,
           3484,
           262174,
           "Oman"
          ],
          [
           288099,
           3327,
           270996,
           "Venezuela"
          ],
          [
           283409,
           16418,
           220530,
           "Egypt"
          ],
          [
           279790,
           5018,
           23364,
           "Ireland"
          ],
          [
           279381,
           4402,
           268230,
           "Lithuania"
          ],
          [
           279059,
           3611,
           253014,
           "Sri Lanka"
          ],
          [
           277318,
           4349,
           262167,
           "Ethiopia"
          ],
          [
           276989,
           7356,
           95000,
           "Honduras"
          ],
          [
           267505,
           1378,
           265129,
           "Bahrain"
          ],
          [
           257989,
           4425,
           252914,
           "Slovenia"
          ],
          [
           257678,
           6217,
           250628,
           "Moldova"
          ],
          [
           256607,
           1659,
           215979,
           "Cuba"
          ],
          [
           226756,
           4552,
           217896,
           "Armenia"
          ],
          [
           223780,
           599,
           221665,
           "Qatar"
          ],
          [
           212013,
           3248,
           181987,
           "Libya"
          ],
          [
           208357,
           4181,
           151442,
           "Burma"
          ],
          [
           205238,
           9664,
           186382,
           "Bosnia and Herzegovina"
          ],
          [
           190183,
           3737,
           180624,
           "Kenya"
          ],
          [
           180549,
           2949,
           164924,
           "Zambia"
          ],
          [
           173511,
           2050,
           156509,
           "Korea, South"
          ],
          [
           168915,
           2125,
           164652,
           "Nigeria"
          ],
          [
           155840,
           5487,
           150146,
           "North Macedonia"
          ],
          [
           148797,
           3882,
           103192,
           "Algeria"
          ],
          [
           143668,
           2133,
           120731,
           "Kyrgyzstan"
          ],
          [
           143128,
           707,
           118219,
           "Mongolia"
          ],
          [
           138004,
           2540,
           134916,
           "Latvia"
          ],
          [
           136643,
           5923,
           82586,
           "Afghanistan"
          ],
          [
           133720,
           796,
           17998,
           "Norway"
          ],
          [
           132616,
           2456,
           130059,
           "Albania"
          ],
          [
           131618,
           1270,
           128042,
           "Estonia"
          ],
          [
           117409,
           781,
           112546,
           "Uzbekistan"
          ],
          [
           108785,
           2240,
           80421,
           "Namibia"
          ],
          [
           107879,
           2268,
           105509,
           "Kosovo"
          ],
          [
           104157,
           4848,
           98727,
           "China"
          ],
          [
           100543,
           1621,
           98599,
           "Montenegro"
          ],
          [
           98888,
           978,
           46000,
           "Finland"
          ],
          [
           97728,
           802,
           94612,
           "Ghana"
          ],
          [
           93429,
           1033,
           74392,
           "Mozambique"
          ],
          [
           88674,
           2203,
           63140,
           "Uganda"
          ],
          [
           87305,
           383,
           39061,
           "Cyprus"
          ],
          [
           82363,
           2464,
           74851,
           "El Salvador"
          ],
          [
           80858,
           1324,
           35261,
           "Cameroon"
          ],
          [
           80153,
           1253,
           69931,
           "Botswana"
          ],
          [
           76381,
           2332,
           49053,
           "Zimbabwe"
          ],
          [
           75405,
           214,
           72678,
           "Maldives"
          ],
          [
           72509,
           819,
           69949,
           "Luxembourg"
          ],
          [
           63615,
           986,
           55365,
           "Cambodia"
          ],
          [
           62804,
           36,
           62467,
           "Singapore"
          ],
          [
           50848,
           1134,
           42122,
           "Jamaica"
          ],
          [
           50742,
           607,
           35582,
           "Rwanda"
          ],
          [
           48959,
           319,
           48331,
           "Cote d'Ivoire"
          ],
          [
           47596,
           1203,
           42685,
           "Senegal"
          ],
          [
           44909,
           984,
           28801,
           "Congo (Kinshasa)"
          ],
          [
           42462,
           933,
           40845,
           "Madagascar"
          ],
          [
           40713,
           1276,
           34139,
           "Malawi"
          ],
          [
           40327,
           946,
           34584,
           "Angola"
          ],
          [
           38239,
           138,
           9624,
           "Vietnam"
          ],
          [
           36805,
           2774,
           30647,
           "Sudan"
          ],
          [
           35236,
           963,
           28451,
           "Trinidad and Tobago"
          ],
          [
           33127,
           292,
           32276,
           "Cabo Verde"
          ],
          [
           31612,
           420,
           30192,
           "Malta"
          ],
          [
           31513,
           912,
           23911,
           "Australia"
          ],
          [
           25806,
           1901,
           21896,
           "Syria"
          ],
          [
           25245,
           162,
           24964,
           "Gabon"
          ],
          [
           24252,
           183,
           23459,
           "Guinea"
          ],
          [
           23716,
           597,
           19703,
           "Suriname"
          ],
          [
           22049,
           499,
           20470,
           "Mauritania"
          ],
          [
           21223,
           503,
           19435,
           "Guyana"
          ],
          [
           20489,
           696,
           18557,
           "Eswatini"
          ],
          [
           19374,
           487,
           12961,
           "Haiti"
          ],
          [
           17340,
           179,
           16975,
           "Papua New Guinea"
          ],
          [
           17005,
           77,
           16072,
           "Seychelles"
          ],
          [
           15328,
           753,
           11964,
           "Taiwan*"
          ],
          [
           15076,
           781,
           7267,
           "Somalia"
          ],
          [
           14492,
           528,
           10908,
           "Mali"
          ],
          [
           14377,
           134,
           13746,
           "Togo"
          ],
          [
           14167,
           127,
           13796,
           "Andorra"
          ],
          [
           13958,
           109,
           13600,
           "Tajikistan"
          ],
          [
           13613,
           331,
           12996,
           "Belize"
          ],
          [
           13527,
           169,
           13333,
           "Burkina Faso"
          ],
          [
           13274,
           256,
           12035,
           "Bahamas"
          ],
          [
           12790,
           167,
           11759,
           "Congo (Brazzaville)"
          ],
          [
           12153,
           338,
           6601,
           "Lesotho"
          ],
          [
           12032,
           59,
           2221,
           "Fiji"
          ],
          [
           11621,
           155,
           11457,
           "Djibouti"
          ],
          [
           10917,
           117,
           10514,
           "South Sudan"
          ],
          [
           9960,
           25,
           9021,
           "Timor-Leste"
          ],
          [
           8828,
           123,
           8591,
           "Equatorial Guinea"
          ],
          [
           8767,
           193,
           4225,
           "Nicaragua"
          ],
          [
           8244,
           107,
           8081,
           "Benin"
          ],
          [
           7142,
           98,
           6859,
           "Central African Republic"
          ],
          [
           6964,
           1366,
           4151,
           "Yemen"
          ],
          [
           6555,
           29,
           6476,
           "Iceland"
          ],
          [
           6521,
           188,
           5962,
           "Gambia"
          ],
          [
           6347,
           30,
           5948,
           "Eritrea"
          ],
          [
           6100,
           113,
           4035,
           "Sierra Leone"
          ],
          [
           5723,
           8,
           773,
           "Burundi"
          ],
          [
           5551,
           194,
           5253,
           "Niger"
          ],
          [
           5439,
           87,
           5230,
           "Saint Lucia"
          ],
          [
           5276,
           144,
           2622,
           "Liberia"
          ],
          [
           5094,
           90,
           5002,
           "San Marino"
          ],
          [
           4955,
           174,
           4777,
           "Chad"
          ],
          [
           4213,
           48,
           4074,
           "Barbados"
          ],
          [
           3996,
           146,
           3798,
           "Comoros"
          ],
          [
           3969,
           70,
           3651,
           "Guinea-Bissau"
          ],
          [
           3060,
           59,
           2984,
           "Liechtenstein"
          ],
          [
           2976,
           3,
           2174,
           "Laos"
          ],
          [
           2795,
           26,
           2723,
           "New Zealand"
          ],
          [
           2648,
           33,
           2555,
           "Monaco"
          ],
          [
           2395,
           37,
           2327,
           "Sao Tome and Principe"
          ],
          [
           2370,
           1,
           2018,
           "Bhutan"
          ],
          [
           2249,
           12,
           2159,
           "Saint Vincent and the Grenadines"
          ],
          [
           1858,
           18,
           1534,
           "Mauritius"
          ],
          [
           1267,
           42,
           1222,
           "Antigua and Barbuda"
          ],
          [
           712,
           13,
           699,
           "Diamond Princess"
          ],
          [
           544,
           3,
           435,
           "Saint Kitts and Nevis"
          ],
          [
           509,
           21,
           183,
           "Tanzania"
          ],
          [
           282,
           3,
           256,
           "Brunei"
          ],
          [
           199,
           0,
           194,
           "Dominica"
          ],
          [
           161,
           1,
           160,
           "Grenada"
          ],
          [
           27,
           0,
           27,
           "Holy See"
          ],
          [
           20,
           0,
           20,
           "Solomon Islands"
          ],
          [
           9,
           2,
           7,
           "MS Zaandam"
          ],
          [
           6,
           0,
           0,
           "Summer Olympics 2020"
          ],
          [
           4,
           1,
           3,
           "Vanuatu"
          ],
          [
           4,
           0,
           4,
           "Marshall Islands"
          ],
          [
           3,
           0,
           3,
           "Samoa"
          ],
          [
           2,
           0,
           0,
           "Kiribati"
          ],
          [
           1,
           0,
           1,
           "Micronesia"
          ],
          [
           0,
           0,
           0,
           "Palau"
          ]
         ],
         "geo": "geo",
         "hovertemplate": "<b>%{hovertext}</b><br><br>Confirmed=%{marker.color:,2f}<br>Deaths=%{customdata[1]:,2f}<br>Recovered=%{customdata[2]:,2f}<extra></extra>",
         "hovertext": [
          "US",
          "India",
          "Brazil",
          "France",
          "Russia",
          "Turkey",
          "United Kingdom",
          "Argentina",
          "Colombia",
          "Italy",
          "Spain",
          "Germany",
          "Iran",
          "Poland",
          "Indonesia",
          "Mexico",
          "Ukraine",
          "South Africa",
          "Peru",
          "Netherlands",
          "Czechia",
          "Chile",
          "Philippines",
          "Iraq",
          "Canada",
          "Belgium",
          "Sweden",
          "Romania",
          "Bangladesh",
          "Pakistan",
          "Portugal",
          "Malaysia",
          "Israel",
          "Japan",
          "Hungary",
          "Jordan",
          "Serbia",
          "Switzerland",
          "Nepal",
          "United Arab Emirates",
          "Austria",
          "Lebanon",
          "Morocco",
          "Kazakhstan",
          "Tunisia",
          "Saudi Arabia",
          "Ecuador",
          "Bolivia",
          "Greece",
          "Paraguay",
          "Belarus",
          "Bulgaria",
          "Panama",
          "Slovakia",
          "Costa Rica",
          "Georgia",
          "Kuwait",
          "Uruguay",
          "Thailand",
          "Croatia",
          "Azerbaijan",
          "Dominican Republic",
          "Guatemala",
          "West Bank and Gaza",
          "Denmark",
          "Oman",
          "Venezuela",
          "Egypt",
          "Ireland",
          "Lithuania",
          "Sri Lanka",
          "Ethiopia",
          "Honduras",
          "Bahrain",
          "Slovenia",
          "Moldova",
          "Cuba",
          "Armenia",
          "Qatar",
          "Libya",
          "Burma",
          "Bosnia and Herzegovina",
          "Kenya",
          "Zambia",
          "Korea, South",
          "Nigeria",
          "North Macedonia",
          "Algeria",
          "Kyrgyzstan",
          "Mongolia",
          "Latvia",
          "Afghanistan",
          "Norway",
          "Albania",
          "Estonia",
          "Uzbekistan",
          "Namibia",
          "Kosovo",
          "China",
          "Montenegro",
          "Finland",
          "Ghana",
          "Mozambique",
          "Uganda",
          "Cyprus",
          "El Salvador",
          "Cameroon",
          "Botswana",
          "Zimbabwe",
          "Maldives",
          "Luxembourg",
          "Cambodia",
          "Singapore",
          "Jamaica",
          "Rwanda",
          "Cote d'Ivoire",
          "Senegal",
          "Congo (Kinshasa)",
          "Madagascar",
          "Malawi",
          "Angola",
          "Vietnam",
          "Sudan",
          "Trinidad and Tobago",
          "Cabo Verde",
          "Malta",
          "Australia",
          "Syria",
          "Gabon",
          "Guinea",
          "Suriname",
          "Mauritania",
          "Guyana",
          "Eswatini",
          "Haiti",
          "Papua New Guinea",
          "Seychelles",
          "Taiwan*",
          "Somalia",
          "Mali",
          "Togo",
          "Andorra",
          "Tajikistan",
          "Belize",
          "Burkina Faso",
          "Bahamas",
          "Congo (Brazzaville)",
          "Lesotho",
          "Fiji",
          "Djibouti",
          "South Sudan",
          "Timor-Leste",
          "Equatorial Guinea",
          "Nicaragua",
          "Benin",
          "Central African Republic",
          "Yemen",
          "Iceland",
          "Gambia",
          "Eritrea",
          "Sierra Leone",
          "Burundi",
          "Niger",
          "Saint Lucia",
          "Liberia",
          "San Marino",
          "Chad",
          "Barbados",
          "Comoros",
          "Guinea-Bissau",
          "Liechtenstein",
          "Laos",
          "New Zealand",
          "Monaco",
          "Sao Tome and Principe",
          "Bhutan",
          "Saint Vincent and the Grenadines",
          "Mauritius",
          "Antigua and Barbuda",
          "Diamond Princess",
          "Saint Kitts and Nevis",
          "Tanzania",
          "Brunei",
          "Dominica",
          "Grenada",
          "Holy See",
          "Solomon Islands",
          "MS Zaandam",
          "Summer Olympics 2020",
          "Vanuatu",
          "Marshall Islands",
          "Samoa",
          "Kiribati",
          "Micronesia",
          "Palau"
         ],
         "legendgroup": "",
         "locationmode": "country names",
         "locations": [
          "US",
          "India",
          "Brazil",
          "France",
          "Russia",
          "Turkey",
          "United Kingdom",
          "Argentina",
          "Colombia",
          "Italy",
          "Spain",
          "Germany",
          "Iran",
          "Poland",
          "Indonesia",
          "Mexico",
          "Ukraine",
          "South Africa",
          "Peru",
          "Netherlands",
          "Czechia",
          "Chile",
          "Philippines",
          "Iraq",
          "Canada",
          "Belgium",
          "Sweden",
          "Romania",
          "Bangladesh",
          "Pakistan",
          "Portugal",
          "Malaysia",
          "Israel",
          "Japan",
          "Hungary",
          "Jordan",
          "Serbia",
          "Switzerland",
          "Nepal",
          "United Arab Emirates",
          "Austria",
          "Lebanon",
          "Morocco",
          "Kazakhstan",
          "Tunisia",
          "Saudi Arabia",
          "Ecuador",
          "Bolivia",
          "Greece",
          "Paraguay",
          "Belarus",
          "Bulgaria",
          "Panama",
          "Slovakia",
          "Costa Rica",
          "Georgia",
          "Kuwait",
          "Uruguay",
          "Thailand",
          "Croatia",
          "Azerbaijan",
          "Dominican Republic",
          "Guatemala",
          "West Bank and Gaza",
          "Denmark",
          "Oman",
          "Venezuela",
          "Egypt",
          "Ireland",
          "Lithuania",
          "Sri Lanka",
          "Ethiopia",
          "Honduras",
          "Bahrain",
          "Slovenia",
          "Moldova",
          "Cuba",
          "Armenia",
          "Qatar",
          "Libya",
          "Burma",
          "Bosnia and Herzegovina",
          "Kenya",
          "Zambia",
          "Korea, South",
          "Nigeria",
          "North Macedonia",
          "Algeria",
          "Kyrgyzstan",
          "Mongolia",
          "Latvia",
          "Afghanistan",
          "Norway",
          "Albania",
          "Estonia",
          "Uzbekistan",
          "Namibia",
          "Kosovo",
          "China",
          "Montenegro",
          "Finland",
          "Ghana",
          "Mozambique",
          "Uganda",
          "Cyprus",
          "El Salvador",
          "Cameroon",
          "Botswana",
          "Zimbabwe",
          "Maldives",
          "Luxembourg",
          "Cambodia",
          "Singapore",
          "Jamaica",
          "Rwanda",
          "Cote d'Ivoire",
          "Senegal",
          "Congo (Kinshasa)",
          "Madagascar",
          "Malawi",
          "Angola",
          "Vietnam",
          "Sudan",
          "Trinidad and Tobago",
          "Cabo Verde",
          "Malta",
          "Australia",
          "Syria",
          "Gabon",
          "Guinea",
          "Suriname",
          "Mauritania",
          "Guyana",
          "Eswatini",
          "Haiti",
          "Papua New Guinea",
          "Seychelles",
          "Taiwan*",
          "Somalia",
          "Mali",
          "Togo",
          "Andorra",
          "Tajikistan",
          "Belize",
          "Burkina Faso",
          "Bahamas",
          "Congo (Brazzaville)",
          "Lesotho",
          "Fiji",
          "Djibouti",
          "South Sudan",
          "Timor-Leste",
          "Equatorial Guinea",
          "Nicaragua",
          "Benin",
          "Central African Republic",
          "Yemen",
          "Iceland",
          "Gambia",
          "Eritrea",
          "Sierra Leone",
          "Burundi",
          "Niger",
          "Saint Lucia",
          "Liberia",
          "San Marino",
          "Chad",
          "Barbados",
          "Comoros",
          "Guinea-Bissau",
          "Liechtenstein",
          "Laos",
          "New Zealand",
          "Monaco",
          "Sao Tome and Principe",
          "Bhutan",
          "Saint Vincent and the Grenadines",
          "Mauritius",
          "Antigua and Barbuda",
          "Diamond Princess",
          "Saint Kitts and Nevis",
          "Tanzania",
          "Brunei",
          "Dominica",
          "Grenada",
          "Holy See",
          "Solomon Islands",
          "MS Zaandam",
          "Summer Olympics 2020",
          "Vanuatu",
          "Marshall Islands",
          "Samoa",
          "Kiribati",
          "Micronesia",
          "Palau"
         ],
         "marker": {
          "color": [
           33947230,
           30987880,
           19209729,
           5884395,
           5785542,
           5500151,
           5252655,
           4702657,
           4565372,
           4275846,
           4041474,
           3746935,
           3440400,
           2881046,
           2670046,
           2616827,
           2313705,
           2236805,
           2085883,
           1783082,
           1670073,
           1592130,
           1485457,
           1457192,
           1429304,
           1100616,
           1093576,
           1081405,
           1059538,
           981392,
           916559,
           867567,
           848322,
           828201,
           808612,
           759025,
           717937,
           706775,
           660788,
           654813,
           652354,
           548972,
           547273,
           524878,
           518609,
           503734,
           471757,
           456815,
           447718,
           441056,
           430121,
           422703,
           418604,
           391971,
           386722,
           381336,
           380699,
           377704,
           363029,
           361079,
           337602,
           335609,
           325024,
           315409,
           303291,
           288138,
           288099,
           283409,
           279790,
           279381,
           279059,
           277318,
           276989,
           267505,
           257989,
           257678,
           256607,
           226756,
           223780,
           212013,
           208357,
           205238,
           190183,
           180549,
           173511,
           168915,
           155840,
           148797,
           143668,
           143128,
           138004,
           136643,
           133720,
           132616,
           131618,
           117409,
           108785,
           107879,
           104157,
           100543,
           98888,
           97728,
           93429,
           88674,
           87305,
           82363,
           80858,
           80153,
           76381,
           75405,
           72509,
           63615,
           62804,
           50848,
           50742,
           48959,
           47596,
           44909,
           42462,
           40713,
           40327,
           38239,
           36805,
           35236,
           33127,
           31612,
           31513,
           25806,
           25245,
           24252,
           23716,
           22049,
           21223,
           20489,
           19374,
           17340,
           17005,
           15328,
           15076,
           14492,
           14377,
           14167,
           13958,
           13613,
           13527,
           13274,
           12790,
           12153,
           12032,
           11621,
           10917,
           9960,
           8828,
           8767,
           8244,
           7142,
           6964,
           6555,
           6521,
           6347,
           6100,
           5723,
           5551,
           5439,
           5276,
           5094,
           4955,
           4213,
           3996,
           3969,
           3060,
           2976,
           2795,
           2648,
           2395,
           2370,
           2249,
           1858,
           1267,
           712,
           544,
           509,
           282,
           199,
           161,
           27,
           20,
           9,
           6,
           4,
           4,
           3,
           2,
           1,
           0
          ],
          "coloraxis": "coloraxis",
          "size": [
           33947230,
           30987880,
           19209729,
           5884395,
           5785542,
           5500151,
           5252655,
           4702657,
           4565372,
           4275846,
           4041474,
           3746935,
           3440400,
           2881046,
           2670046,
           2616827,
           2313705,
           2236805,
           2085883,
           1783082,
           1670073,
           1592130,
           1485457,
           1457192,
           1429304,
           1100616,
           1093576,
           1081405,
           1059538,
           981392,
           916559,
           867567,
           848322,
           828201,
           808612,
           759025,
           717937,
           706775,
           660788,
           654813,
           652354,
           548972,
           547273,
           524878,
           518609,
           503734,
           471757,
           456815,
           447718,
           441056,
           430121,
           422703,
           418604,
           391971,
           386722,
           381336,
           380699,
           377704,
           363029,
           361079,
           337602,
           335609,
           325024,
           315409,
           303291,
           288138,
           288099,
           283409,
           279790,
           279381,
           279059,
           277318,
           276989,
           267505,
           257989,
           257678,
           256607,
           226756,
           223780,
           212013,
           208357,
           205238,
           190183,
           180549,
           173511,
           168915,
           155840,
           148797,
           143668,
           143128,
           138004,
           136643,
           133720,
           132616,
           131618,
           117409,
           108785,
           107879,
           104157,
           100543,
           98888,
           97728,
           93429,
           88674,
           87305,
           82363,
           80858,
           80153,
           76381,
           75405,
           72509,
           63615,
           62804,
           50848,
           50742,
           48959,
           47596,
           44909,
           42462,
           40713,
           40327,
           38239,
           36805,
           35236,
           33127,
           31612,
           31513,
           25806,
           25245,
           24252,
           23716,
           22049,
           21223,
           20489,
           19374,
           17340,
           17005,
           15328,
           15076,
           14492,
           14377,
           14167,
           13958,
           13613,
           13527,
           13274,
           12790,
           12153,
           12032,
           11621,
           10917,
           9960,
           8828,
           8767,
           8244,
           7142,
           6964,
           6555,
           6521,
           6347,
           6100,
           5723,
           5551,
           5439,
           5276,
           5094,
           4955,
           4213,
           3996,
           3969,
           3060,
           2976,
           2795,
           2648,
           2395,
           2370,
           2249,
           1858,
           1267,
           712,
           544,
           509,
           282,
           199,
           161,
           27,
           20,
           9,
           6,
           4,
           4,
           3,
           2,
           1,
           0
          ],
          "sizemode": "area",
          "sizeref": 13578.892,
          "symbol": "circle"
         },
         "mode": "markers",
         "name": "",
         "showlegend": false,
         "type": "scattergeo"
        }
       ],
       "layout": {
        "coloraxis": {
         "colorbar": {
          "title": {
           "text": "Confirmed"
          }
         },
         "colorscale": [
          [
           0,
           "rgb(20,44,66)"
          ],
          [
           1,
           "rgb(90,179,244)"
          ]
         ]
        },
        "geo": {
         "center": {},
         "domain": {
          "x": [
           0,
           1
          ],
          "y": [
           0,
           1
          ]
         },
         "projection": {
          "type": "natural earth"
         }
        },
        "legend": {
         "itemsizing": "constant",
         "tracegroupgap": 0
        },
        "margin": {
         "t": 60
        },
        "template": {
         "data": {
          "bar": [
           {
            "error_x": {
             "color": "rgb(51,51,51)"
            },
            "error_y": {
             "color": "rgb(51,51,51)"
            },
            "marker": {
             "line": {
              "color": "rgb(237,237,237)",
              "width": 0.5
             },
             "pattern": {
              "fillmode": "overlay",
              "size": 10,
              "solidity": 0.2
             }
            },
            "type": "bar"
           }
          ],
          "barpolar": [
           {
            "marker": {
             "line": {
              "color": "rgb(237,237,237)",
              "width": 0.5
             },
             "pattern": {
              "fillmode": "overlay",
              "size": 10,
              "solidity": 0.2
             }
            },
            "type": "barpolar"
           }
          ],
          "carpet": [
           {
            "aaxis": {
             "endlinecolor": "rgb(51,51,51)",
             "gridcolor": "white",
             "linecolor": "white",
             "minorgridcolor": "white",
             "startlinecolor": "rgb(51,51,51)"
            },
            "baxis": {
             "endlinecolor": "rgb(51,51,51)",
             "gridcolor": "white",
             "linecolor": "white",
             "minorgridcolor": "white",
             "startlinecolor": "rgb(51,51,51)"
            },
            "type": "carpet"
           }
          ],
          "choropleth": [
           {
            "colorbar": {
             "outlinewidth": 0,
             "tickcolor": "rgb(237,237,237)",
             "ticklen": 6,
             "ticks": "inside"
            },
            "type": "choropleth"
           }
          ],
          "contour": [
           {
            "colorbar": {
             "outlinewidth": 0,
             "tickcolor": "rgb(237,237,237)",
             "ticklen": 6,
             "ticks": "inside"
            },
            "colorscale": [
             [
              0,
              "rgb(20,44,66)"
             ],
             [
              1,
              "rgb(90,179,244)"
             ]
            ],
            "type": "contour"
           }
          ],
          "contourcarpet": [
           {
            "colorbar": {
             "outlinewidth": 0,
             "tickcolor": "rgb(237,237,237)",
             "ticklen": 6,
             "ticks": "inside"
            },
            "type": "contourcarpet"
           }
          ],
          "heatmap": [
           {
            "colorbar": {
             "outlinewidth": 0,
             "tickcolor": "rgb(237,237,237)",
             "ticklen": 6,
             "ticks": "inside"
            },
            "colorscale": [
             [
              0,
              "rgb(20,44,66)"
             ],
             [
              1,
              "rgb(90,179,244)"
             ]
            ],
            "type": "heatmap"
           }
          ],
          "heatmapgl": [
           {
            "colorbar": {
             "outlinewidth": 0,
             "tickcolor": "rgb(237,237,237)",
             "ticklen": 6,
             "ticks": "inside"
            },
            "colorscale": [
             [
              0,
              "rgb(20,44,66)"
             ],
             [
              1,
              "rgb(90,179,244)"
             ]
            ],
            "type": "heatmapgl"
           }
          ],
          "histogram": [
           {
            "marker": {
             "pattern": {
              "fillmode": "overlay",
              "size": 10,
              "solidity": 0.2
             }
            },
            "type": "histogram"
           }
          ],
          "histogram2d": [
           {
            "colorbar": {
             "outlinewidth": 0,
             "tickcolor": "rgb(237,237,237)",
             "ticklen": 6,
             "ticks": "inside"
            },
            "colorscale": [
             [
              0,
              "rgb(20,44,66)"
             ],
             [
              1,
              "rgb(90,179,244)"
             ]
            ],
            "type": "histogram2d"
           }
          ],
          "histogram2dcontour": [
           {
            "colorbar": {
             "outlinewidth": 0,
             "tickcolor": "rgb(237,237,237)",
             "ticklen": 6,
             "ticks": "inside"
            },
            "colorscale": [
             [
              0,
              "rgb(20,44,66)"
             ],
             [
              1,
              "rgb(90,179,244)"
             ]
            ],
            "type": "histogram2dcontour"
           }
          ],
          "mesh3d": [
           {
            "colorbar": {
             "outlinewidth": 0,
             "tickcolor": "rgb(237,237,237)",
             "ticklen": 6,
             "ticks": "inside"
            },
            "type": "mesh3d"
           }
          ],
          "parcoords": [
           {
            "line": {
             "colorbar": {
              "outlinewidth": 0,
              "tickcolor": "rgb(237,237,237)",
              "ticklen": 6,
              "ticks": "inside"
             }
            },
            "type": "parcoords"
           }
          ],
          "pie": [
           {
            "automargin": true,
            "type": "pie"
           }
          ],
          "scatter": [
           {
            "marker": {
             "colorbar": {
              "outlinewidth": 0,
              "tickcolor": "rgb(237,237,237)",
              "ticklen": 6,
              "ticks": "inside"
             }
            },
            "type": "scatter"
           }
          ],
          "scatter3d": [
           {
            "line": {
             "colorbar": {
              "outlinewidth": 0,
              "tickcolor": "rgb(237,237,237)",
              "ticklen": 6,
              "ticks": "inside"
             }
            },
            "marker": {
             "colorbar": {
              "outlinewidth": 0,
              "tickcolor": "rgb(237,237,237)",
              "ticklen": 6,
              "ticks": "inside"
             }
            },
            "type": "scatter3d"
           }
          ],
          "scattercarpet": [
           {
            "marker": {
             "colorbar": {
              "outlinewidth": 0,
              "tickcolor": "rgb(237,237,237)",
              "ticklen": 6,
              "ticks": "inside"
             }
            },
            "type": "scattercarpet"
           }
          ],
          "scattergeo": [
           {
            "marker": {
             "colorbar": {
              "outlinewidth": 0,
              "tickcolor": "rgb(237,237,237)",
              "ticklen": 6,
              "ticks": "inside"
             }
            },
            "type": "scattergeo"
           }
          ],
          "scattergl": [
           {
            "marker": {
             "colorbar": {
              "outlinewidth": 0,
              "tickcolor": "rgb(237,237,237)",
              "ticklen": 6,
              "ticks": "inside"
             }
            },
            "type": "scattergl"
           }
          ],
          "scattermapbox": [
           {
            "marker": {
             "colorbar": {
              "outlinewidth": 0,
              "tickcolor": "rgb(237,237,237)",
              "ticklen": 6,
              "ticks": "inside"
             }
            },
            "type": "scattermapbox"
           }
          ],
          "scatterpolar": [
           {
            "marker": {
             "colorbar": {
              "outlinewidth": 0,
              "tickcolor": "rgb(237,237,237)",
              "ticklen": 6,
              "ticks": "inside"
             }
            },
            "type": "scatterpolar"
           }
          ],
          "scatterpolargl": [
           {
            "marker": {
             "colorbar": {
              "outlinewidth": 0,
              "tickcolor": "rgb(237,237,237)",
              "ticklen": 6,
              "ticks": "inside"
             }
            },
            "type": "scatterpolargl"
           }
          ],
          "scatterternary": [
           {
            "marker": {
             "colorbar": {
              "outlinewidth": 0,
              "tickcolor": "rgb(237,237,237)",
              "ticklen": 6,
              "ticks": "inside"
             }
            },
            "type": "scatterternary"
           }
          ],
          "surface": [
           {
            "colorbar": {
             "outlinewidth": 0,
             "tickcolor": "rgb(237,237,237)",
             "ticklen": 6,
             "ticks": "inside"
            },
            "colorscale": [
             [
              0,
              "rgb(20,44,66)"
             ],
             [
              1,
              "rgb(90,179,244)"
             ]
            ],
            "type": "surface"
           }
          ],
          "table": [
           {
            "cells": {
             "fill": {
              "color": "rgb(237,237,237)"
             },
             "line": {
              "color": "white"
             }
            },
            "header": {
             "fill": {
              "color": "rgb(217,217,217)"
             },
             "line": {
              "color": "white"
             }
            },
            "type": "table"
           }
          ]
         },
         "layout": {
          "annotationdefaults": {
           "arrowhead": 0,
           "arrowwidth": 1
          },
          "autotypenumbers": "strict",
          "coloraxis": {
           "colorbar": {
            "outlinewidth": 0,
            "tickcolor": "rgb(237,237,237)",
            "ticklen": 6,
            "ticks": "inside"
           }
          },
          "colorscale": {
           "sequential": [
            [
             0,
             "rgb(20,44,66)"
            ],
            [
             1,
             "rgb(90,179,244)"
            ]
           ],
           "sequentialminus": [
            [
             0,
             "rgb(20,44,66)"
            ],
            [
             1,
             "rgb(90,179,244)"
            ]
           ]
          },
          "colorway": [
           "#F8766D",
           "#A3A500",
           "#00BF7D",
           "#00B0F6",
           "#E76BF3"
          ],
          "font": {
           "color": "rgb(51,51,51)"
          },
          "geo": {
           "bgcolor": "white",
           "lakecolor": "white",
           "landcolor": "rgb(237,237,237)",
           "showlakes": true,
           "showland": true,
           "subunitcolor": "white"
          },
          "hoverlabel": {
           "align": "left"
          },
          "hovermode": "closest",
          "paper_bgcolor": "white",
          "plot_bgcolor": "rgb(237,237,237)",
          "polar": {
           "angularaxis": {
            "gridcolor": "white",
            "linecolor": "white",
            "showgrid": true,
            "tickcolor": "rgb(51,51,51)",
            "ticks": "outside"
           },
           "bgcolor": "rgb(237,237,237)",
           "radialaxis": {
            "gridcolor": "white",
            "linecolor": "white",
            "showgrid": true,
            "tickcolor": "rgb(51,51,51)",
            "ticks": "outside"
           }
          },
          "scene": {
           "xaxis": {
            "backgroundcolor": "rgb(237,237,237)",
            "gridcolor": "white",
            "gridwidth": 2,
            "linecolor": "white",
            "showbackground": true,
            "showgrid": true,
            "tickcolor": "rgb(51,51,51)",
            "ticks": "outside",
            "zerolinecolor": "white"
           },
           "yaxis": {
            "backgroundcolor": "rgb(237,237,237)",
            "gridcolor": "white",
            "gridwidth": 2,
            "linecolor": "white",
            "showbackground": true,
            "showgrid": true,
            "tickcolor": "rgb(51,51,51)",
            "ticks": "outside",
            "zerolinecolor": "white"
           },
           "zaxis": {
            "backgroundcolor": "rgb(237,237,237)",
            "gridcolor": "white",
            "gridwidth": 2,
            "linecolor": "white",
            "showbackground": true,
            "showgrid": true,
            "tickcolor": "rgb(51,51,51)",
            "ticks": "outside",
            "zerolinecolor": "white"
           }
          },
          "shapedefaults": {
           "fillcolor": "black",
           "line": {
            "width": 0
           },
           "opacity": 0.3
          },
          "ternary": {
           "aaxis": {
            "gridcolor": "white",
            "linecolor": "white",
            "showgrid": true,
            "tickcolor": "rgb(51,51,51)",
            "ticks": "outside"
           },
           "baxis": {
            "gridcolor": "white",
            "linecolor": "white",
            "showgrid": true,
            "tickcolor": "rgb(51,51,51)",
            "ticks": "outside"
           },
           "bgcolor": "rgb(237,237,237)",
           "caxis": {
            "gridcolor": "white",
            "linecolor": "white",
            "showgrid": true,
            "tickcolor": "rgb(51,51,51)",
            "ticks": "outside"
           }
          },
          "xaxis": {
           "automargin": true,
           "gridcolor": "white",
           "linecolor": "white",
           "showgrid": true,
           "tickcolor": "rgb(51,51,51)",
           "ticks": "outside",
           "title": {
            "standoff": 15
           },
           "zerolinecolor": "white"
          },
          "yaxis": {
           "automargin": true,
           "gridcolor": "white",
           "linecolor": "white",
           "showgrid": true,
           "tickcolor": "rgb(51,51,51)",
           "ticks": "outside",
           "title": {
            "standoff": 15
           },
           "zerolinecolor": "white"
          }
         }
        }
       }
      },
      "text/html": [
       "<div>                            <div id=\"6caecac5-87ce-4d4a-a7ce-73f10a1e897a\" class=\"plotly-graph-div\" style=\"height:525px; width:100%;\"></div>            <script type=\"text/javascript\">                require([\"plotly\"], function(Plotly) {                    window.PLOTLYENV=window.PLOTLYENV || {};                                    if (document.getElementById(\"6caecac5-87ce-4d4a-a7ce-73f10a1e897a\")) {                    Plotly.newPlot(                        \"6caecac5-87ce-4d4a-a7ce-73f10a1e897a\",                        [{\"customdata\":[[33947230,608115,33339115.0,\"US\"],[30987880,411989,30143850.0,\"India\"],[19209729,537394,17128429.0,\"Brazil\"],[5884395,111609,407965.0,\"France\"],[5785542,142877,5195394.0,\"Russia\"],[5500151,50367,5365075.0,\"Turkey\"],[5252655,128797,16127.0,\"United Kingdom\"],[4702657,100250,4326403.0,\"Argentina\"],[4565372,114337,4317436.0,\"Colombia\"],[4275846,127831,4106315.0,\"Italy\"],[4041474,81043,150376.0,\"Spain\"],[3746935,91326,3635420.0,\"Germany\"],[3440400,86391,3069943.0,\"Iran\"],[2881046,75179,2652581.0,\"Poland\"],[2670046,69210,2157363.0,\"Indonesia\"],[2616827,235507,2061595.0,\"Mexico\"],[2313705,55066,2241165.0,\"Ukraine\"],[2236805,65595,1970516.0,\"South Africa\"],[2085883,194752,2047805.0,\"Peru\"],[1783082,18055,27490.0,\"Netherlands\"],[1670073,30335,1637367.0,\"Czechia\"],[1592130,34049,1543171.0,\"Chile\"],[1485457,26232,1414817.0,\"Philippines\"],[1457192,17677,1326073.0,\"Iraq\"],[1429304,26427,1397993.0,\"Canada\"],[1100616,25207,0.0,\"Belgium\"],[1093576,14642,0.0,\"Sweden\"],[1081405,34242,1046537.0,\"Romania\"],[1059538,17052,897412.0,\"Bangladesh\"],[981392,22689,916373.0,\"Pakistan\"],[916559,17182,852269.0,\"Portugal\"],[867567,6503,759705.0,\"Malaysia\"],[848322,6441,836556.0,\"Israel\"],[828201,14943,789749.0,\"Japan\"],[808612,30013,741896.0,\"Hungary\"],[759025,9864,741540.0,\"Jordan\"],[717937,7077,0.0,\"Serbia\"],[706775,10901,317600.0,\"Switzerland\"],[660788,9430,624711.0,\"Nepal\"],[654813,1880,632775.0,\"United Arab Emirates\"],[652354,10726,639154.0,\"Austria\"],[548972,7881,534768.0,\"Lebanon\"],[547273,9404,527256.0,\"Morocco\"],[524878,3584,471323.0,\"Kazakhstan\"],[518609,16845,413155.0,\"Tunisia\"],[503734,8006,484883.0,\"Saudi Arabia\"],[471757,21850,437167.0,\"Ecuador\"],[456815,17287,383441.0,\"Bolivia\"],[447718,12789,93764.0,\"Greece\"],[441056,14066,397953.0,\"Paraguay\"],[430121,3287,423404.0,\"Belarus\"],[422703,18158,397003.0,\"Bulgaria\"],[418604,6661,398300.0,\"Panama\"],[391971,12523,255300.0,\"Slovakia\"],[386722,4842,311761.0,\"Costa Rica\"],[381336,5492,361327.0,\"Georgia\"],[380699,2158,360746.0,\"Kuwait\"],[377704,5854,365852.0,\"Uruguay\"],[363029,2934,26873.0,\"Thailand\"],[361079,8233,352251.0,\"Croatia\"],[337602,4988,330946.0,\"Azerbaijan\"],[335609,3900,276843.0,\"Dominican Republic\"],[325024,9798,284613.0,\"Guatemala\"],[315409,3585,310239.0,\"West Bank and Gaza\"],[303291,2540,292069.0,\"Denmark\"],[288138,3484,262174.0,\"Oman\"],[288099,3327,270996.0,\"Venezuela\"],[283409,16418,220530.0,\"Egypt\"],[279790,5018,23364.0,\"Ireland\"],[279381,4402,268230.0,\"Lithuania\"],[279059,3611,253014.0,\"Sri Lanka\"],[277318,4349,262167.0,\"Ethiopia\"],[276989,7356,95000.0,\"Honduras\"],[267505,1378,265129.0,\"Bahrain\"],[257989,4425,252914.0,\"Slovenia\"],[257678,6217,250628.0,\"Moldova\"],[256607,1659,215979.0,\"Cuba\"],[226756,4552,217896.0,\"Armenia\"],[223780,599,221665.0,\"Qatar\"],[212013,3248,181987.0,\"Libya\"],[208357,4181,151442.0,\"Burma\"],[205238,9664,186382.0,\"Bosnia and Herzegovina\"],[190183,3737,180624.0,\"Kenya\"],[180549,2949,164924.0,\"Zambia\"],[173511,2050,156509.0,\"Korea, South\"],[168915,2125,164652.0,\"Nigeria\"],[155840,5487,150146.0,\"North Macedonia\"],[148797,3882,103192.0,\"Algeria\"],[143668,2133,120731.0,\"Kyrgyzstan\"],[143128,707,118219.0,\"Mongolia\"],[138004,2540,134916.0,\"Latvia\"],[136643,5923,82586.0,\"Afghanistan\"],[133720,796,17998.0,\"Norway\"],[132616,2456,130059.0,\"Albania\"],[131618,1270,128042.0,\"Estonia\"],[117409,781,112546.0,\"Uzbekistan\"],[108785,2240,80421.0,\"Namibia\"],[107879,2268,105509.0,\"Kosovo\"],[104157,4848,98727.0,\"China\"],[100543,1621,98599.0,\"Montenegro\"],[98888,978,46000.0,\"Finland\"],[97728,802,94612.0,\"Ghana\"],[93429,1033,74392.0,\"Mozambique\"],[88674,2203,63140.0,\"Uganda\"],[87305,383,39061.0,\"Cyprus\"],[82363,2464,74851.0,\"El Salvador\"],[80858,1324,35261.0,\"Cameroon\"],[80153,1253,69931.0,\"Botswana\"],[76381,2332,49053.0,\"Zimbabwe\"],[75405,214,72678.0,\"Maldives\"],[72509,819,69949.0,\"Luxembourg\"],[63615,986,55365.0,\"Cambodia\"],[62804,36,62467.0,\"Singapore\"],[50848,1134,42122.0,\"Jamaica\"],[50742,607,35582.0,\"Rwanda\"],[48959,319,48331.0,\"Cote d'Ivoire\"],[47596,1203,42685.0,\"Senegal\"],[44909,984,28801.0,\"Congo (Kinshasa)\"],[42462,933,40845.0,\"Madagascar\"],[40713,1276,34139.0,\"Malawi\"],[40327,946,34584.0,\"Angola\"],[38239,138,9624.0,\"Vietnam\"],[36805,2774,30647.0,\"Sudan\"],[35236,963,28451.0,\"Trinidad and Tobago\"],[33127,292,32276.0,\"Cabo Verde\"],[31612,420,30192.0,\"Malta\"],[31513,912,23911.0,\"Australia\"],[25806,1901,21896.0,\"Syria\"],[25245,162,24964.0,\"Gabon\"],[24252,183,23459.0,\"Guinea\"],[23716,597,19703.0,\"Suriname\"],[22049,499,20470.0,\"Mauritania\"],[21223,503,19435.0,\"Guyana\"],[20489,696,18557.0,\"Eswatini\"],[19374,487,12961.0,\"Haiti\"],[17340,179,16975.0,\"Papua New Guinea\"],[17005,77,16072.0,\"Seychelles\"],[15328,753,11964.0,\"Taiwan*\"],[15076,781,7267.0,\"Somalia\"],[14492,528,10908.0,\"Mali\"],[14377,134,13746.0,\"Togo\"],[14167,127,13796.0,\"Andorra\"],[13958,109,13600.0,\"Tajikistan\"],[13613,331,12996.0,\"Belize\"],[13527,169,13333.0,\"Burkina Faso\"],[13274,256,12035.0,\"Bahamas\"],[12790,167,11759.0,\"Congo (Brazzaville)\"],[12153,338,6601.0,\"Lesotho\"],[12032,59,2221.0,\"Fiji\"],[11621,155,11457.0,\"Djibouti\"],[10917,117,10514.0,\"South Sudan\"],[9960,25,9021.0,\"Timor-Leste\"],[8828,123,8591.0,\"Equatorial Guinea\"],[8767,193,4225.0,\"Nicaragua\"],[8244,107,8081.0,\"Benin\"],[7142,98,6859.0,\"Central African Republic\"],[6964,1366,4151.0,\"Yemen\"],[6555,29,6476.0,\"Iceland\"],[6521,188,5962.0,\"Gambia\"],[6347,30,5948.0,\"Eritrea\"],[6100,113,4035.0,\"Sierra Leone\"],[5723,8,773.0,\"Burundi\"],[5551,194,5253.0,\"Niger\"],[5439,87,5230.0,\"Saint Lucia\"],[5276,144,2622.0,\"Liberia\"],[5094,90,5002.0,\"San Marino\"],[4955,174,4777.0,\"Chad\"],[4213,48,4074.0,\"Barbados\"],[3996,146,3798.0,\"Comoros\"],[3969,70,3651.0,\"Guinea-Bissau\"],[3060,59,2984.0,\"Liechtenstein\"],[2976,3,2174.0,\"Laos\"],[2795,26,2723.0,\"New Zealand\"],[2648,33,2555.0,\"Monaco\"],[2395,37,2327.0,\"Sao Tome and Principe\"],[2370,1,2018.0,\"Bhutan\"],[2249,12,2159.0,\"Saint Vincent and the Grenadines\"],[1858,18,1534.0,\"Mauritius\"],[1267,42,1222.0,\"Antigua and Barbuda\"],[712,13,699.0,\"Diamond Princess\"],[544,3,435.0,\"Saint Kitts and Nevis\"],[509,21,183.0,\"Tanzania\"],[282,3,256.0,\"Brunei\"],[199,0,194.0,\"Dominica\"],[161,1,160.0,\"Grenada\"],[27,0,27.0,\"Holy See\"],[20,0,20.0,\"Solomon Islands\"],[9,2,7.0,\"MS Zaandam\"],[6,0,0.0,\"Summer Olympics 2020\"],[4,1,3.0,\"Vanuatu\"],[4,0,4.0,\"Marshall Islands\"],[3,0,3.0,\"Samoa\"],[2,0,0.0,\"Kiribati\"],[1,0,1.0,\"Micronesia\"],[0,0,0.0,\"Palau\"]],\"geo\":\"geo\",\"hovertemplate\":\"<b>%{hovertext}</b><br><br>Confirmed=%{marker.color:,2f}<br>Deaths=%{customdata[1]:,2f}<br>Recovered=%{customdata[2]:,2f}<extra></extra>\",\"hovertext\":[\"US\",\"India\",\"Brazil\",\"France\",\"Russia\",\"Turkey\",\"United Kingdom\",\"Argentina\",\"Colombia\",\"Italy\",\"Spain\",\"Germany\",\"Iran\",\"Poland\",\"Indonesia\",\"Mexico\",\"Ukraine\",\"South Africa\",\"Peru\",\"Netherlands\",\"Czechia\",\"Chile\",\"Philippines\",\"Iraq\",\"Canada\",\"Belgium\",\"Sweden\",\"Romania\",\"Bangladesh\",\"Pakistan\",\"Portugal\",\"Malaysia\",\"Israel\",\"Japan\",\"Hungary\",\"Jordan\",\"Serbia\",\"Switzerland\",\"Nepal\",\"United Arab Emirates\",\"Austria\",\"Lebanon\",\"Morocco\",\"Kazakhstan\",\"Tunisia\",\"Saudi Arabia\",\"Ecuador\",\"Bolivia\",\"Greece\",\"Paraguay\",\"Belarus\",\"Bulgaria\",\"Panama\",\"Slovakia\",\"Costa Rica\",\"Georgia\",\"Kuwait\",\"Uruguay\",\"Thailand\",\"Croatia\",\"Azerbaijan\",\"Dominican Republic\",\"Guatemala\",\"West Bank and Gaza\",\"Denmark\",\"Oman\",\"Venezuela\",\"Egypt\",\"Ireland\",\"Lithuania\",\"Sri Lanka\",\"Ethiopia\",\"Honduras\",\"Bahrain\",\"Slovenia\",\"Moldova\",\"Cuba\",\"Armenia\",\"Qatar\",\"Libya\",\"Burma\",\"Bosnia and Herzegovina\",\"Kenya\",\"Zambia\",\"Korea, South\",\"Nigeria\",\"North Macedonia\",\"Algeria\",\"Kyrgyzstan\",\"Mongolia\",\"Latvia\",\"Afghanistan\",\"Norway\",\"Albania\",\"Estonia\",\"Uzbekistan\",\"Namibia\",\"Kosovo\",\"China\",\"Montenegro\",\"Finland\",\"Ghana\",\"Mozambique\",\"Uganda\",\"Cyprus\",\"El Salvador\",\"Cameroon\",\"Botswana\",\"Zimbabwe\",\"Maldives\",\"Luxembourg\",\"Cambodia\",\"Singapore\",\"Jamaica\",\"Rwanda\",\"Cote d'Ivoire\",\"Senegal\",\"Congo (Kinshasa)\",\"Madagascar\",\"Malawi\",\"Angola\",\"Vietnam\",\"Sudan\",\"Trinidad and Tobago\",\"Cabo Verde\",\"Malta\",\"Australia\",\"Syria\",\"Gabon\",\"Guinea\",\"Suriname\",\"Mauritania\",\"Guyana\",\"Eswatini\",\"Haiti\",\"Papua New Guinea\",\"Seychelles\",\"Taiwan*\",\"Somalia\",\"Mali\",\"Togo\",\"Andorra\",\"Tajikistan\",\"Belize\",\"Burkina Faso\",\"Bahamas\",\"Congo (Brazzaville)\",\"Lesotho\",\"Fiji\",\"Djibouti\",\"South Sudan\",\"Timor-Leste\",\"Equatorial Guinea\",\"Nicaragua\",\"Benin\",\"Central African Republic\",\"Yemen\",\"Iceland\",\"Gambia\",\"Eritrea\",\"Sierra Leone\",\"Burundi\",\"Niger\",\"Saint Lucia\",\"Liberia\",\"San Marino\",\"Chad\",\"Barbados\",\"Comoros\",\"Guinea-Bissau\",\"Liechtenstein\",\"Laos\",\"New Zealand\",\"Monaco\",\"Sao Tome and Principe\",\"Bhutan\",\"Saint Vincent and the Grenadines\",\"Mauritius\",\"Antigua and Barbuda\",\"Diamond Princess\",\"Saint Kitts and Nevis\",\"Tanzania\",\"Brunei\",\"Dominica\",\"Grenada\",\"Holy See\",\"Solomon Islands\",\"MS Zaandam\",\"Summer Olympics 2020\",\"Vanuatu\",\"Marshall Islands\",\"Samoa\",\"Kiribati\",\"Micronesia\",\"Palau\"],\"legendgroup\":\"\",\"locationmode\":\"country names\",\"locations\":[\"US\",\"India\",\"Brazil\",\"France\",\"Russia\",\"Turkey\",\"United Kingdom\",\"Argentina\",\"Colombia\",\"Italy\",\"Spain\",\"Germany\",\"Iran\",\"Poland\",\"Indonesia\",\"Mexico\",\"Ukraine\",\"South Africa\",\"Peru\",\"Netherlands\",\"Czechia\",\"Chile\",\"Philippines\",\"Iraq\",\"Canada\",\"Belgium\",\"Sweden\",\"Romania\",\"Bangladesh\",\"Pakistan\",\"Portugal\",\"Malaysia\",\"Israel\",\"Japan\",\"Hungary\",\"Jordan\",\"Serbia\",\"Switzerland\",\"Nepal\",\"United Arab Emirates\",\"Austria\",\"Lebanon\",\"Morocco\",\"Kazakhstan\",\"Tunisia\",\"Saudi Arabia\",\"Ecuador\",\"Bolivia\",\"Greece\",\"Paraguay\",\"Belarus\",\"Bulgaria\",\"Panama\",\"Slovakia\",\"Costa Rica\",\"Georgia\",\"Kuwait\",\"Uruguay\",\"Thailand\",\"Croatia\",\"Azerbaijan\",\"Dominican Republic\",\"Guatemala\",\"West Bank and Gaza\",\"Denmark\",\"Oman\",\"Venezuela\",\"Egypt\",\"Ireland\",\"Lithuania\",\"Sri Lanka\",\"Ethiopia\",\"Honduras\",\"Bahrain\",\"Slovenia\",\"Moldova\",\"Cuba\",\"Armenia\",\"Qatar\",\"Libya\",\"Burma\",\"Bosnia and Herzegovina\",\"Kenya\",\"Zambia\",\"Korea, South\",\"Nigeria\",\"North Macedonia\",\"Algeria\",\"Kyrgyzstan\",\"Mongolia\",\"Latvia\",\"Afghanistan\",\"Norway\",\"Albania\",\"Estonia\",\"Uzbekistan\",\"Namibia\",\"Kosovo\",\"China\",\"Montenegro\",\"Finland\",\"Ghana\",\"Mozambique\",\"Uganda\",\"Cyprus\",\"El Salvador\",\"Cameroon\",\"Botswana\",\"Zimbabwe\",\"Maldives\",\"Luxembourg\",\"Cambodia\",\"Singapore\",\"Jamaica\",\"Rwanda\",\"Cote d'Ivoire\",\"Senegal\",\"Congo (Kinshasa)\",\"Madagascar\",\"Malawi\",\"Angola\",\"Vietnam\",\"Sudan\",\"Trinidad and Tobago\",\"Cabo Verde\",\"Malta\",\"Australia\",\"Syria\",\"Gabon\",\"Guinea\",\"Suriname\",\"Mauritania\",\"Guyana\",\"Eswatini\",\"Haiti\",\"Papua New Guinea\",\"Seychelles\",\"Taiwan*\",\"Somalia\",\"Mali\",\"Togo\",\"Andorra\",\"Tajikistan\",\"Belize\",\"Burkina Faso\",\"Bahamas\",\"Congo (Brazzaville)\",\"Lesotho\",\"Fiji\",\"Djibouti\",\"South Sudan\",\"Timor-Leste\",\"Equatorial Guinea\",\"Nicaragua\",\"Benin\",\"Central African Republic\",\"Yemen\",\"Iceland\",\"Gambia\",\"Eritrea\",\"Sierra Leone\",\"Burundi\",\"Niger\",\"Saint Lucia\",\"Liberia\",\"San Marino\",\"Chad\",\"Barbados\",\"Comoros\",\"Guinea-Bissau\",\"Liechtenstein\",\"Laos\",\"New Zealand\",\"Monaco\",\"Sao Tome and Principe\",\"Bhutan\",\"Saint Vincent and the Grenadines\",\"Mauritius\",\"Antigua and Barbuda\",\"Diamond Princess\",\"Saint Kitts and Nevis\",\"Tanzania\",\"Brunei\",\"Dominica\",\"Grenada\",\"Holy See\",\"Solomon Islands\",\"MS Zaandam\",\"Summer Olympics 2020\",\"Vanuatu\",\"Marshall Islands\",\"Samoa\",\"Kiribati\",\"Micronesia\",\"Palau\"],\"marker\":{\"color\":[33947230,30987880,19209729,5884395,5785542,5500151,5252655,4702657,4565372,4275846,4041474,3746935,3440400,2881046,2670046,2616827,2313705,2236805,2085883,1783082,1670073,1592130,1485457,1457192,1429304,1100616,1093576,1081405,1059538,981392,916559,867567,848322,828201,808612,759025,717937,706775,660788,654813,652354,548972,547273,524878,518609,503734,471757,456815,447718,441056,430121,422703,418604,391971,386722,381336,380699,377704,363029,361079,337602,335609,325024,315409,303291,288138,288099,283409,279790,279381,279059,277318,276989,267505,257989,257678,256607,226756,223780,212013,208357,205238,190183,180549,173511,168915,155840,148797,143668,143128,138004,136643,133720,132616,131618,117409,108785,107879,104157,100543,98888,97728,93429,88674,87305,82363,80858,80153,76381,75405,72509,63615,62804,50848,50742,48959,47596,44909,42462,40713,40327,38239,36805,35236,33127,31612,31513,25806,25245,24252,23716,22049,21223,20489,19374,17340,17005,15328,15076,14492,14377,14167,13958,13613,13527,13274,12790,12153,12032,11621,10917,9960,8828,8767,8244,7142,6964,6555,6521,6347,6100,5723,5551,5439,5276,5094,4955,4213,3996,3969,3060,2976,2795,2648,2395,2370,2249,1858,1267,712,544,509,282,199,161,27,20,9,6,4,4,3,2,1,0],\"coloraxis\":\"coloraxis\",\"size\":[33947230,30987880,19209729,5884395,5785542,5500151,5252655,4702657,4565372,4275846,4041474,3746935,3440400,2881046,2670046,2616827,2313705,2236805,2085883,1783082,1670073,1592130,1485457,1457192,1429304,1100616,1093576,1081405,1059538,981392,916559,867567,848322,828201,808612,759025,717937,706775,660788,654813,652354,548972,547273,524878,518609,503734,471757,456815,447718,441056,430121,422703,418604,391971,386722,381336,380699,377704,363029,361079,337602,335609,325024,315409,303291,288138,288099,283409,279790,279381,279059,277318,276989,267505,257989,257678,256607,226756,223780,212013,208357,205238,190183,180549,173511,168915,155840,148797,143668,143128,138004,136643,133720,132616,131618,117409,108785,107879,104157,100543,98888,97728,93429,88674,87305,82363,80858,80153,76381,75405,72509,63615,62804,50848,50742,48959,47596,44909,42462,40713,40327,38239,36805,35236,33127,31612,31513,25806,25245,24252,23716,22049,21223,20489,19374,17340,17005,15328,15076,14492,14377,14167,13958,13613,13527,13274,12790,12153,12032,11621,10917,9960,8828,8767,8244,7142,6964,6555,6521,6347,6100,5723,5551,5439,5276,5094,4955,4213,3996,3969,3060,2976,2795,2648,2395,2370,2249,1858,1267,712,544,509,282,199,161,27,20,9,6,4,4,3,2,1,0],\"sizemode\":\"area\",\"sizeref\":13578.892,\"symbol\":\"circle\"},\"mode\":\"markers\",\"name\":\"\",\"showlegend\":false,\"type\":\"scattergeo\"}],                        {\"coloraxis\":{\"colorbar\":{\"title\":{\"text\":\"Confirmed\"}},\"colorscale\":[[0.0,\"rgb(20,44,66)\"],[1.0,\"rgb(90,179,244)\"]]},\"geo\":{\"center\":{},\"domain\":{\"x\":[0.0,1.0],\"y\":[0.0,1.0]},\"projection\":{\"type\":\"natural earth\"}},\"legend\":{\"itemsizing\":\"constant\",\"tracegroupgap\":0},\"margin\":{\"t\":60},\"template\":{\"data\":{\"bar\":[{\"error_x\":{\"color\":\"rgb(51,51,51)\"},\"error_y\":{\"color\":\"rgb(51,51,51)\"},\"marker\":{\"line\":{\"color\":\"rgb(237,237,237)\",\"width\":0.5},\"pattern\":{\"fillmode\":\"overlay\",\"size\":10,\"solidity\":0.2}},\"type\":\"bar\"}],\"barpolar\":[{\"marker\":{\"line\":{\"color\":\"rgb(237,237,237)\",\"width\":0.5},\"pattern\":{\"fillmode\":\"overlay\",\"size\":10,\"solidity\":0.2}},\"type\":\"barpolar\"}],\"carpet\":[{\"aaxis\":{\"endlinecolor\":\"rgb(51,51,51)\",\"gridcolor\":\"white\",\"linecolor\":\"white\",\"minorgridcolor\":\"white\",\"startlinecolor\":\"rgb(51,51,51)\"},\"baxis\":{\"endlinecolor\":\"rgb(51,51,51)\",\"gridcolor\":\"white\",\"linecolor\":\"white\",\"minorgridcolor\":\"white\",\"startlinecolor\":\"rgb(51,51,51)\"},\"type\":\"carpet\"}],\"choropleth\":[{\"colorbar\":{\"outlinewidth\":0,\"tickcolor\":\"rgb(237,237,237)\",\"ticklen\":6,\"ticks\":\"inside\"},\"type\":\"choropleth\"}],\"contour\":[{\"colorbar\":{\"outlinewidth\":0,\"tickcolor\":\"rgb(237,237,237)\",\"ticklen\":6,\"ticks\":\"inside\"},\"colorscale\":[[0,\"rgb(20,44,66)\"],[1,\"rgb(90,179,244)\"]],\"type\":\"contour\"}],\"contourcarpet\":[{\"colorbar\":{\"outlinewidth\":0,\"tickcolor\":\"rgb(237,237,237)\",\"ticklen\":6,\"ticks\":\"inside\"},\"type\":\"contourcarpet\"}],\"heatmap\":[{\"colorbar\":{\"outlinewidth\":0,\"tickcolor\":\"rgb(237,237,237)\",\"ticklen\":6,\"ticks\":\"inside\"},\"colorscale\":[[0,\"rgb(20,44,66)\"],[1,\"rgb(90,179,244)\"]],\"type\":\"heatmap\"}],\"heatmapgl\":[{\"colorbar\":{\"outlinewidth\":0,\"tickcolor\":\"rgb(237,237,237)\",\"ticklen\":6,\"ticks\":\"inside\"},\"colorscale\":[[0,\"rgb(20,44,66)\"],[1,\"rgb(90,179,244)\"]],\"type\":\"heatmapgl\"}],\"histogram\":[{\"marker\":{\"pattern\":{\"fillmode\":\"overlay\",\"size\":10,\"solidity\":0.2}},\"type\":\"histogram\"}],\"histogram2d\":[{\"colorbar\":{\"outlinewidth\":0,\"tickcolor\":\"rgb(237,237,237)\",\"ticklen\":6,\"ticks\":\"inside\"},\"colorscale\":[[0,\"rgb(20,44,66)\"],[1,\"rgb(90,179,244)\"]],\"type\":\"histogram2d\"}],\"histogram2dcontour\":[{\"colorbar\":{\"outlinewidth\":0,\"tickcolor\":\"rgb(237,237,237)\",\"ticklen\":6,\"ticks\":\"inside\"},\"colorscale\":[[0,\"rgb(20,44,66)\"],[1,\"rgb(90,179,244)\"]],\"type\":\"histogram2dcontour\"}],\"mesh3d\":[{\"colorbar\":{\"outlinewidth\":0,\"tickcolor\":\"rgb(237,237,237)\",\"ticklen\":6,\"ticks\":\"inside\"},\"type\":\"mesh3d\"}],\"parcoords\":[{\"line\":{\"colorbar\":{\"outlinewidth\":0,\"tickcolor\":\"rgb(237,237,237)\",\"ticklen\":6,\"ticks\":\"inside\"}},\"type\":\"parcoords\"}],\"pie\":[{\"automargin\":true,\"type\":\"pie\"}],\"scatter\":[{\"marker\":{\"colorbar\":{\"outlinewidth\":0,\"tickcolor\":\"rgb(237,237,237)\",\"ticklen\":6,\"ticks\":\"inside\"}},\"type\":\"scatter\"}],\"scatter3d\":[{\"line\":{\"colorbar\":{\"outlinewidth\":0,\"tickcolor\":\"rgb(237,237,237)\",\"ticklen\":6,\"ticks\":\"inside\"}},\"marker\":{\"colorbar\":{\"outlinewidth\":0,\"tickcolor\":\"rgb(237,237,237)\",\"ticklen\":6,\"ticks\":\"inside\"}},\"type\":\"scatter3d\"}],\"scattercarpet\":[{\"marker\":{\"colorbar\":{\"outlinewidth\":0,\"tickcolor\":\"rgb(237,237,237)\",\"ticklen\":6,\"ticks\":\"inside\"}},\"type\":\"scattercarpet\"}],\"scattergeo\":[{\"marker\":{\"colorbar\":{\"outlinewidth\":0,\"tickcolor\":\"rgb(237,237,237)\",\"ticklen\":6,\"ticks\":\"inside\"}},\"type\":\"scattergeo\"}],\"scattergl\":[{\"marker\":{\"colorbar\":{\"outlinewidth\":0,\"tickcolor\":\"rgb(237,237,237)\",\"ticklen\":6,\"ticks\":\"inside\"}},\"type\":\"scattergl\"}],\"scattermapbox\":[{\"marker\":{\"colorbar\":{\"outlinewidth\":0,\"tickcolor\":\"rgb(237,237,237)\",\"ticklen\":6,\"ticks\":\"inside\"}},\"type\":\"scattermapbox\"}],\"scatterpolar\":[{\"marker\":{\"colorbar\":{\"outlinewidth\":0,\"tickcolor\":\"rgb(237,237,237)\",\"ticklen\":6,\"ticks\":\"inside\"}},\"type\":\"scatterpolar\"}],\"scatterpolargl\":[{\"marker\":{\"colorbar\":{\"outlinewidth\":0,\"tickcolor\":\"rgb(237,237,237)\",\"ticklen\":6,\"ticks\":\"inside\"}},\"type\":\"scatterpolargl\"}],\"scatterternary\":[{\"marker\":{\"colorbar\":{\"outlinewidth\":0,\"tickcolor\":\"rgb(237,237,237)\",\"ticklen\":6,\"ticks\":\"inside\"}},\"type\":\"scatterternary\"}],\"surface\":[{\"colorbar\":{\"outlinewidth\":0,\"tickcolor\":\"rgb(237,237,237)\",\"ticklen\":6,\"ticks\":\"inside\"},\"colorscale\":[[0,\"rgb(20,44,66)\"],[1,\"rgb(90,179,244)\"]],\"type\":\"surface\"}],\"table\":[{\"cells\":{\"fill\":{\"color\":\"rgb(237,237,237)\"},\"line\":{\"color\":\"white\"}},\"header\":{\"fill\":{\"color\":\"rgb(217,217,217)\"},\"line\":{\"color\":\"white\"}},\"type\":\"table\"}]},\"layout\":{\"annotationdefaults\":{\"arrowhead\":0,\"arrowwidth\":1},\"autotypenumbers\":\"strict\",\"coloraxis\":{\"colorbar\":{\"outlinewidth\":0,\"tickcolor\":\"rgb(237,237,237)\",\"ticklen\":6,\"ticks\":\"inside\"}},\"colorscale\":{\"sequential\":[[0,\"rgb(20,44,66)\"],[1,\"rgb(90,179,244)\"]],\"sequentialminus\":[[0,\"rgb(20,44,66)\"],[1,\"rgb(90,179,244)\"]]},\"colorway\":[\"#F8766D\",\"#A3A500\",\"#00BF7D\",\"#00B0F6\",\"#E76BF3\"],\"font\":{\"color\":\"rgb(51,51,51)\"},\"geo\":{\"bgcolor\":\"white\",\"lakecolor\":\"white\",\"landcolor\":\"rgb(237,237,237)\",\"showlakes\":true,\"showland\":true,\"subunitcolor\":\"white\"},\"hoverlabel\":{\"align\":\"left\"},\"hovermode\":\"closest\",\"paper_bgcolor\":\"white\",\"plot_bgcolor\":\"rgb(237,237,237)\",\"polar\":{\"angularaxis\":{\"gridcolor\":\"white\",\"linecolor\":\"white\",\"showgrid\":true,\"tickcolor\":\"rgb(51,51,51)\",\"ticks\":\"outside\"},\"bgcolor\":\"rgb(237,237,237)\",\"radialaxis\":{\"gridcolor\":\"white\",\"linecolor\":\"white\",\"showgrid\":true,\"tickcolor\":\"rgb(51,51,51)\",\"ticks\":\"outside\"}},\"scene\":{\"xaxis\":{\"backgroundcolor\":\"rgb(237,237,237)\",\"gridcolor\":\"white\",\"gridwidth\":2,\"linecolor\":\"white\",\"showbackground\":true,\"showgrid\":true,\"tickcolor\":\"rgb(51,51,51)\",\"ticks\":\"outside\",\"zerolinecolor\":\"white\"},\"yaxis\":{\"backgroundcolor\":\"rgb(237,237,237)\",\"gridcolor\":\"white\",\"gridwidth\":2,\"linecolor\":\"white\",\"showbackground\":true,\"showgrid\":true,\"tickcolor\":\"rgb(51,51,51)\",\"ticks\":\"outside\",\"zerolinecolor\":\"white\"},\"zaxis\":{\"backgroundcolor\":\"rgb(237,237,237)\",\"gridcolor\":\"white\",\"gridwidth\":2,\"linecolor\":\"white\",\"showbackground\":true,\"showgrid\":true,\"tickcolor\":\"rgb(51,51,51)\",\"ticks\":\"outside\",\"zerolinecolor\":\"white\"}},\"shapedefaults\":{\"fillcolor\":\"black\",\"line\":{\"width\":0},\"opacity\":0.3},\"ternary\":{\"aaxis\":{\"gridcolor\":\"white\",\"linecolor\":\"white\",\"showgrid\":true,\"tickcolor\":\"rgb(51,51,51)\",\"ticks\":\"outside\"},\"baxis\":{\"gridcolor\":\"white\",\"linecolor\":\"white\",\"showgrid\":true,\"tickcolor\":\"rgb(51,51,51)\",\"ticks\":\"outside\"},\"bgcolor\":\"rgb(237,237,237)\",\"caxis\":{\"gridcolor\":\"white\",\"linecolor\":\"white\",\"showgrid\":true,\"tickcolor\":\"rgb(51,51,51)\",\"ticks\":\"outside\"}},\"xaxis\":{\"automargin\":true,\"gridcolor\":\"white\",\"linecolor\":\"white\",\"showgrid\":true,\"tickcolor\":\"rgb(51,51,51)\",\"ticks\":\"outside\",\"title\":{\"standoff\":15},\"zerolinecolor\":\"white\"},\"yaxis\":{\"automargin\":true,\"gridcolor\":\"white\",\"linecolor\":\"white\",\"showgrid\":true,\"tickcolor\":\"rgb(51,51,51)\",\"ticks\":\"outside\",\"title\":{\"standoff\":15},\"zerolinecolor\":\"white\"}}}},                        {\"responsive\": true}                    ).then(function(){\n",
       "                            \n",
       "var gd = document.getElementById('6caecac5-87ce-4d4a-a7ce-73f10a1e897a');\n",
       "var x = new MutationObserver(function (mutations, observer) {{\n",
       "        var display = window.getComputedStyle(gd).display;\n",
       "        if (!display || display === 'none') {{\n",
       "            console.log([gd, 'removed!']);\n",
       "            Plotly.purge(gd);\n",
       "            observer.disconnect();\n",
       "        }}\n",
       "}});\n",
       "\n",
       "// Listen for the removal of the full notebook cells\n",
       "var notebookContainer = gd.closest('#notebook-container');\n",
       "if (notebookContainer) {{\n",
       "    x.observe(notebookContainer, {childList: true});\n",
       "}}\n",
       "\n",
       "// Listen for the clearing of the current output cell\n",
       "var outputEl = gd.closest('.output');\n",
       "if (outputEl) {{\n",
       "    x.observe(outputEl, {childList: true});\n",
       "}}\n",
       "\n",
       "                        })                };                });            </script>        </div>"
      ]
     },
     "metadata": {},
     "output_type": "display_data"
    }
   ],
   "source": [
    "import plotly.express as px\n",
    "from data import countries_df\n",
    "\n",
    "\n",
    "countries_df.iloc[0, 3] = countries_df.iloc[0, 1] - countries_df.iloc[0, 2]\n",
    "\n",
    "fig = px.scatter_geo(countries_df, \n",
    "                     template=\"ggplot2\",\n",
    "                     color=\"Confirmed\", \n",
    "                     size=\"Confirmed\",\n",
    "                     size_max=50,\n",
    "                     locations=\"Country_Region\",\n",
    "                     locationmode=\"country names\", \n",
    "                     hover_name=\"Country_Region\",\n",
    "                     projection=\"natural earth\",\n",
    "                     hover_data={\n",
    "                      \"Confirmed\":\":,2f\",\n",
    "                      \"Deaths\":\":,2f\",\n",
    "                      \"Recovered\":\":,2f\",\n",
    "                      \"Country_Region\":False\n",
    "                     })\n",
    "fig.show()"
   ]
  },
  {
   "cell_type": "code",
   "execution_count": 49,
   "metadata": {},
   "outputs": [
    {
     "data": {
      "application/vnd.plotly.v1+json": {
       "config": {
        "plotlyServerURL": "https://plot.ly"
       },
       "data": [
        {
         "alignmentgroup": "True",
         "hovertemplate": "condition=%{x}<br>count=%{y:,f}<extra></extra>",
         "legendgroup": "",
         "marker": {
          "color": "#F8766D",
          "pattern": {
           "shape": ""
          }
         },
         "name": "",
         "offsetgroup": "",
         "orientation": "v",
         "showlegend": false,
         "textposition": "auto",
         "type": "bar",
         "x": [
          "Confirmed",
          "Recovered",
          "Deaths"
         ],
         "xaxis": "x",
         "y": [
          188355851,
          124111936,
          4058112
         ],
         "yaxis": "y"
        }
       ],
       "layout": {
        "barmode": "relative",
        "legend": {
         "tracegroupgap": 0
        },
        "template": {
         "data": {
          "bar": [
           {
            "error_x": {
             "color": "rgb(51,51,51)"
            },
            "error_y": {
             "color": "rgb(51,51,51)"
            },
            "marker": {
             "line": {
              "color": "rgb(237,237,237)",
              "width": 0.5
             },
             "pattern": {
              "fillmode": "overlay",
              "size": 10,
              "solidity": 0.2
             }
            },
            "type": "bar"
           }
          ],
          "barpolar": [
           {
            "marker": {
             "line": {
              "color": "rgb(237,237,237)",
              "width": 0.5
             },
             "pattern": {
              "fillmode": "overlay",
              "size": 10,
              "solidity": 0.2
             }
            },
            "type": "barpolar"
           }
          ],
          "carpet": [
           {
            "aaxis": {
             "endlinecolor": "rgb(51,51,51)",
             "gridcolor": "white",
             "linecolor": "white",
             "minorgridcolor": "white",
             "startlinecolor": "rgb(51,51,51)"
            },
            "baxis": {
             "endlinecolor": "rgb(51,51,51)",
             "gridcolor": "white",
             "linecolor": "white",
             "minorgridcolor": "white",
             "startlinecolor": "rgb(51,51,51)"
            },
            "type": "carpet"
           }
          ],
          "choropleth": [
           {
            "colorbar": {
             "outlinewidth": 0,
             "tickcolor": "rgb(237,237,237)",
             "ticklen": 6,
             "ticks": "inside"
            },
            "type": "choropleth"
           }
          ],
          "contour": [
           {
            "colorbar": {
             "outlinewidth": 0,
             "tickcolor": "rgb(237,237,237)",
             "ticklen": 6,
             "ticks": "inside"
            },
            "colorscale": [
             [
              0,
              "rgb(20,44,66)"
             ],
             [
              1,
              "rgb(90,179,244)"
             ]
            ],
            "type": "contour"
           }
          ],
          "contourcarpet": [
           {
            "colorbar": {
             "outlinewidth": 0,
             "tickcolor": "rgb(237,237,237)",
             "ticklen": 6,
             "ticks": "inside"
            },
            "type": "contourcarpet"
           }
          ],
          "heatmap": [
           {
            "colorbar": {
             "outlinewidth": 0,
             "tickcolor": "rgb(237,237,237)",
             "ticklen": 6,
             "ticks": "inside"
            },
            "colorscale": [
             [
              0,
              "rgb(20,44,66)"
             ],
             [
              1,
              "rgb(90,179,244)"
             ]
            ],
            "type": "heatmap"
           }
          ],
          "heatmapgl": [
           {
            "colorbar": {
             "outlinewidth": 0,
             "tickcolor": "rgb(237,237,237)",
             "ticklen": 6,
             "ticks": "inside"
            },
            "colorscale": [
             [
              0,
              "rgb(20,44,66)"
             ],
             [
              1,
              "rgb(90,179,244)"
             ]
            ],
            "type": "heatmapgl"
           }
          ],
          "histogram": [
           {
            "marker": {
             "pattern": {
              "fillmode": "overlay",
              "size": 10,
              "solidity": 0.2
             }
            },
            "type": "histogram"
           }
          ],
          "histogram2d": [
           {
            "colorbar": {
             "outlinewidth": 0,
             "tickcolor": "rgb(237,237,237)",
             "ticklen": 6,
             "ticks": "inside"
            },
            "colorscale": [
             [
              0,
              "rgb(20,44,66)"
             ],
             [
              1,
              "rgb(90,179,244)"
             ]
            ],
            "type": "histogram2d"
           }
          ],
          "histogram2dcontour": [
           {
            "colorbar": {
             "outlinewidth": 0,
             "tickcolor": "rgb(237,237,237)",
             "ticklen": 6,
             "ticks": "inside"
            },
            "colorscale": [
             [
              0,
              "rgb(20,44,66)"
             ],
             [
              1,
              "rgb(90,179,244)"
             ]
            ],
            "type": "histogram2dcontour"
           }
          ],
          "mesh3d": [
           {
            "colorbar": {
             "outlinewidth": 0,
             "tickcolor": "rgb(237,237,237)",
             "ticklen": 6,
             "ticks": "inside"
            },
            "type": "mesh3d"
           }
          ],
          "parcoords": [
           {
            "line": {
             "colorbar": {
              "outlinewidth": 0,
              "tickcolor": "rgb(237,237,237)",
              "ticklen": 6,
              "ticks": "inside"
             }
            },
            "type": "parcoords"
           }
          ],
          "pie": [
           {
            "automargin": true,
            "type": "pie"
           }
          ],
          "scatter": [
           {
            "marker": {
             "colorbar": {
              "outlinewidth": 0,
              "tickcolor": "rgb(237,237,237)",
              "ticklen": 6,
              "ticks": "inside"
             }
            },
            "type": "scatter"
           }
          ],
          "scatter3d": [
           {
            "line": {
             "colorbar": {
              "outlinewidth": 0,
              "tickcolor": "rgb(237,237,237)",
              "ticklen": 6,
              "ticks": "inside"
             }
            },
            "marker": {
             "colorbar": {
              "outlinewidth": 0,
              "tickcolor": "rgb(237,237,237)",
              "ticklen": 6,
              "ticks": "inside"
             }
            },
            "type": "scatter3d"
           }
          ],
          "scattercarpet": [
           {
            "marker": {
             "colorbar": {
              "outlinewidth": 0,
              "tickcolor": "rgb(237,237,237)",
              "ticklen": 6,
              "ticks": "inside"
             }
            },
            "type": "scattercarpet"
           }
          ],
          "scattergeo": [
           {
            "marker": {
             "colorbar": {
              "outlinewidth": 0,
              "tickcolor": "rgb(237,237,237)",
              "ticklen": 6,
              "ticks": "inside"
             }
            },
            "type": "scattergeo"
           }
          ],
          "scattergl": [
           {
            "marker": {
             "colorbar": {
              "outlinewidth": 0,
              "tickcolor": "rgb(237,237,237)",
              "ticklen": 6,
              "ticks": "inside"
             }
            },
            "type": "scattergl"
           }
          ],
          "scattermapbox": [
           {
            "marker": {
             "colorbar": {
              "outlinewidth": 0,
              "tickcolor": "rgb(237,237,237)",
              "ticklen": 6,
              "ticks": "inside"
             }
            },
            "type": "scattermapbox"
           }
          ],
          "scatterpolar": [
           {
            "marker": {
             "colorbar": {
              "outlinewidth": 0,
              "tickcolor": "rgb(237,237,237)",
              "ticklen": 6,
              "ticks": "inside"
             }
            },
            "type": "scatterpolar"
           }
          ],
          "scatterpolargl": [
           {
            "marker": {
             "colorbar": {
              "outlinewidth": 0,
              "tickcolor": "rgb(237,237,237)",
              "ticklen": 6,
              "ticks": "inside"
             }
            },
            "type": "scatterpolargl"
           }
          ],
          "scatterternary": [
           {
            "marker": {
             "colorbar": {
              "outlinewidth": 0,
              "tickcolor": "rgb(237,237,237)",
              "ticklen": 6,
              "ticks": "inside"
             }
            },
            "type": "scatterternary"
           }
          ],
          "surface": [
           {
            "colorbar": {
             "outlinewidth": 0,
             "tickcolor": "rgb(237,237,237)",
             "ticklen": 6,
             "ticks": "inside"
            },
            "colorscale": [
             [
              0,
              "rgb(20,44,66)"
             ],
             [
              1,
              "rgb(90,179,244)"
             ]
            ],
            "type": "surface"
           }
          ],
          "table": [
           {
            "cells": {
             "fill": {
              "color": "rgb(237,237,237)"
             },
             "line": {
              "color": "white"
             }
            },
            "header": {
             "fill": {
              "color": "rgb(217,217,217)"
             },
             "line": {
              "color": "white"
             }
            },
            "type": "table"
           }
          ]
         },
         "layout": {
          "annotationdefaults": {
           "arrowhead": 0,
           "arrowwidth": 1
          },
          "autotypenumbers": "strict",
          "coloraxis": {
           "colorbar": {
            "outlinewidth": 0,
            "tickcolor": "rgb(237,237,237)",
            "ticklen": 6,
            "ticks": "inside"
           }
          },
          "colorscale": {
           "sequential": [
            [
             0,
             "rgb(20,44,66)"
            ],
            [
             1,
             "rgb(90,179,244)"
            ]
           ],
           "sequentialminus": [
            [
             0,
             "rgb(20,44,66)"
            ],
            [
             1,
             "rgb(90,179,244)"
            ]
           ]
          },
          "colorway": [
           "#F8766D",
           "#A3A500",
           "#00BF7D",
           "#00B0F6",
           "#E76BF3"
          ],
          "font": {
           "color": "rgb(51,51,51)"
          },
          "geo": {
           "bgcolor": "white",
           "lakecolor": "white",
           "landcolor": "rgb(237,237,237)",
           "showlakes": true,
           "showland": true,
           "subunitcolor": "white"
          },
          "hoverlabel": {
           "align": "left"
          },
          "hovermode": "closest",
          "paper_bgcolor": "white",
          "plot_bgcolor": "rgb(237,237,237)",
          "polar": {
           "angularaxis": {
            "gridcolor": "white",
            "linecolor": "white",
            "showgrid": true,
            "tickcolor": "rgb(51,51,51)",
            "ticks": "outside"
           },
           "bgcolor": "rgb(237,237,237)",
           "radialaxis": {
            "gridcolor": "white",
            "linecolor": "white",
            "showgrid": true,
            "tickcolor": "rgb(51,51,51)",
            "ticks": "outside"
           }
          },
          "scene": {
           "xaxis": {
            "backgroundcolor": "rgb(237,237,237)",
            "gridcolor": "white",
            "gridwidth": 2,
            "linecolor": "white",
            "showbackground": true,
            "showgrid": true,
            "tickcolor": "rgb(51,51,51)",
            "ticks": "outside",
            "zerolinecolor": "white"
           },
           "yaxis": {
            "backgroundcolor": "rgb(237,237,237)",
            "gridcolor": "white",
            "gridwidth": 2,
            "linecolor": "white",
            "showbackground": true,
            "showgrid": true,
            "tickcolor": "rgb(51,51,51)",
            "ticks": "outside",
            "zerolinecolor": "white"
           },
           "zaxis": {
            "backgroundcolor": "rgb(237,237,237)",
            "gridcolor": "white",
            "gridwidth": 2,
            "linecolor": "white",
            "showbackground": true,
            "showgrid": true,
            "tickcolor": "rgb(51,51,51)",
            "ticks": "outside",
            "zerolinecolor": "white"
           }
          },
          "shapedefaults": {
           "fillcolor": "black",
           "line": {
            "width": 0
           },
           "opacity": 0.3
          },
          "ternary": {
           "aaxis": {
            "gridcolor": "white",
            "linecolor": "white",
            "showgrid": true,
            "tickcolor": "rgb(51,51,51)",
            "ticks": "outside"
           },
           "baxis": {
            "gridcolor": "white",
            "linecolor": "white",
            "showgrid": true,
            "tickcolor": "rgb(51,51,51)",
            "ticks": "outside"
           },
           "bgcolor": "rgb(237,237,237)",
           "caxis": {
            "gridcolor": "white",
            "linecolor": "white",
            "showgrid": true,
            "tickcolor": "rgb(51,51,51)",
            "ticks": "outside"
           }
          },
          "xaxis": {
           "automargin": true,
           "gridcolor": "white",
           "linecolor": "white",
           "showgrid": true,
           "tickcolor": "rgb(51,51,51)",
           "ticks": "outside",
           "title": {
            "standoff": 15
           },
           "zerolinecolor": "white"
          },
          "yaxis": {
           "automargin": true,
           "gridcolor": "white",
           "linecolor": "white",
           "showgrid": true,
           "tickcolor": "rgb(51,51,51)",
           "ticks": "outside",
           "title": {
            "standoff": 15
           },
           "zerolinecolor": "white"
          }
         }
        },
        "title": {
         "text": "Total global Cases"
        },
        "xaxis": {
         "anchor": "y",
         "domain": [
          0,
          1
         ],
         "title": {
          "text": "Condition"
         }
        },
        "yaxis": {
         "anchor": "x",
         "domain": [
          0,
          1
         ],
         "title": {
          "text": "Count"
         }
        }
       }
      },
      "text/html": [
       "<div>                            <div id=\"605110bc-5e53-4dea-8ebd-92c6e74a63f9\" class=\"plotly-graph-div\" style=\"height:525px; width:100%;\"></div>            <script type=\"text/javascript\">                require([\"plotly\"], function(Plotly) {                    window.PLOTLYENV=window.PLOTLYENV || {};                                    if (document.getElementById(\"605110bc-5e53-4dea-8ebd-92c6e74a63f9\")) {                    Plotly.newPlot(                        \"605110bc-5e53-4dea-8ebd-92c6e74a63f9\",                        [{\"alignmentgroup\":\"True\",\"hovertemplate\":\"condition=%{x}<br>count=%{y:,f}<extra></extra>\",\"legendgroup\":\"\",\"marker\":{\"color\":\"#F8766D\",\"pattern\":{\"shape\":\"\"}},\"name\":\"\",\"offsetgroup\":\"\",\"orientation\":\"v\",\"showlegend\":false,\"textposition\":\"auto\",\"type\":\"bar\",\"x\":[\"Confirmed\",\"Recovered\",\"Deaths\"],\"xaxis\":\"x\",\"y\":[188355851.0,124111936.0,4058112.0],\"yaxis\":\"y\"}],                        {\"barmode\":\"relative\",\"legend\":{\"tracegroupgap\":0},\"template\":{\"data\":{\"bar\":[{\"error_x\":{\"color\":\"rgb(51,51,51)\"},\"error_y\":{\"color\":\"rgb(51,51,51)\"},\"marker\":{\"line\":{\"color\":\"rgb(237,237,237)\",\"width\":0.5},\"pattern\":{\"fillmode\":\"overlay\",\"size\":10,\"solidity\":0.2}},\"type\":\"bar\"}],\"barpolar\":[{\"marker\":{\"line\":{\"color\":\"rgb(237,237,237)\",\"width\":0.5},\"pattern\":{\"fillmode\":\"overlay\",\"size\":10,\"solidity\":0.2}},\"type\":\"barpolar\"}],\"carpet\":[{\"aaxis\":{\"endlinecolor\":\"rgb(51,51,51)\",\"gridcolor\":\"white\",\"linecolor\":\"white\",\"minorgridcolor\":\"white\",\"startlinecolor\":\"rgb(51,51,51)\"},\"baxis\":{\"endlinecolor\":\"rgb(51,51,51)\",\"gridcolor\":\"white\",\"linecolor\":\"white\",\"minorgridcolor\":\"white\",\"startlinecolor\":\"rgb(51,51,51)\"},\"type\":\"carpet\"}],\"choropleth\":[{\"colorbar\":{\"outlinewidth\":0,\"tickcolor\":\"rgb(237,237,237)\",\"ticklen\":6,\"ticks\":\"inside\"},\"type\":\"choropleth\"}],\"contour\":[{\"colorbar\":{\"outlinewidth\":0,\"tickcolor\":\"rgb(237,237,237)\",\"ticklen\":6,\"ticks\":\"inside\"},\"colorscale\":[[0,\"rgb(20,44,66)\"],[1,\"rgb(90,179,244)\"]],\"type\":\"contour\"}],\"contourcarpet\":[{\"colorbar\":{\"outlinewidth\":0,\"tickcolor\":\"rgb(237,237,237)\",\"ticklen\":6,\"ticks\":\"inside\"},\"type\":\"contourcarpet\"}],\"heatmap\":[{\"colorbar\":{\"outlinewidth\":0,\"tickcolor\":\"rgb(237,237,237)\",\"ticklen\":6,\"ticks\":\"inside\"},\"colorscale\":[[0,\"rgb(20,44,66)\"],[1,\"rgb(90,179,244)\"]],\"type\":\"heatmap\"}],\"heatmapgl\":[{\"colorbar\":{\"outlinewidth\":0,\"tickcolor\":\"rgb(237,237,237)\",\"ticklen\":6,\"ticks\":\"inside\"},\"colorscale\":[[0,\"rgb(20,44,66)\"],[1,\"rgb(90,179,244)\"]],\"type\":\"heatmapgl\"}],\"histogram\":[{\"marker\":{\"pattern\":{\"fillmode\":\"overlay\",\"size\":10,\"solidity\":0.2}},\"type\":\"histogram\"}],\"histogram2d\":[{\"colorbar\":{\"outlinewidth\":0,\"tickcolor\":\"rgb(237,237,237)\",\"ticklen\":6,\"ticks\":\"inside\"},\"colorscale\":[[0,\"rgb(20,44,66)\"],[1,\"rgb(90,179,244)\"]],\"type\":\"histogram2d\"}],\"histogram2dcontour\":[{\"colorbar\":{\"outlinewidth\":0,\"tickcolor\":\"rgb(237,237,237)\",\"ticklen\":6,\"ticks\":\"inside\"},\"colorscale\":[[0,\"rgb(20,44,66)\"],[1,\"rgb(90,179,244)\"]],\"type\":\"histogram2dcontour\"}],\"mesh3d\":[{\"colorbar\":{\"outlinewidth\":0,\"tickcolor\":\"rgb(237,237,237)\",\"ticklen\":6,\"ticks\":\"inside\"},\"type\":\"mesh3d\"}],\"parcoords\":[{\"line\":{\"colorbar\":{\"outlinewidth\":0,\"tickcolor\":\"rgb(237,237,237)\",\"ticklen\":6,\"ticks\":\"inside\"}},\"type\":\"parcoords\"}],\"pie\":[{\"automargin\":true,\"type\":\"pie\"}],\"scatter\":[{\"marker\":{\"colorbar\":{\"outlinewidth\":0,\"tickcolor\":\"rgb(237,237,237)\",\"ticklen\":6,\"ticks\":\"inside\"}},\"type\":\"scatter\"}],\"scatter3d\":[{\"line\":{\"colorbar\":{\"outlinewidth\":0,\"tickcolor\":\"rgb(237,237,237)\",\"ticklen\":6,\"ticks\":\"inside\"}},\"marker\":{\"colorbar\":{\"outlinewidth\":0,\"tickcolor\":\"rgb(237,237,237)\",\"ticklen\":6,\"ticks\":\"inside\"}},\"type\":\"scatter3d\"}],\"scattercarpet\":[{\"marker\":{\"colorbar\":{\"outlinewidth\":0,\"tickcolor\":\"rgb(237,237,237)\",\"ticklen\":6,\"ticks\":\"inside\"}},\"type\":\"scattercarpet\"}],\"scattergeo\":[{\"marker\":{\"colorbar\":{\"outlinewidth\":0,\"tickcolor\":\"rgb(237,237,237)\",\"ticklen\":6,\"ticks\":\"inside\"}},\"type\":\"scattergeo\"}],\"scattergl\":[{\"marker\":{\"colorbar\":{\"outlinewidth\":0,\"tickcolor\":\"rgb(237,237,237)\",\"ticklen\":6,\"ticks\":\"inside\"}},\"type\":\"scattergl\"}],\"scattermapbox\":[{\"marker\":{\"colorbar\":{\"outlinewidth\":0,\"tickcolor\":\"rgb(237,237,237)\",\"ticklen\":6,\"ticks\":\"inside\"}},\"type\":\"scattermapbox\"}],\"scatterpolar\":[{\"marker\":{\"colorbar\":{\"outlinewidth\":0,\"tickcolor\":\"rgb(237,237,237)\",\"ticklen\":6,\"ticks\":\"inside\"}},\"type\":\"scatterpolar\"}],\"scatterpolargl\":[{\"marker\":{\"colorbar\":{\"outlinewidth\":0,\"tickcolor\":\"rgb(237,237,237)\",\"ticklen\":6,\"ticks\":\"inside\"}},\"type\":\"scatterpolargl\"}],\"scatterternary\":[{\"marker\":{\"colorbar\":{\"outlinewidth\":0,\"tickcolor\":\"rgb(237,237,237)\",\"ticklen\":6,\"ticks\":\"inside\"}},\"type\":\"scatterternary\"}],\"surface\":[{\"colorbar\":{\"outlinewidth\":0,\"tickcolor\":\"rgb(237,237,237)\",\"ticklen\":6,\"ticks\":\"inside\"},\"colorscale\":[[0,\"rgb(20,44,66)\"],[1,\"rgb(90,179,244)\"]],\"type\":\"surface\"}],\"table\":[{\"cells\":{\"fill\":{\"color\":\"rgb(237,237,237)\"},\"line\":{\"color\":\"white\"}},\"header\":{\"fill\":{\"color\":\"rgb(217,217,217)\"},\"line\":{\"color\":\"white\"}},\"type\":\"table\"}]},\"layout\":{\"annotationdefaults\":{\"arrowhead\":0,\"arrowwidth\":1},\"autotypenumbers\":\"strict\",\"coloraxis\":{\"colorbar\":{\"outlinewidth\":0,\"tickcolor\":\"rgb(237,237,237)\",\"ticklen\":6,\"ticks\":\"inside\"}},\"colorscale\":{\"sequential\":[[0,\"rgb(20,44,66)\"],[1,\"rgb(90,179,244)\"]],\"sequentialminus\":[[0,\"rgb(20,44,66)\"],[1,\"rgb(90,179,244)\"]]},\"colorway\":[\"#F8766D\",\"#A3A500\",\"#00BF7D\",\"#00B0F6\",\"#E76BF3\"],\"font\":{\"color\":\"rgb(51,51,51)\"},\"geo\":{\"bgcolor\":\"white\",\"lakecolor\":\"white\",\"landcolor\":\"rgb(237,237,237)\",\"showlakes\":true,\"showland\":true,\"subunitcolor\":\"white\"},\"hoverlabel\":{\"align\":\"left\"},\"hovermode\":\"closest\",\"paper_bgcolor\":\"white\",\"plot_bgcolor\":\"rgb(237,237,237)\",\"polar\":{\"angularaxis\":{\"gridcolor\":\"white\",\"linecolor\":\"white\",\"showgrid\":true,\"tickcolor\":\"rgb(51,51,51)\",\"ticks\":\"outside\"},\"bgcolor\":\"rgb(237,237,237)\",\"radialaxis\":{\"gridcolor\":\"white\",\"linecolor\":\"white\",\"showgrid\":true,\"tickcolor\":\"rgb(51,51,51)\",\"ticks\":\"outside\"}},\"scene\":{\"xaxis\":{\"backgroundcolor\":\"rgb(237,237,237)\",\"gridcolor\":\"white\",\"gridwidth\":2,\"linecolor\":\"white\",\"showbackground\":true,\"showgrid\":true,\"tickcolor\":\"rgb(51,51,51)\",\"ticks\":\"outside\",\"zerolinecolor\":\"white\"},\"yaxis\":{\"backgroundcolor\":\"rgb(237,237,237)\",\"gridcolor\":\"white\",\"gridwidth\":2,\"linecolor\":\"white\",\"showbackground\":true,\"showgrid\":true,\"tickcolor\":\"rgb(51,51,51)\",\"ticks\":\"outside\",\"zerolinecolor\":\"white\"},\"zaxis\":{\"backgroundcolor\":\"rgb(237,237,237)\",\"gridcolor\":\"white\",\"gridwidth\":2,\"linecolor\":\"white\",\"showbackground\":true,\"showgrid\":true,\"tickcolor\":\"rgb(51,51,51)\",\"ticks\":\"outside\",\"zerolinecolor\":\"white\"}},\"shapedefaults\":{\"fillcolor\":\"black\",\"line\":{\"width\":0},\"opacity\":0.3},\"ternary\":{\"aaxis\":{\"gridcolor\":\"white\",\"linecolor\":\"white\",\"showgrid\":true,\"tickcolor\":\"rgb(51,51,51)\",\"ticks\":\"outside\"},\"baxis\":{\"gridcolor\":\"white\",\"linecolor\":\"white\",\"showgrid\":true,\"tickcolor\":\"rgb(51,51,51)\",\"ticks\":\"outside\"},\"bgcolor\":\"rgb(237,237,237)\",\"caxis\":{\"gridcolor\":\"white\",\"linecolor\":\"white\",\"showgrid\":true,\"tickcolor\":\"rgb(51,51,51)\",\"ticks\":\"outside\"}},\"xaxis\":{\"automargin\":true,\"gridcolor\":\"white\",\"linecolor\":\"white\",\"showgrid\":true,\"tickcolor\":\"rgb(51,51,51)\",\"ticks\":\"outside\",\"title\":{\"standoff\":15},\"zerolinecolor\":\"white\"},\"yaxis\":{\"automargin\":true,\"gridcolor\":\"white\",\"linecolor\":\"white\",\"showgrid\":true,\"tickcolor\":\"rgb(51,51,51)\",\"ticks\":\"outside\",\"title\":{\"standoff\":15},\"zerolinecolor\":\"white\"}}},\"title\":{\"text\":\"Total global Cases\"},\"xaxis\":{\"anchor\":\"y\",\"domain\":[0.0,1.0],\"title\":{\"text\":\"Condition\"}},\"yaxis\":{\"anchor\":\"x\",\"domain\":[0.0,1.0],\"title\":{\"text\":\"Count\"}}},                        {\"responsive\": true}                    ).then(function(){\n",
       "                            \n",
       "var gd = document.getElementById('605110bc-5e53-4dea-8ebd-92c6e74a63f9');\n",
       "var x = new MutationObserver(function (mutations, observer) {{\n",
       "        var display = window.getComputedStyle(gd).display;\n",
       "        if (!display || display === 'none') {{\n",
       "            console.log([gd, 'removed!']);\n",
       "            Plotly.purge(gd);\n",
       "            observer.disconnect();\n",
       "        }}\n",
       "}});\n",
       "\n",
       "// Listen for the removal of the full notebook cells\n",
       "var notebookContainer = gd.closest('#notebook-container');\n",
       "if (notebookContainer) {{\n",
       "    x.observe(notebookContainer, {childList: true});\n",
       "}}\n",
       "\n",
       "// Listen for the clearing of the current output cell\n",
       "var outputEl = gd.closest('.output');\n",
       "if (outputEl) {{\n",
       "    x.observe(outputEl, {childList: true});\n",
       "}}\n",
       "\n",
       "                        })                };                });            </script>        </div>"
      ]
     },
     "metadata": {},
     "output_type": "display_data"
    }
   ],
   "source": [
    "import plotly.express as px\n",
    "from data import totals_df\n",
    "totals_df = totals_df.sort_values(by=\"count\", ascending=False)\n",
    "fig = px.bar(totals_df, x=\"condition\", y=\"count\", \n",
    "             template=\"ggplot2\", title=\"Total global Cases\",\n",
    "            hover_data={\"count\":\":,f\"})\n",
    "fig.update_layout(\n",
    "    xaxis=dict(title=\"Condition\"),\n",
    "    yaxis=dict(title=\"Count\"))\n",
    "fig.show()"
   ]
  },
  {
   "cell_type": "code",
   "execution_count": 42,
   "metadata": {},
   "outputs": [
    {
     "data": {
      "text/html": [
       "<div>\n",
       "<style scoped>\n",
       "    .dataframe tbody tr th:only-of-type {\n",
       "        vertical-align: middle;\n",
       "    }\n",
       "\n",
       "    .dataframe tbody tr th {\n",
       "        vertical-align: top;\n",
       "    }\n",
       "\n",
       "    .dataframe thead th {\n",
       "        text-align: right;\n",
       "    }\n",
       "</style>\n",
       "<table border=\"1\" class=\"dataframe\">\n",
       "  <thead>\n",
       "    <tr style=\"text-align: right;\">\n",
       "      <th></th>\n",
       "      <th>condition</th>\n",
       "      <th>count</th>\n",
       "    </tr>\n",
       "  </thead>\n",
       "  <tbody>\n",
       "    <tr>\n",
       "      <th>0</th>\n",
       "      <td>Confirmed</td>\n",
       "      <td>188355851.0</td>\n",
       "    </tr>\n",
       "    <tr>\n",
       "      <th>1</th>\n",
       "      <td>Deaths</td>\n",
       "      <td>4058112.0</td>\n",
       "    </tr>\n",
       "    <tr>\n",
       "      <th>2</th>\n",
       "      <td>Recovered</td>\n",
       "      <td>124111936.0</td>\n",
       "    </tr>\n",
       "  </tbody>\n",
       "</table>\n",
       "</div>"
      ],
      "text/plain": [
       "   condition        count\n",
       "0  Confirmed  188355851.0\n",
       "1     Deaths    4058112.0\n",
       "2  Recovered  124111936.0"
      ]
     },
     "execution_count": 42,
     "metadata": {},
     "output_type": "execute_result"
    }
   ],
   "source": [
    "totals_df"
   ]
  },
  {
   "cell_type": "code",
   "execution_count": 14,
   "metadata": {},
   "outputs": [
    {
     "data": {
      "application/vnd.plotly.v1+json": {
       "config": {
        "plotlyServerURL": "https://plot.ly"
       },
       "data": [
        {
         "customdata": [
          [
           "confirmed"
          ],
          [
           "confirmed"
          ],
          [
           "confirmed"
          ],
          [
           "confirmed"
          ],
          [
           "confirmed"
          ],
          [
           "confirmed"
          ],
          [
           "confirmed"
          ],
          [
           "confirmed"
          ],
          [
           "confirmed"
          ],
          [
           "confirmed"
          ],
          [
           "confirmed"
          ],
          [
           "confirmed"
          ],
          [
           "confirmed"
          ],
          [
           "confirmed"
          ],
          [
           "confirmed"
          ],
          [
           "confirmed"
          ],
          [
           "confirmed"
          ],
          [
           "confirmed"
          ],
          [
           "confirmed"
          ],
          [
           "confirmed"
          ],
          [
           "confirmed"
          ],
          [
           "confirmed"
          ],
          [
           "confirmed"
          ],
          [
           "confirmed"
          ],
          [
           "confirmed"
          ],
          [
           "confirmed"
          ],
          [
           "confirmed"
          ],
          [
           "confirmed"
          ],
          [
           "confirmed"
          ],
          [
           "confirmed"
          ],
          [
           "confirmed"
          ],
          [
           "confirmed"
          ],
          [
           "confirmed"
          ],
          [
           "confirmed"
          ],
          [
           "confirmed"
          ],
          [
           "confirmed"
          ],
          [
           "confirmed"
          ],
          [
           "confirmed"
          ],
          [
           "confirmed"
          ],
          [
           "confirmed"
          ],
          [
           "confirmed"
          ],
          [
           "confirmed"
          ],
          [
           "confirmed"
          ],
          [
           "confirmed"
          ],
          [
           "confirmed"
          ],
          [
           "confirmed"
          ],
          [
           "confirmed"
          ],
          [
           "confirmed"
          ],
          [
           "confirmed"
          ],
          [
           "confirmed"
          ],
          [
           "confirmed"
          ],
          [
           "confirmed"
          ],
          [
           "confirmed"
          ],
          [
           "confirmed"
          ],
          [
           "confirmed"
          ],
          [
           "confirmed"
          ],
          [
           "confirmed"
          ],
          [
           "confirmed"
          ],
          [
           "confirmed"
          ],
          [
           "confirmed"
          ],
          [
           "confirmed"
          ],
          [
           "confirmed"
          ],
          [
           "confirmed"
          ],
          [
           "confirmed"
          ],
          [
           "confirmed"
          ],
          [
           "confirmed"
          ],
          [
           "confirmed"
          ],
          [
           "confirmed"
          ],
          [
           "confirmed"
          ],
          [
           "confirmed"
          ],
          [
           "confirmed"
          ],
          [
           "confirmed"
          ],
          [
           "confirmed"
          ],
          [
           "confirmed"
          ],
          [
           "confirmed"
          ],
          [
           "confirmed"
          ],
          [
           "confirmed"
          ],
          [
           "confirmed"
          ],
          [
           "confirmed"
          ],
          [
           "confirmed"
          ],
          [
           "confirmed"
          ],
          [
           "confirmed"
          ],
          [
           "confirmed"
          ],
          [
           "confirmed"
          ],
          [
           "confirmed"
          ],
          [
           "confirmed"
          ],
          [
           "confirmed"
          ],
          [
           "confirmed"
          ],
          [
           "confirmed"
          ],
          [
           "confirmed"
          ],
          [
           "confirmed"
          ],
          [
           "confirmed"
          ],
          [
           "confirmed"
          ],
          [
           "confirmed"
          ],
          [
           "confirmed"
          ],
          [
           "confirmed"
          ],
          [
           "confirmed"
          ],
          [
           "confirmed"
          ],
          [
           "confirmed"
          ],
          [
           "confirmed"
          ],
          [
           "confirmed"
          ],
          [
           "confirmed"
          ],
          [
           "confirmed"
          ],
          [
           "confirmed"
          ],
          [
           "confirmed"
          ],
          [
           "confirmed"
          ],
          [
           "confirmed"
          ],
          [
           "confirmed"
          ],
          [
           "confirmed"
          ],
          [
           "confirmed"
          ],
          [
           "confirmed"
          ],
          [
           "confirmed"
          ],
          [
           "confirmed"
          ],
          [
           "confirmed"
          ],
          [
           "confirmed"
          ],
          [
           "confirmed"
          ],
          [
           "confirmed"
          ],
          [
           "confirmed"
          ],
          [
           "confirmed"
          ],
          [
           "confirmed"
          ],
          [
           "confirmed"
          ],
          [
           "confirmed"
          ],
          [
           "confirmed"
          ],
          [
           "confirmed"
          ],
          [
           "confirmed"
          ],
          [
           "confirmed"
          ],
          [
           "confirmed"
          ],
          [
           "confirmed"
          ],
          [
           "confirmed"
          ],
          [
           "confirmed"
          ],
          [
           "confirmed"
          ],
          [
           "confirmed"
          ],
          [
           "confirmed"
          ],
          [
           "confirmed"
          ],
          [
           "confirmed"
          ],
          [
           "confirmed"
          ],
          [
           "confirmed"
          ],
          [
           "confirmed"
          ],
          [
           "confirmed"
          ],
          [
           "confirmed"
          ],
          [
           "confirmed"
          ],
          [
           "confirmed"
          ],
          [
           "confirmed"
          ],
          [
           "confirmed"
          ],
          [
           "confirmed"
          ],
          [
           "confirmed"
          ],
          [
           "confirmed"
          ],
          [
           "confirmed"
          ],
          [
           "confirmed"
          ],
          [
           "confirmed"
          ],
          [
           "confirmed"
          ],
          [
           "confirmed"
          ],
          [
           "confirmed"
          ],
          [
           "confirmed"
          ],
          [
           "confirmed"
          ],
          [
           "confirmed"
          ],
          [
           "confirmed"
          ],
          [
           "confirmed"
          ],
          [
           "confirmed"
          ],
          [
           "confirmed"
          ],
          [
           "confirmed"
          ],
          [
           "confirmed"
          ],
          [
           "confirmed"
          ],
          [
           "confirmed"
          ],
          [
           "confirmed"
          ],
          [
           "confirmed"
          ],
          [
           "confirmed"
          ],
          [
           "confirmed"
          ],
          [
           "confirmed"
          ],
          [
           "confirmed"
          ],
          [
           "confirmed"
          ],
          [
           "confirmed"
          ],
          [
           "confirmed"
          ],
          [
           "confirmed"
          ],
          [
           "confirmed"
          ],
          [
           "confirmed"
          ],
          [
           "confirmed"
          ],
          [
           "confirmed"
          ],
          [
           "confirmed"
          ],
          [
           "confirmed"
          ],
          [
           "confirmed"
          ],
          [
           "confirmed"
          ],
          [
           "confirmed"
          ],
          [
           "confirmed"
          ],
          [
           "confirmed"
          ],
          [
           "confirmed"
          ],
          [
           "confirmed"
          ],
          [
           "confirmed"
          ],
          [
           "confirmed"
          ],
          [
           "confirmed"
          ],
          [
           "confirmed"
          ],
          [
           "confirmed"
          ],
          [
           "confirmed"
          ],
          [
           "confirmed"
          ],
          [
           "confirmed"
          ],
          [
           "confirmed"
          ],
          [
           "confirmed"
          ],
          [
           "confirmed"
          ],
          [
           "confirmed"
          ],
          [
           "confirmed"
          ],
          [
           "confirmed"
          ],
          [
           "confirmed"
          ],
          [
           "confirmed"
          ],
          [
           "confirmed"
          ],
          [
           "confirmed"
          ],
          [
           "confirmed"
          ],
          [
           "confirmed"
          ],
          [
           "confirmed"
          ],
          [
           "confirmed"
          ],
          [
           "confirmed"
          ],
          [
           "confirmed"
          ],
          [
           "confirmed"
          ],
          [
           "confirmed"
          ],
          [
           "confirmed"
          ],
          [
           "confirmed"
          ],
          [
           "confirmed"
          ],
          [
           "confirmed"
          ],
          [
           "confirmed"
          ],
          [
           "confirmed"
          ],
          [
           "confirmed"
          ],
          [
           "confirmed"
          ],
          [
           "confirmed"
          ],
          [
           "confirmed"
          ],
          [
           "confirmed"
          ],
          [
           "confirmed"
          ],
          [
           "confirmed"
          ],
          [
           "confirmed"
          ],
          [
           "confirmed"
          ],
          [
           "confirmed"
          ],
          [
           "confirmed"
          ],
          [
           "confirmed"
          ],
          [
           "confirmed"
          ],
          [
           "confirmed"
          ],
          [
           "confirmed"
          ],
          [
           "confirmed"
          ],
          [
           "confirmed"
          ],
          [
           "confirmed"
          ],
          [
           "confirmed"
          ],
          [
           "confirmed"
          ],
          [
           "confirmed"
          ],
          [
           "confirmed"
          ],
          [
           "confirmed"
          ],
          [
           "confirmed"
          ],
          [
           "confirmed"
          ],
          [
           "confirmed"
          ],
          [
           "confirmed"
          ],
          [
           "confirmed"
          ],
          [
           "confirmed"
          ],
          [
           "confirmed"
          ],
          [
           "confirmed"
          ],
          [
           "confirmed"
          ],
          [
           "confirmed"
          ],
          [
           "confirmed"
          ],
          [
           "confirmed"
          ],
          [
           "confirmed"
          ],
          [
           "confirmed"
          ],
          [
           "confirmed"
          ],
          [
           "confirmed"
          ],
          [
           "confirmed"
          ],
          [
           "confirmed"
          ],
          [
           "confirmed"
          ],
          [
           "confirmed"
          ],
          [
           "confirmed"
          ],
          [
           "confirmed"
          ],
          [
           "confirmed"
          ],
          [
           "confirmed"
          ],
          [
           "confirmed"
          ],
          [
           "confirmed"
          ],
          [
           "confirmed"
          ],
          [
           "confirmed"
          ],
          [
           "confirmed"
          ],
          [
           "confirmed"
          ],
          [
           "confirmed"
          ],
          [
           "confirmed"
          ],
          [
           "confirmed"
          ],
          [
           "confirmed"
          ],
          [
           "confirmed"
          ],
          [
           "confirmed"
          ],
          [
           "confirmed"
          ],
          [
           "confirmed"
          ],
          [
           "confirmed"
          ],
          [
           "confirmed"
          ],
          [
           "confirmed"
          ],
          [
           "confirmed"
          ],
          [
           "confirmed"
          ],
          [
           "confirmed"
          ],
          [
           "confirmed"
          ],
          [
           "confirmed"
          ],
          [
           "confirmed"
          ],
          [
           "confirmed"
          ],
          [
           "confirmed"
          ],
          [
           "confirmed"
          ],
          [
           "confirmed"
          ],
          [
           "confirmed"
          ],
          [
           "confirmed"
          ],
          [
           "confirmed"
          ],
          [
           "confirmed"
          ],
          [
           "confirmed"
          ],
          [
           "confirmed"
          ],
          [
           "confirmed"
          ],
          [
           "confirmed"
          ],
          [
           "confirmed"
          ],
          [
           "confirmed"
          ],
          [
           "confirmed"
          ],
          [
           "confirmed"
          ],
          [
           "confirmed"
          ],
          [
           "confirmed"
          ],
          [
           "confirmed"
          ],
          [
           "confirmed"
          ],
          [
           "confirmed"
          ],
          [
           "confirmed"
          ],
          [
           "confirmed"
          ],
          [
           "confirmed"
          ],
          [
           "confirmed"
          ],
          [
           "confirmed"
          ],
          [
           "confirmed"
          ],
          [
           "confirmed"
          ],
          [
           "confirmed"
          ],
          [
           "confirmed"
          ],
          [
           "confirmed"
          ],
          [
           "confirmed"
          ],
          [
           "confirmed"
          ],
          [
           "confirmed"
          ],
          [
           "confirmed"
          ],
          [
           "confirmed"
          ],
          [
           "confirmed"
          ],
          [
           "confirmed"
          ],
          [
           "confirmed"
          ],
          [
           "confirmed"
          ],
          [
           "confirmed"
          ],
          [
           "confirmed"
          ],
          [
           "confirmed"
          ],
          [
           "confirmed"
          ],
          [
           "confirmed"
          ],
          [
           "confirmed"
          ],
          [
           "confirmed"
          ],
          [
           "confirmed"
          ],
          [
           "confirmed"
          ],
          [
           "confirmed"
          ],
          [
           "confirmed"
          ],
          [
           "confirmed"
          ],
          [
           "confirmed"
          ],
          [
           "confirmed"
          ],
          [
           "confirmed"
          ],
          [
           "confirmed"
          ],
          [
           "confirmed"
          ],
          [
           "confirmed"
          ],
          [
           "confirmed"
          ],
          [
           "confirmed"
          ],
          [
           "confirmed"
          ],
          [
           "confirmed"
          ],
          [
           "confirmed"
          ],
          [
           "confirmed"
          ],
          [
           "confirmed"
          ],
          [
           "confirmed"
          ],
          [
           "confirmed"
          ],
          [
           "confirmed"
          ],
          [
           "confirmed"
          ],
          [
           "confirmed"
          ],
          [
           "confirmed"
          ],
          [
           "confirmed"
          ],
          [
           "confirmed"
          ],
          [
           "confirmed"
          ],
          [
           "confirmed"
          ],
          [
           "confirmed"
          ],
          [
           "confirmed"
          ],
          [
           "confirmed"
          ],
          [
           "confirmed"
          ],
          [
           "confirmed"
          ],
          [
           "confirmed"
          ],
          [
           "confirmed"
          ],
          [
           "confirmed"
          ],
          [
           "confirmed"
          ],
          [
           "confirmed"
          ],
          [
           "confirmed"
          ],
          [
           "confirmed"
          ],
          [
           "confirmed"
          ],
          [
           "confirmed"
          ],
          [
           "confirmed"
          ],
          [
           "confirmed"
          ],
          [
           "confirmed"
          ],
          [
           "confirmed"
          ],
          [
           "confirmed"
          ],
          [
           "confirmed"
          ],
          [
           "confirmed"
          ],
          [
           "confirmed"
          ],
          [
           "confirmed"
          ],
          [
           "confirmed"
          ],
          [
           "confirmed"
          ],
          [
           "confirmed"
          ],
          [
           "confirmed"
          ],
          [
           "confirmed"
          ],
          [
           "confirmed"
          ],
          [
           "confirmed"
          ],
          [
           "confirmed"
          ],
          [
           "confirmed"
          ],
          [
           "confirmed"
          ],
          [
           "confirmed"
          ],
          [
           "confirmed"
          ],
          [
           "confirmed"
          ],
          [
           "confirmed"
          ],
          [
           "confirmed"
          ],
          [
           "confirmed"
          ],
          [
           "confirmed"
          ],
          [
           "confirmed"
          ],
          [
           "confirmed"
          ],
          [
           "confirmed"
          ],
          [
           "confirmed"
          ],
          [
           "confirmed"
          ],
          [
           "confirmed"
          ],
          [
           "confirmed"
          ],
          [
           "confirmed"
          ],
          [
           "confirmed"
          ],
          [
           "confirmed"
          ],
          [
           "confirmed"
          ],
          [
           "confirmed"
          ],
          [
           "confirmed"
          ],
          [
           "confirmed"
          ],
          [
           "confirmed"
          ],
          [
           "confirmed"
          ],
          [
           "confirmed"
          ],
          [
           "confirmed"
          ],
          [
           "confirmed"
          ],
          [
           "confirmed"
          ],
          [
           "confirmed"
          ],
          [
           "confirmed"
          ],
          [
           "confirmed"
          ],
          [
           "confirmed"
          ],
          [
           "confirmed"
          ],
          [
           "confirmed"
          ],
          [
           "confirmed"
          ],
          [
           "confirmed"
          ],
          [
           "confirmed"
          ],
          [
           "confirmed"
          ],
          [
           "confirmed"
          ],
          [
           "confirmed"
          ],
          [
           "confirmed"
          ],
          [
           "confirmed"
          ],
          [
           "confirmed"
          ],
          [
           "confirmed"
          ],
          [
           "confirmed"
          ],
          [
           "confirmed"
          ],
          [
           "confirmed"
          ],
          [
           "confirmed"
          ],
          [
           "confirmed"
          ],
          [
           "confirmed"
          ],
          [
           "confirmed"
          ],
          [
           "confirmed"
          ],
          [
           "confirmed"
          ],
          [
           "confirmed"
          ],
          [
           "confirmed"
          ],
          [
           "confirmed"
          ],
          [
           "confirmed"
          ],
          [
           "confirmed"
          ],
          [
           "confirmed"
          ],
          [
           "confirmed"
          ],
          [
           "confirmed"
          ],
          [
           "confirmed"
          ],
          [
           "confirmed"
          ],
          [
           "confirmed"
          ],
          [
           "confirmed"
          ],
          [
           "confirmed"
          ],
          [
           "confirmed"
          ],
          [
           "confirmed"
          ],
          [
           "confirmed"
          ],
          [
           "confirmed"
          ],
          [
           "confirmed"
          ],
          [
           "confirmed"
          ],
          [
           "confirmed"
          ],
          [
           "confirmed"
          ],
          [
           "confirmed"
          ],
          [
           "confirmed"
          ],
          [
           "confirmed"
          ],
          [
           "confirmed"
          ],
          [
           "confirmed"
          ],
          [
           "confirmed"
          ],
          [
           "confirmed"
          ],
          [
           "confirmed"
          ],
          [
           "confirmed"
          ],
          [
           "confirmed"
          ],
          [
           "confirmed"
          ],
          [
           "confirmed"
          ],
          [
           "confirmed"
          ],
          [
           "confirmed"
          ],
          [
           "confirmed"
          ],
          [
           "confirmed"
          ],
          [
           "confirmed"
          ],
          [
           "confirmed"
          ],
          [
           "confirmed"
          ],
          [
           "confirmed"
          ],
          [
           "confirmed"
          ],
          [
           "confirmed"
          ],
          [
           "confirmed"
          ],
          [
           "confirmed"
          ],
          [
           "confirmed"
          ],
          [
           "confirmed"
          ],
          [
           "confirmed"
          ],
          [
           "confirmed"
          ],
          [
           "confirmed"
          ],
          [
           "confirmed"
          ],
          [
           "confirmed"
          ],
          [
           "confirmed"
          ],
          [
           "confirmed"
          ],
          [
           "confirmed"
          ],
          [
           "confirmed"
          ],
          [
           "confirmed"
          ],
          [
           "confirmed"
          ],
          [
           "confirmed"
          ],
          [
           "confirmed"
          ],
          [
           "confirmed"
          ],
          [
           "confirmed"
          ],
          [
           "confirmed"
          ],
          [
           "confirmed"
          ],
          [
           "confirmed"
          ],
          [
           "confirmed"
          ],
          [
           "confirmed"
          ],
          [
           "confirmed"
          ],
          [
           "confirmed"
          ],
          [
           "confirmed"
          ],
          [
           "confirmed"
          ],
          [
           "confirmed"
          ],
          [
           "confirmed"
          ],
          [
           "confirmed"
          ],
          [
           "confirmed"
          ],
          [
           "confirmed"
          ],
          [
           "confirmed"
          ],
          [
           "confirmed"
          ],
          [
           "confirmed"
          ],
          [
           "confirmed"
          ],
          [
           "confirmed"
          ],
          [
           "confirmed"
          ],
          [
           "confirmed"
          ],
          [
           "confirmed"
          ],
          [
           "confirmed"
          ],
          [
           "confirmed"
          ],
          [
           "confirmed"
          ]
         ],
         "hovertemplate": "Cases=%{y:,}<extra></extra>",
         "legendgroup": "confirmed",
         "line": {
          "color": "#34495e",
          "dash": "solid"
         },
         "mode": "lines",
         "name": "confirmed",
         "showlegend": true,
         "type": "scattergl",
         "x": [
          "1/22/20",
          "1/23/20",
          "1/24/20",
          "1/25/20",
          "1/26/20",
          "1/27/20",
          "1/28/20",
          "1/29/20",
          "1/30/20",
          "1/31/20",
          "2/1/20",
          "2/2/20",
          "2/3/20",
          "2/4/20",
          "2/5/20",
          "2/6/20",
          "2/7/20",
          "2/8/20",
          "2/9/20",
          "2/10/20",
          "2/11/20",
          "2/12/20",
          "2/13/20",
          "2/14/20",
          "2/15/20",
          "2/16/20",
          "2/17/20",
          "2/18/20",
          "2/19/20",
          "2/20/20",
          "2/21/20",
          "2/22/20",
          "2/23/20",
          "2/24/20",
          "2/25/20",
          "2/26/20",
          "2/27/20",
          "2/28/20",
          "2/29/20",
          "3/1/20",
          "3/2/20",
          "3/3/20",
          "3/4/20",
          "3/5/20",
          "3/6/20",
          "3/7/20",
          "3/8/20",
          "3/9/20",
          "3/10/20",
          "3/11/20",
          "3/12/20",
          "3/13/20",
          "3/14/20",
          "3/15/20",
          "3/16/20",
          "3/17/20",
          "3/18/20",
          "3/19/20",
          "3/20/20",
          "3/21/20",
          "3/22/20",
          "3/23/20",
          "3/24/20",
          "3/25/20",
          "3/26/20",
          "3/27/20",
          "3/28/20",
          "3/29/20",
          "3/30/20",
          "3/31/20",
          "4/1/20",
          "4/2/20",
          "4/3/20",
          "4/4/20",
          "4/5/20",
          "4/6/20",
          "4/7/20",
          "4/8/20",
          "4/9/20",
          "4/10/20",
          "4/11/20",
          "4/12/20",
          "4/13/20",
          "4/14/20",
          "4/15/20",
          "4/16/20",
          "4/17/20",
          "4/18/20",
          "4/19/20",
          "4/20/20",
          "4/21/20",
          "4/22/20",
          "4/23/20",
          "4/24/20",
          "4/25/20",
          "4/26/20",
          "4/27/20",
          "4/28/20",
          "4/29/20",
          "4/30/20",
          "5/1/20",
          "5/2/20",
          "5/3/20",
          "5/4/20",
          "5/5/20",
          "5/6/20",
          "5/7/20",
          "5/8/20",
          "5/9/20",
          "5/10/20",
          "5/11/20",
          "5/12/20",
          "5/13/20",
          "5/14/20",
          "5/15/20",
          "5/16/20",
          "5/17/20",
          "5/18/20",
          "5/19/20",
          "5/20/20",
          "5/21/20",
          "5/22/20",
          "5/23/20",
          "5/24/20",
          "5/25/20",
          "5/26/20",
          "5/27/20",
          "5/28/20",
          "5/29/20",
          "5/30/20",
          "5/31/20",
          "6/1/20",
          "6/2/20",
          "6/3/20",
          "6/4/20",
          "6/5/20",
          "6/6/20",
          "6/7/20",
          "6/8/20",
          "6/9/20",
          "6/10/20",
          "6/11/20",
          "6/12/20",
          "6/13/20",
          "6/14/20",
          "6/15/20",
          "6/16/20",
          "6/17/20",
          "6/18/20",
          "6/19/20",
          "6/20/20",
          "6/21/20",
          "6/22/20",
          "6/23/20",
          "6/24/20",
          "6/25/20",
          "6/26/20",
          "6/27/20",
          "6/28/20",
          "6/29/20",
          "6/30/20",
          "7/1/20",
          "7/2/20",
          "7/3/20",
          "7/4/20",
          "7/5/20",
          "7/6/20",
          "7/7/20",
          "7/8/20",
          "7/9/20",
          "7/10/20",
          "7/11/20",
          "7/12/20",
          "7/13/20",
          "7/14/20",
          "7/15/20",
          "7/16/20",
          "7/17/20",
          "7/18/20",
          "7/19/20",
          "7/20/20",
          "7/21/20",
          "7/22/20",
          "7/23/20",
          "7/24/20",
          "7/25/20",
          "7/26/20",
          "7/27/20",
          "7/28/20",
          "7/29/20",
          "7/30/20",
          "7/31/20",
          "8/1/20",
          "8/2/20",
          "8/3/20",
          "8/4/20",
          "8/5/20",
          "8/6/20",
          "8/7/20",
          "8/8/20",
          "8/9/20",
          "8/10/20",
          "8/11/20",
          "8/12/20",
          "8/13/20",
          "8/14/20",
          "8/15/20",
          "8/16/20",
          "8/17/20",
          "8/18/20",
          "8/19/20",
          "8/20/20",
          "8/21/20",
          "8/22/20",
          "8/23/20",
          "8/24/20",
          "8/25/20",
          "8/26/20",
          "8/27/20",
          "8/28/20",
          "8/29/20",
          "8/30/20",
          "8/31/20",
          "9/1/20",
          "9/2/20",
          "9/3/20",
          "9/4/20",
          "9/5/20",
          "9/6/20",
          "9/7/20",
          "9/8/20",
          "9/9/20",
          "9/10/20",
          "9/11/20",
          "9/12/20",
          "9/13/20",
          "9/14/20",
          "9/15/20",
          "9/16/20",
          "9/17/20",
          "9/18/20",
          "9/19/20",
          "9/20/20",
          "9/21/20",
          "9/22/20",
          "9/23/20",
          "9/24/20",
          "9/25/20",
          "9/26/20",
          "9/27/20",
          "9/28/20",
          "9/29/20",
          "9/30/20",
          "10/1/20",
          "10/2/20",
          "10/3/20",
          "10/4/20",
          "10/5/20",
          "10/6/20",
          "10/7/20",
          "10/8/20",
          "10/9/20",
          "10/10/20",
          "10/11/20",
          "10/12/20",
          "10/13/20",
          "10/14/20",
          "10/15/20",
          "10/16/20",
          "10/17/20",
          "10/18/20",
          "10/19/20",
          "10/20/20",
          "10/21/20",
          "10/22/20",
          "10/23/20",
          "10/24/20",
          "10/25/20",
          "10/26/20",
          "10/27/20",
          "10/28/20",
          "10/29/20",
          "10/30/20",
          "10/31/20",
          "11/1/20",
          "11/2/20",
          "11/3/20",
          "11/4/20",
          "11/5/20",
          "11/6/20",
          "11/7/20",
          "11/8/20",
          "11/9/20",
          "11/10/20",
          "11/11/20",
          "11/12/20",
          "11/13/20",
          "11/14/20",
          "11/15/20",
          "11/16/20",
          "11/17/20",
          "11/18/20",
          "11/19/20",
          "11/20/20",
          "11/21/20",
          "11/22/20",
          "11/23/20",
          "11/24/20",
          "11/25/20",
          "11/26/20",
          "11/27/20",
          "11/28/20",
          "11/29/20",
          "11/30/20",
          "12/1/20",
          "12/2/20",
          "12/3/20",
          "12/4/20",
          "12/5/20",
          "12/6/20",
          "12/7/20",
          "12/8/20",
          "12/9/20",
          "12/10/20",
          "12/11/20",
          "12/12/20",
          "12/13/20",
          "12/14/20",
          "12/15/20",
          "12/16/20",
          "12/17/20",
          "12/18/20",
          "12/19/20",
          "12/20/20",
          "12/21/20",
          "12/22/20",
          "12/23/20",
          "12/24/20",
          "12/25/20",
          "12/26/20",
          "12/27/20",
          "12/28/20",
          "12/29/20",
          "12/30/20",
          "12/31/20",
          "1/1/21",
          "1/2/21",
          "1/3/21",
          "1/4/21",
          "1/5/21",
          "1/6/21",
          "1/7/21",
          "1/8/21",
          "1/9/21",
          "1/10/21",
          "1/11/21",
          "1/12/21",
          "1/13/21",
          "1/14/21",
          "1/15/21",
          "1/16/21",
          "1/17/21",
          "1/18/21",
          "1/19/21",
          "1/20/21",
          "1/21/21",
          "1/22/21",
          "1/23/21",
          "1/24/21",
          "1/25/21",
          "1/26/21",
          "1/27/21",
          "1/28/21",
          "1/29/21",
          "1/30/21",
          "1/31/21",
          "2/1/21",
          "2/2/21",
          "2/3/21",
          "2/4/21",
          "2/5/21",
          "2/6/21",
          "2/7/21",
          "2/8/21",
          "2/9/21",
          "2/10/21",
          "2/11/21",
          "2/12/21",
          "2/13/21",
          "2/14/21",
          "2/15/21",
          "2/16/21",
          "2/17/21",
          "2/18/21",
          "2/19/21",
          "2/20/21",
          "2/21/21",
          "2/22/21",
          "2/23/21",
          "2/24/21",
          "2/25/21",
          "2/26/21",
          "2/27/21",
          "2/28/21",
          "3/1/21",
          "3/2/21",
          "3/3/21",
          "3/4/21",
          "3/5/21",
          "3/6/21",
          "3/7/21",
          "3/8/21",
          "3/9/21",
          "3/10/21",
          "3/11/21",
          "3/12/21",
          "3/13/21",
          "3/14/21",
          "3/15/21",
          "3/16/21",
          "3/17/21",
          "3/18/21",
          "3/19/21",
          "3/20/21",
          "3/21/21",
          "3/22/21",
          "3/23/21",
          "3/24/21",
          "3/25/21",
          "3/26/21",
          "3/27/21",
          "3/28/21",
          "3/29/21",
          "3/30/21",
          "3/31/21",
          "4/1/21",
          "4/2/21",
          "4/3/21",
          "4/4/21",
          "4/5/21",
          "4/6/21",
          "4/7/21",
          "4/8/21",
          "4/9/21",
          "4/10/21",
          "4/11/21",
          "4/12/21",
          "4/13/21",
          "4/14/21",
          "4/15/21",
          "4/16/21",
          "4/17/21",
          "4/18/21",
          "4/19/21",
          "4/20/21",
          "4/21/21",
          "4/22/21",
          "4/23/21",
          "4/24/21",
          "4/25/21",
          "4/26/21",
          "4/27/21",
          "4/28/21",
          "4/29/21",
          "4/30/21",
          "5/1/21",
          "5/2/21",
          "5/3/21",
          "5/4/21",
          "5/5/21",
          "5/6/21",
          "5/7/21",
          "5/8/21",
          "5/9/21",
          "5/10/21",
          "5/11/21",
          "5/12/21",
          "5/13/21",
          "5/14/21",
          "5/15/21",
          "5/16/21",
          "5/17/21",
          "5/18/21",
          "5/19/21",
          "5/20/21",
          "5/21/21",
          "5/22/21",
          "5/23/21",
          "5/24/21",
          "5/25/21",
          "5/26/21",
          "5/27/21",
          "5/28/21",
          "5/29/21",
          "5/30/21",
          "5/31/21",
          "6/1/21",
          "6/2/21",
          "6/3/21",
          "6/4/21",
          "6/5/21",
          "6/6/21",
          "6/7/21",
          "6/8/21",
          "6/9/21",
          "6/10/21",
          "6/11/21",
          "6/12/21",
          "6/13/21",
          "6/14/21",
          "6/15/21",
          "6/16/21",
          "6/17/21",
          "6/18/21",
          "6/19/21",
          "6/20/21",
          "6/21/21",
          "6/22/21",
          "6/23/21",
          "6/24/21",
          "6/25/21",
          "6/26/21",
          "6/27/21",
          "6/28/21",
          "6/29/21",
          "6/30/21",
          "7/1/21",
          "7/2/21",
          "7/3/21",
          "7/4/21",
          "7/5/21",
          "7/6/21",
          "7/7/21",
          "7/8/21",
          "7/9/21",
          "7/10/21"
         ],
         "xaxis": "x",
         "y": [
          557,
          655,
          941,
          1433,
          2118,
          2927,
          5578,
          6167,
          8235,
          9927,
          12038,
          16787,
          19887,
          23898,
          27643,
          30803,
          34396,
          37130,
          40160,
          42769,
          44811,
          45229,
          60382,
          66909,
          69052,
          71235,
          73270,
          75152,
          75652,
          76212,
          76841,
          78602,
          78982,
          79546,
          80399,
          81376,
          82736,
          84122,
          86013,
          88394,
          90377,
          92971,
          95279,
          98090,
          102003,
          106098,
          110047,
          114219,
          119041,
          126702,
          132492,
          146876,
          157950,
          169219,
          184027,
          199970,
          219535,
          246584,
          277359,
          309350,
          344205,
          387040,
          428219,
          479220,
          542097,
          607138,
          674418,
          733655,
          798949,
          875794,
          958629,
          1041679,
          1125250,
          1183609,
          1256219,
          1329371,
          1399212,
          1482610,
          1569630,
          1655153,
          1729417,
          1849112,
          1919853,
          2003857,
          2080973,
          2176491,
          2264524,
          2341739,
          2418310,
          2494320,
          2570078,
          2651377,
          2735668,
          2819764,
          2902007,
          2973582,
          3043786,
          3119324,
          3196455,
          3279935,
          3368292,
          3447490,
          3523887,
          3601559,
          3682058,
          3772095,
          3860819,
          3951089,
          4036352,
          4111266,
          4187924,
          4272394,
          4357399,
          4453629,
          4549347,
          4643762,
          4721809,
          4810975,
          4907722,
          5009628,
          5116275,
          5222689,
          5327481,
          5421702,
          5508408,
          5602388,
          5705152,
          5824433,
          5945341,
          6081855,
          6188259,
          6284232,
          6406196,
          6520447,
          6651410,
          6782636,
          6916355,
          7028730,
          7131206,
          7256265,
          7391371,
          7529424,
          7658151,
          7793444,
          7925721,
          8045387,
          8187468,
          8331222,
          8472296,
          8652193,
          8809651,
          8937355,
          9076708,
          9243514,
          9416110,
          9594500,
          9786102,
          9964218,
          10128093,
          10283456,
          10457988,
          10675596,
          10885548,
          11086923,
          11280744,
          11464726,
          11628722,
          11840091,
          12054250,
          12281090,
          12513766,
          12730232,
          12922492,
          13113970,
          13336173,
          13567611,
          13818969,
          14061686,
          14297865,
          14511279,
          14718412,
          14952034,
          15231917,
          15514776,
          15795846,
          16049938,
          16263015,
          16489477,
          16742217,
          17033965,
          17314074,
          17604811,
          17853166,
          18084181,
          18290628,
          18548543,
          18825127,
          19110321,
          19392566,
          19651099,
          19875797,
          20101808,
          20359380,
          20636018,
          20925236,
          21228980,
          21476718,
          21691208,
          21898916,
          22157171,
          22436722,
          22709277,
          22970496,
          23234766,
          23440930,
          23666158,
          23910153,
          24193952,
          24477860,
          24761471,
          25025287,
          25246275,
          25509140,
          25774047,
          26057555,
          26339015,
          26653020,
          26923081,
          27153595,
          27371523,
          27613555,
          27898369,
          28198228,
          28519589,
          28806206,
          29048946,
          29312693,
          29598140,
          29902687,
          30217566,
          30543485,
          30835647,
          31087793,
          31363785,
          31648303,
          31924402,
          32277431,
          32608314,
          32896777,
          33148188,
          33403027,
          33685585,
          34011804,
          34330104,
          34627958,
          34960044,
          35221464,
          35522414,
          35848966,
          36199957,
          36561290,
          36922190,
          37279326,
          37566278,
          37857976,
          38177218,
          38559565,
          38966541,
          39378313,
          39750993,
          40067583,
          40454758,
          40843745,
          41288653,
          41761382,
          42258164,
          42714986,
          43075703,
          43562021,
          44032249,
          44544143,
          45094525,
          45665604,
          46142428,
          46604864,
          47167894,
          47721721,
          48233206,
          48829777,
          49474659,
          50071611,
          50555683,
          51057076,
          51616461,
          52265191,
          52914645,
          53566727,
          54161862,
          54635935,
          55170071,
          55781327,
          56408504,
          57062051,
          57730831,
          58318557,
          58806701,
          59331660,
          59921951,
          60558291,
          61140970,
          61827863,
          62414022,
          62902699,
          63411091,
          64023308,
          64675043,
          65369179,
          66052314,
          66694746,
          67233741,
          67753311,
          68396799,
          69066819,
          70564945,
          71269554,
          71904616,
          72435722,
          72960602,
          73596794,
          74330464,
          75070221,
          75790546,
          76401995,
          76935664,
          77484615,
          78134972,
          78830100,
          79496691,
          79962475,
          80475205,
          80913868,
          81409709,
          82074293,
          82835540,
          83560482,
          84093788,
          84720299,
          85253202,
          85807043,
          86547096,
          87330661,
          88211545,
          89014809,
          89776075,
          90365376,
          90984976,
          91690531,
          92438858,
          93194145,
          93961381,
          94600703,
          95130064,
          95645312,
          96253248,
          96946210,
          97602571,
          98261639,
          98829909,
          99275699,
          99772747,
          100329071,
          100927448,
          101541893,
          102132381,
          102647858,
          103029652,
          103476199,
          103934126,
          104456157,
          104923095,
          105458548,
          105830862,
          106229038,
          106545054,
          106972720,
          107408534,
          107850003,
          108278724,
          108652122,
          108946086,
          109229345,
          109580144,
          109975720,
          110379223,
          110791727,
          111162353,
          111476871,
          111765248,
          112154108,
          112599061,
          113046542,
          113489584,
          113878865,
          114182439,
          114488172,
          114798498,
          115239638,
          115692696,
          116139718,
          116550302,
          116918680,
          117217284,
          117631974,
          118099028,
          118575921,
          119065239,
          119519454,
          119879896,
          120228672,
          120701736,
          121241165,
          121794725,
          122356426,
          122855391,
          123278760,
          123695424,
          124209754,
          124843313,
          125494744,
          126136151,
          126720885,
          127190969,
          127649218,
          128217671,
          128900602,
          129612463,
          130246258,
          130775895,
          131328859,
          131818168,
          132422385,
          133106714,
          133946580,
          134694637,
          135359296,
          136050166,
          136666636,
          137446291,
          138263344,
          139080124,
          139935059,
          140723260,
          141408858,
          142102452,
          142956553,
          143846526,
          144746302,
          145650061,
          146471133,
          147193577,
          147876238,
          148720688,
          149626705,
          150524359,
          151403370,
          152200137,
          152874521,
          153556042,
          154363468,
          155204661,
          156074676,
          156907075,
          157692803,
          158334377,
          158956206,
          159694690,
          160454737,
          161180001,
          161898023,
          162526046,
          163074638,
          163614666,
          164237186,
          164908812,
          165188760,
          165814775,
          166392974,
          166869511,
          167324050,
          167856231,
          168424816,
          168979539,
          169479825,
          169961141,
          170352567,
          170731471,
          171195193,
          171680900,
          172170117,
          172589912,
          172988179,
          173310870,
          173632175,
          173998995,
          174418487,
          174867993,
          175289246,
          175661149,
          175964067,
          176272585,
          176644086,
          177042620,
          177435116,
          177841047,
          178188494,
          178488818,
          178786159,
          179158296,
          179595551,
          179999393,
          180421133,
          180783952,
          181093841,
          181425790,
          181809946,
          182202375,
          182641434,
          183084575,
          183459631,
          183786486,
          184158258,
          184612003,
          185075852,
          185557387,
          186060062,
          186459999
         ],
         "yaxis": "y"
        },
        {
         "customdata": [
          [
           "deaths"
          ],
          [
           "deaths"
          ],
          [
           "deaths"
          ],
          [
           "deaths"
          ],
          [
           "deaths"
          ],
          [
           "deaths"
          ],
          [
           "deaths"
          ],
          [
           "deaths"
          ],
          [
           "deaths"
          ],
          [
           "deaths"
          ],
          [
           "deaths"
          ],
          [
           "deaths"
          ],
          [
           "deaths"
          ],
          [
           "deaths"
          ],
          [
           "deaths"
          ],
          [
           "deaths"
          ],
          [
           "deaths"
          ],
          [
           "deaths"
          ],
          [
           "deaths"
          ],
          [
           "deaths"
          ],
          [
           "deaths"
          ],
          [
           "deaths"
          ],
          [
           "deaths"
          ],
          [
           "deaths"
          ],
          [
           "deaths"
          ],
          [
           "deaths"
          ],
          [
           "deaths"
          ],
          [
           "deaths"
          ],
          [
           "deaths"
          ],
          [
           "deaths"
          ],
          [
           "deaths"
          ],
          [
           "deaths"
          ],
          [
           "deaths"
          ],
          [
           "deaths"
          ],
          [
           "deaths"
          ],
          [
           "deaths"
          ],
          [
           "deaths"
          ],
          [
           "deaths"
          ],
          [
           "deaths"
          ],
          [
           "deaths"
          ],
          [
           "deaths"
          ],
          [
           "deaths"
          ],
          [
           "deaths"
          ],
          [
           "deaths"
          ],
          [
           "deaths"
          ],
          [
           "deaths"
          ],
          [
           "deaths"
          ],
          [
           "deaths"
          ],
          [
           "deaths"
          ],
          [
           "deaths"
          ],
          [
           "deaths"
          ],
          [
           "deaths"
          ],
          [
           "deaths"
          ],
          [
           "deaths"
          ],
          [
           "deaths"
          ],
          [
           "deaths"
          ],
          [
           "deaths"
          ],
          [
           "deaths"
          ],
          [
           "deaths"
          ],
          [
           "deaths"
          ],
          [
           "deaths"
          ],
          [
           "deaths"
          ],
          [
           "deaths"
          ],
          [
           "deaths"
          ],
          [
           "deaths"
          ],
          [
           "deaths"
          ],
          [
           "deaths"
          ],
          [
           "deaths"
          ],
          [
           "deaths"
          ],
          [
           "deaths"
          ],
          [
           "deaths"
          ],
          [
           "deaths"
          ],
          [
           "deaths"
          ],
          [
           "deaths"
          ],
          [
           "deaths"
          ],
          [
           "deaths"
          ],
          [
           "deaths"
          ],
          [
           "deaths"
          ],
          [
           "deaths"
          ],
          [
           "deaths"
          ],
          [
           "deaths"
          ],
          [
           "deaths"
          ],
          [
           "deaths"
          ],
          [
           "deaths"
          ],
          [
           "deaths"
          ],
          [
           "deaths"
          ],
          [
           "deaths"
          ],
          [
           "deaths"
          ],
          [
           "deaths"
          ],
          [
           "deaths"
          ],
          [
           "deaths"
          ],
          [
           "deaths"
          ],
          [
           "deaths"
          ],
          [
           "deaths"
          ],
          [
           "deaths"
          ],
          [
           "deaths"
          ],
          [
           "deaths"
          ],
          [
           "deaths"
          ],
          [
           "deaths"
          ],
          [
           "deaths"
          ],
          [
           "deaths"
          ],
          [
           "deaths"
          ],
          [
           "deaths"
          ],
          [
           "deaths"
          ],
          [
           "deaths"
          ],
          [
           "deaths"
          ],
          [
           "deaths"
          ],
          [
           "deaths"
          ],
          [
           "deaths"
          ],
          [
           "deaths"
          ],
          [
           "deaths"
          ],
          [
           "deaths"
          ],
          [
           "deaths"
          ],
          [
           "deaths"
          ],
          [
           "deaths"
          ],
          [
           "deaths"
          ],
          [
           "deaths"
          ],
          [
           "deaths"
          ],
          [
           "deaths"
          ],
          [
           "deaths"
          ],
          [
           "deaths"
          ],
          [
           "deaths"
          ],
          [
           "deaths"
          ],
          [
           "deaths"
          ],
          [
           "deaths"
          ],
          [
           "deaths"
          ],
          [
           "deaths"
          ],
          [
           "deaths"
          ],
          [
           "deaths"
          ],
          [
           "deaths"
          ],
          [
           "deaths"
          ],
          [
           "deaths"
          ],
          [
           "deaths"
          ],
          [
           "deaths"
          ],
          [
           "deaths"
          ],
          [
           "deaths"
          ],
          [
           "deaths"
          ],
          [
           "deaths"
          ],
          [
           "deaths"
          ],
          [
           "deaths"
          ],
          [
           "deaths"
          ],
          [
           "deaths"
          ],
          [
           "deaths"
          ],
          [
           "deaths"
          ],
          [
           "deaths"
          ],
          [
           "deaths"
          ],
          [
           "deaths"
          ],
          [
           "deaths"
          ],
          [
           "deaths"
          ],
          [
           "deaths"
          ],
          [
           "deaths"
          ],
          [
           "deaths"
          ],
          [
           "deaths"
          ],
          [
           "deaths"
          ],
          [
           "deaths"
          ],
          [
           "deaths"
          ],
          [
           "deaths"
          ],
          [
           "deaths"
          ],
          [
           "deaths"
          ],
          [
           "deaths"
          ],
          [
           "deaths"
          ],
          [
           "deaths"
          ],
          [
           "deaths"
          ],
          [
           "deaths"
          ],
          [
           "deaths"
          ],
          [
           "deaths"
          ],
          [
           "deaths"
          ],
          [
           "deaths"
          ],
          [
           "deaths"
          ],
          [
           "deaths"
          ],
          [
           "deaths"
          ],
          [
           "deaths"
          ],
          [
           "deaths"
          ],
          [
           "deaths"
          ],
          [
           "deaths"
          ],
          [
           "deaths"
          ],
          [
           "deaths"
          ],
          [
           "deaths"
          ],
          [
           "deaths"
          ],
          [
           "deaths"
          ],
          [
           "deaths"
          ],
          [
           "deaths"
          ],
          [
           "deaths"
          ],
          [
           "deaths"
          ],
          [
           "deaths"
          ],
          [
           "deaths"
          ],
          [
           "deaths"
          ],
          [
           "deaths"
          ],
          [
           "deaths"
          ],
          [
           "deaths"
          ],
          [
           "deaths"
          ],
          [
           "deaths"
          ],
          [
           "deaths"
          ],
          [
           "deaths"
          ],
          [
           "deaths"
          ],
          [
           "deaths"
          ],
          [
           "deaths"
          ],
          [
           "deaths"
          ],
          [
           "deaths"
          ],
          [
           "deaths"
          ],
          [
           "deaths"
          ],
          [
           "deaths"
          ],
          [
           "deaths"
          ],
          [
           "deaths"
          ],
          [
           "deaths"
          ],
          [
           "deaths"
          ],
          [
           "deaths"
          ],
          [
           "deaths"
          ],
          [
           "deaths"
          ],
          [
           "deaths"
          ],
          [
           "deaths"
          ],
          [
           "deaths"
          ],
          [
           "deaths"
          ],
          [
           "deaths"
          ],
          [
           "deaths"
          ],
          [
           "deaths"
          ],
          [
           "deaths"
          ],
          [
           "deaths"
          ],
          [
           "deaths"
          ],
          [
           "deaths"
          ],
          [
           "deaths"
          ],
          [
           "deaths"
          ],
          [
           "deaths"
          ],
          [
           "deaths"
          ],
          [
           "deaths"
          ],
          [
           "deaths"
          ],
          [
           "deaths"
          ],
          [
           "deaths"
          ],
          [
           "deaths"
          ],
          [
           "deaths"
          ],
          [
           "deaths"
          ],
          [
           "deaths"
          ],
          [
           "deaths"
          ],
          [
           "deaths"
          ],
          [
           "deaths"
          ],
          [
           "deaths"
          ],
          [
           "deaths"
          ],
          [
           "deaths"
          ],
          [
           "deaths"
          ],
          [
           "deaths"
          ],
          [
           "deaths"
          ],
          [
           "deaths"
          ],
          [
           "deaths"
          ],
          [
           "deaths"
          ],
          [
           "deaths"
          ],
          [
           "deaths"
          ],
          [
           "deaths"
          ],
          [
           "deaths"
          ],
          [
           "deaths"
          ],
          [
           "deaths"
          ],
          [
           "deaths"
          ],
          [
           "deaths"
          ],
          [
           "deaths"
          ],
          [
           "deaths"
          ],
          [
           "deaths"
          ],
          [
           "deaths"
          ],
          [
           "deaths"
          ],
          [
           "deaths"
          ],
          [
           "deaths"
          ],
          [
           "deaths"
          ],
          [
           "deaths"
          ],
          [
           "deaths"
          ],
          [
           "deaths"
          ],
          [
           "deaths"
          ],
          [
           "deaths"
          ],
          [
           "deaths"
          ],
          [
           "deaths"
          ],
          [
           "deaths"
          ],
          [
           "deaths"
          ],
          [
           "deaths"
          ],
          [
           "deaths"
          ],
          [
           "deaths"
          ],
          [
           "deaths"
          ],
          [
           "deaths"
          ],
          [
           "deaths"
          ],
          [
           "deaths"
          ],
          [
           "deaths"
          ],
          [
           "deaths"
          ],
          [
           "deaths"
          ],
          [
           "deaths"
          ],
          [
           "deaths"
          ],
          [
           "deaths"
          ],
          [
           "deaths"
          ],
          [
           "deaths"
          ],
          [
           "deaths"
          ],
          [
           "deaths"
          ],
          [
           "deaths"
          ],
          [
           "deaths"
          ],
          [
           "deaths"
          ],
          [
           "deaths"
          ],
          [
           "deaths"
          ],
          [
           "deaths"
          ],
          [
           "deaths"
          ],
          [
           "deaths"
          ],
          [
           "deaths"
          ],
          [
           "deaths"
          ],
          [
           "deaths"
          ],
          [
           "deaths"
          ],
          [
           "deaths"
          ],
          [
           "deaths"
          ],
          [
           "deaths"
          ],
          [
           "deaths"
          ],
          [
           "deaths"
          ],
          [
           "deaths"
          ],
          [
           "deaths"
          ],
          [
           "deaths"
          ],
          [
           "deaths"
          ],
          [
           "deaths"
          ],
          [
           "deaths"
          ],
          [
           "deaths"
          ],
          [
           "deaths"
          ],
          [
           "deaths"
          ],
          [
           "deaths"
          ],
          [
           "deaths"
          ],
          [
           "deaths"
          ],
          [
           "deaths"
          ],
          [
           "deaths"
          ],
          [
           "deaths"
          ],
          [
           "deaths"
          ],
          [
           "deaths"
          ],
          [
           "deaths"
          ],
          [
           "deaths"
          ],
          [
           "deaths"
          ],
          [
           "deaths"
          ],
          [
           "deaths"
          ],
          [
           "deaths"
          ],
          [
           "deaths"
          ],
          [
           "deaths"
          ],
          [
           "deaths"
          ],
          [
           "deaths"
          ],
          [
           "deaths"
          ],
          [
           "deaths"
          ],
          [
           "deaths"
          ],
          [
           "deaths"
          ],
          [
           "deaths"
          ],
          [
           "deaths"
          ],
          [
           "deaths"
          ],
          [
           "deaths"
          ],
          [
           "deaths"
          ],
          [
           "deaths"
          ],
          [
           "deaths"
          ],
          [
           "deaths"
          ],
          [
           "deaths"
          ],
          [
           "deaths"
          ],
          [
           "deaths"
          ],
          [
           "deaths"
          ],
          [
           "deaths"
          ],
          [
           "deaths"
          ],
          [
           "deaths"
          ],
          [
           "deaths"
          ],
          [
           "deaths"
          ],
          [
           "deaths"
          ],
          [
           "deaths"
          ],
          [
           "deaths"
          ],
          [
           "deaths"
          ],
          [
           "deaths"
          ],
          [
           "deaths"
          ],
          [
           "deaths"
          ],
          [
           "deaths"
          ],
          [
           "deaths"
          ],
          [
           "deaths"
          ],
          [
           "deaths"
          ],
          [
           "deaths"
          ],
          [
           "deaths"
          ],
          [
           "deaths"
          ],
          [
           "deaths"
          ],
          [
           "deaths"
          ],
          [
           "deaths"
          ],
          [
           "deaths"
          ],
          [
           "deaths"
          ],
          [
           "deaths"
          ],
          [
           "deaths"
          ],
          [
           "deaths"
          ],
          [
           "deaths"
          ],
          [
           "deaths"
          ],
          [
           "deaths"
          ],
          [
           "deaths"
          ],
          [
           "deaths"
          ],
          [
           "deaths"
          ],
          [
           "deaths"
          ],
          [
           "deaths"
          ],
          [
           "deaths"
          ],
          [
           "deaths"
          ],
          [
           "deaths"
          ],
          [
           "deaths"
          ],
          [
           "deaths"
          ],
          [
           "deaths"
          ],
          [
           "deaths"
          ],
          [
           "deaths"
          ],
          [
           "deaths"
          ],
          [
           "deaths"
          ],
          [
           "deaths"
          ],
          [
           "deaths"
          ],
          [
           "deaths"
          ],
          [
           "deaths"
          ],
          [
           "deaths"
          ],
          [
           "deaths"
          ],
          [
           "deaths"
          ],
          [
           "deaths"
          ],
          [
           "deaths"
          ],
          [
           "deaths"
          ],
          [
           "deaths"
          ],
          [
           "deaths"
          ],
          [
           "deaths"
          ],
          [
           "deaths"
          ],
          [
           "deaths"
          ],
          [
           "deaths"
          ],
          [
           "deaths"
          ],
          [
           "deaths"
          ],
          [
           "deaths"
          ],
          [
           "deaths"
          ],
          [
           "deaths"
          ],
          [
           "deaths"
          ],
          [
           "deaths"
          ],
          [
           "deaths"
          ],
          [
           "deaths"
          ],
          [
           "deaths"
          ],
          [
           "deaths"
          ],
          [
           "deaths"
          ],
          [
           "deaths"
          ],
          [
           "deaths"
          ],
          [
           "deaths"
          ],
          [
           "deaths"
          ],
          [
           "deaths"
          ],
          [
           "deaths"
          ],
          [
           "deaths"
          ],
          [
           "deaths"
          ],
          [
           "deaths"
          ],
          [
           "deaths"
          ],
          [
           "deaths"
          ],
          [
           "deaths"
          ],
          [
           "deaths"
          ],
          [
           "deaths"
          ],
          [
           "deaths"
          ],
          [
           "deaths"
          ],
          [
           "deaths"
          ],
          [
           "deaths"
          ],
          [
           "deaths"
          ],
          [
           "deaths"
          ],
          [
           "deaths"
          ],
          [
           "deaths"
          ],
          [
           "deaths"
          ],
          [
           "deaths"
          ],
          [
           "deaths"
          ],
          [
           "deaths"
          ],
          [
           "deaths"
          ],
          [
           "deaths"
          ],
          [
           "deaths"
          ],
          [
           "deaths"
          ],
          [
           "deaths"
          ],
          [
           "deaths"
          ],
          [
           "deaths"
          ],
          [
           "deaths"
          ],
          [
           "deaths"
          ],
          [
           "deaths"
          ],
          [
           "deaths"
          ],
          [
           "deaths"
          ],
          [
           "deaths"
          ],
          [
           "deaths"
          ],
          [
           "deaths"
          ],
          [
           "deaths"
          ],
          [
           "deaths"
          ],
          [
           "deaths"
          ],
          [
           "deaths"
          ],
          [
           "deaths"
          ],
          [
           "deaths"
          ],
          [
           "deaths"
          ],
          [
           "deaths"
          ],
          [
           "deaths"
          ],
          [
           "deaths"
          ],
          [
           "deaths"
          ],
          [
           "deaths"
          ],
          [
           "deaths"
          ],
          [
           "deaths"
          ],
          [
           "deaths"
          ],
          [
           "deaths"
          ],
          [
           "deaths"
          ],
          [
           "deaths"
          ],
          [
           "deaths"
          ],
          [
           "deaths"
          ],
          [
           "deaths"
          ],
          [
           "deaths"
          ],
          [
           "deaths"
          ],
          [
           "deaths"
          ],
          [
           "deaths"
          ],
          [
           "deaths"
          ],
          [
           "deaths"
          ],
          [
           "deaths"
          ],
          [
           "deaths"
          ],
          [
           "deaths"
          ],
          [
           "deaths"
          ],
          [
           "deaths"
          ],
          [
           "deaths"
          ],
          [
           "deaths"
          ],
          [
           "deaths"
          ],
          [
           "deaths"
          ],
          [
           "deaths"
          ],
          [
           "deaths"
          ],
          [
           "deaths"
          ],
          [
           "deaths"
          ],
          [
           "deaths"
          ],
          [
           "deaths"
          ],
          [
           "deaths"
          ],
          [
           "deaths"
          ],
          [
           "deaths"
          ],
          [
           "deaths"
          ],
          [
           "deaths"
          ],
          [
           "deaths"
          ],
          [
           "deaths"
          ],
          [
           "deaths"
          ],
          [
           "deaths"
          ],
          [
           "deaths"
          ],
          [
           "deaths"
          ],
          [
           "deaths"
          ],
          [
           "deaths"
          ],
          [
           "deaths"
          ],
          [
           "deaths"
          ],
          [
           "deaths"
          ],
          [
           "deaths"
          ],
          [
           "deaths"
          ],
          [
           "deaths"
          ],
          [
           "deaths"
          ],
          [
           "deaths"
          ],
          [
           "deaths"
          ],
          [
           "deaths"
          ],
          [
           "deaths"
          ],
          [
           "deaths"
          ],
          [
           "deaths"
          ],
          [
           "deaths"
          ],
          [
           "deaths"
          ],
          [
           "deaths"
          ],
          [
           "deaths"
          ],
          [
           "deaths"
          ],
          [
           "deaths"
          ],
          [
           "deaths"
          ],
          [
           "deaths"
          ]
         ],
         "hovertemplate": "Cases=%{y:,}<extra></extra>",
         "legendgroup": "deaths",
         "line": {
          "color": "#95a5a6",
          "dash": "solid"
         },
         "mode": "lines",
         "name": "deaths",
         "showlegend": true,
         "type": "scattergl",
         "x": [
          "1/22/20",
          "1/23/20",
          "1/24/20",
          "1/25/20",
          "1/26/20",
          "1/27/20",
          "1/28/20",
          "1/29/20",
          "1/30/20",
          "1/31/20",
          "2/1/20",
          "2/2/20",
          "2/3/20",
          "2/4/20",
          "2/5/20",
          "2/6/20",
          "2/7/20",
          "2/8/20",
          "2/9/20",
          "2/10/20",
          "2/11/20",
          "2/12/20",
          "2/13/20",
          "2/14/20",
          "2/15/20",
          "2/16/20",
          "2/17/20",
          "2/18/20",
          "2/19/20",
          "2/20/20",
          "2/21/20",
          "2/22/20",
          "2/23/20",
          "2/24/20",
          "2/25/20",
          "2/26/20",
          "2/27/20",
          "2/28/20",
          "2/29/20",
          "3/1/20",
          "3/2/20",
          "3/3/20",
          "3/4/20",
          "3/5/20",
          "3/6/20",
          "3/7/20",
          "3/8/20",
          "3/9/20",
          "3/10/20",
          "3/11/20",
          "3/12/20",
          "3/13/20",
          "3/14/20",
          "3/15/20",
          "3/16/20",
          "3/17/20",
          "3/18/20",
          "3/19/20",
          "3/20/20",
          "3/21/20",
          "3/22/20",
          "3/23/20",
          "3/24/20",
          "3/25/20",
          "3/26/20",
          "3/27/20",
          "3/28/20",
          "3/29/20",
          "3/30/20",
          "3/31/20",
          "4/1/20",
          "4/2/20",
          "4/3/20",
          "4/4/20",
          "4/5/20",
          "4/6/20",
          "4/7/20",
          "4/8/20",
          "4/9/20",
          "4/10/20",
          "4/11/20",
          "4/12/20",
          "4/13/20",
          "4/14/20",
          "4/15/20",
          "4/16/20",
          "4/17/20",
          "4/18/20",
          "4/19/20",
          "4/20/20",
          "4/21/20",
          "4/22/20",
          "4/23/20",
          "4/24/20",
          "4/25/20",
          "4/26/20",
          "4/27/20",
          "4/28/20",
          "4/29/20",
          "4/30/20",
          "5/1/20",
          "5/2/20",
          "5/3/20",
          "5/4/20",
          "5/5/20",
          "5/6/20",
          "5/7/20",
          "5/8/20",
          "5/9/20",
          "5/10/20",
          "5/11/20",
          "5/12/20",
          "5/13/20",
          "5/14/20",
          "5/15/20",
          "5/16/20",
          "5/17/20",
          "5/18/20",
          "5/19/20",
          "5/20/20",
          "5/21/20",
          "5/22/20",
          "5/23/20",
          "5/24/20",
          "5/25/20",
          "5/26/20",
          "5/27/20",
          "5/28/20",
          "5/29/20",
          "5/30/20",
          "5/31/20",
          "6/1/20",
          "6/2/20",
          "6/3/20",
          "6/4/20",
          "6/5/20",
          "6/6/20",
          "6/7/20",
          "6/8/20",
          "6/9/20",
          "6/10/20",
          "6/11/20",
          "6/12/20",
          "6/13/20",
          "6/14/20",
          "6/15/20",
          "6/16/20",
          "6/17/20",
          "6/18/20",
          "6/19/20",
          "6/20/20",
          "6/21/20",
          "6/22/20",
          "6/23/20",
          "6/24/20",
          "6/25/20",
          "6/26/20",
          "6/27/20",
          "6/28/20",
          "6/29/20",
          "6/30/20",
          "7/1/20",
          "7/2/20",
          "7/3/20",
          "7/4/20",
          "7/5/20",
          "7/6/20",
          "7/7/20",
          "7/8/20",
          "7/9/20",
          "7/10/20",
          "7/11/20",
          "7/12/20",
          "7/13/20",
          "7/14/20",
          "7/15/20",
          "7/16/20",
          "7/17/20",
          "7/18/20",
          "7/19/20",
          "7/20/20",
          "7/21/20",
          "7/22/20",
          "7/23/20",
          "7/24/20",
          "7/25/20",
          "7/26/20",
          "7/27/20",
          "7/28/20",
          "7/29/20",
          "7/30/20",
          "7/31/20",
          "8/1/20",
          "8/2/20",
          "8/3/20",
          "8/4/20",
          "8/5/20",
          "8/6/20",
          "8/7/20",
          "8/8/20",
          "8/9/20",
          "8/10/20",
          "8/11/20",
          "8/12/20",
          "8/13/20",
          "8/14/20",
          "8/15/20",
          "8/16/20",
          "8/17/20",
          "8/18/20",
          "8/19/20",
          "8/20/20",
          "8/21/20",
          "8/22/20",
          "8/23/20",
          "8/24/20",
          "8/25/20",
          "8/26/20",
          "8/27/20",
          "8/28/20",
          "8/29/20",
          "8/30/20",
          "8/31/20",
          "9/1/20",
          "9/2/20",
          "9/3/20",
          "9/4/20",
          "9/5/20",
          "9/6/20",
          "9/7/20",
          "9/8/20",
          "9/9/20",
          "9/10/20",
          "9/11/20",
          "9/12/20",
          "9/13/20",
          "9/14/20",
          "9/15/20",
          "9/16/20",
          "9/17/20",
          "9/18/20",
          "9/19/20",
          "9/20/20",
          "9/21/20",
          "9/22/20",
          "9/23/20",
          "9/24/20",
          "9/25/20",
          "9/26/20",
          "9/27/20",
          "9/28/20",
          "9/29/20",
          "9/30/20",
          "10/1/20",
          "10/2/20",
          "10/3/20",
          "10/4/20",
          "10/5/20",
          "10/6/20",
          "10/7/20",
          "10/8/20",
          "10/9/20",
          "10/10/20",
          "10/11/20",
          "10/12/20",
          "10/13/20",
          "10/14/20",
          "10/15/20",
          "10/16/20",
          "10/17/20",
          "10/18/20",
          "10/19/20",
          "10/20/20",
          "10/21/20",
          "10/22/20",
          "10/23/20",
          "10/24/20",
          "10/25/20",
          "10/26/20",
          "10/27/20",
          "10/28/20",
          "10/29/20",
          "10/30/20",
          "10/31/20",
          "11/1/20",
          "11/2/20",
          "11/3/20",
          "11/4/20",
          "11/5/20",
          "11/6/20",
          "11/7/20",
          "11/8/20",
          "11/9/20",
          "11/10/20",
          "11/11/20",
          "11/12/20",
          "11/13/20",
          "11/14/20",
          "11/15/20",
          "11/16/20",
          "11/17/20",
          "11/18/20",
          "11/19/20",
          "11/20/20",
          "11/21/20",
          "11/22/20",
          "11/23/20",
          "11/24/20",
          "11/25/20",
          "11/26/20",
          "11/27/20",
          "11/28/20",
          "11/29/20",
          "11/30/20",
          "12/1/20",
          "12/2/20",
          "12/3/20",
          "12/4/20",
          "12/5/20",
          "12/6/20",
          "12/7/20",
          "12/8/20",
          "12/9/20",
          "12/10/20",
          "12/11/20",
          "12/12/20",
          "12/13/20",
          "12/14/20",
          "12/15/20",
          "12/16/20",
          "12/17/20",
          "12/18/20",
          "12/19/20",
          "12/20/20",
          "12/21/20",
          "12/22/20",
          "12/23/20",
          "12/24/20",
          "12/25/20",
          "12/26/20",
          "12/27/20",
          "12/28/20",
          "12/29/20",
          "12/30/20",
          "12/31/20",
          "1/1/21",
          "1/2/21",
          "1/3/21",
          "1/4/21",
          "1/5/21",
          "1/6/21",
          "1/7/21",
          "1/8/21",
          "1/9/21",
          "1/10/21",
          "1/11/21",
          "1/12/21",
          "1/13/21",
          "1/14/21",
          "1/15/21",
          "1/16/21",
          "1/17/21",
          "1/18/21",
          "1/19/21",
          "1/20/21",
          "1/21/21",
          "1/22/21",
          "1/23/21",
          "1/24/21",
          "1/25/21",
          "1/26/21",
          "1/27/21",
          "1/28/21",
          "1/29/21",
          "1/30/21",
          "1/31/21",
          "2/1/21",
          "2/2/21",
          "2/3/21",
          "2/4/21",
          "2/5/21",
          "2/6/21",
          "2/7/21",
          "2/8/21",
          "2/9/21",
          "2/10/21",
          "2/11/21",
          "2/12/21",
          "2/13/21",
          "2/14/21",
          "2/15/21",
          "2/16/21",
          "2/17/21",
          "2/18/21",
          "2/19/21",
          "2/20/21",
          "2/21/21",
          "2/22/21",
          "2/23/21",
          "2/24/21",
          "2/25/21",
          "2/26/21",
          "2/27/21",
          "2/28/21",
          "3/1/21",
          "3/2/21",
          "3/3/21",
          "3/4/21",
          "3/5/21",
          "3/6/21",
          "3/7/21",
          "3/8/21",
          "3/9/21",
          "3/10/21",
          "3/11/21",
          "3/12/21",
          "3/13/21",
          "3/14/21",
          "3/15/21",
          "3/16/21",
          "3/17/21",
          "3/18/21",
          "3/19/21",
          "3/20/21",
          "3/21/21",
          "3/22/21",
          "3/23/21",
          "3/24/21",
          "3/25/21",
          "3/26/21",
          "3/27/21",
          "3/28/21",
          "3/29/21",
          "3/30/21",
          "3/31/21",
          "4/1/21",
          "4/2/21",
          "4/3/21",
          "4/4/21",
          "4/5/21",
          "4/6/21",
          "4/7/21",
          "4/8/21",
          "4/9/21",
          "4/10/21",
          "4/11/21",
          "4/12/21",
          "4/13/21",
          "4/14/21",
          "4/15/21",
          "4/16/21",
          "4/17/21",
          "4/18/21",
          "4/19/21",
          "4/20/21",
          "4/21/21",
          "4/22/21",
          "4/23/21",
          "4/24/21",
          "4/25/21",
          "4/26/21",
          "4/27/21",
          "4/28/21",
          "4/29/21",
          "4/30/21",
          "5/1/21",
          "5/2/21",
          "5/3/21",
          "5/4/21",
          "5/5/21",
          "5/6/21",
          "5/7/21",
          "5/8/21",
          "5/9/21",
          "5/10/21",
          "5/11/21",
          "5/12/21",
          "5/13/21",
          "5/14/21",
          "5/15/21",
          "5/16/21",
          "5/17/21",
          "5/18/21",
          "5/19/21",
          "5/20/21",
          "5/21/21",
          "5/22/21",
          "5/23/21",
          "5/24/21",
          "5/25/21",
          "5/26/21",
          "5/27/21",
          "5/28/21",
          "5/29/21",
          "5/30/21",
          "5/31/21",
          "6/1/21",
          "6/2/21",
          "6/3/21",
          "6/4/21",
          "6/5/21",
          "6/6/21",
          "6/7/21",
          "6/8/21",
          "6/9/21",
          "6/10/21",
          "6/11/21",
          "6/12/21",
          "6/13/21",
          "6/14/21",
          "6/15/21",
          "6/16/21",
          "6/17/21",
          "6/18/21",
          "6/19/21",
          "6/20/21",
          "6/21/21",
          "6/22/21",
          "6/23/21",
          "6/24/21",
          "6/25/21",
          "6/26/21",
          "6/27/21",
          "6/28/21",
          "6/29/21",
          "6/30/21",
          "7/1/21",
          "7/2/21",
          "7/3/21",
          "7/4/21",
          "7/5/21",
          "7/6/21",
          "7/7/21",
          "7/8/21",
          "7/9/21",
          "7/10/21"
         ],
         "xaxis": "x",
         "y": [
          17,
          18,
          26,
          42,
          56,
          82,
          131,
          133,
          171,
          213,
          259,
          362,
          426,
          492,
          564,
          634,
          719,
          806,
          906,
          1013,
          1113,
          1118,
          1371,
          1523,
          1666,
          1770,
          1868,
          2008,
          2123,
          2248,
          2252,
          2459,
          2470,
          2630,
          2710,
          2771,
          2814,
          2873,
          2942,
          2996,
          3085,
          3160,
          3255,
          3349,
          3461,
          3565,
          3805,
          3995,
          4269,
          4613,
          4920,
          5417,
          5837,
          6480,
          7158,
          7976,
          8889,
          10005,
          11493,
          13217,
          14913,
          16864,
          19156,
          21979,
          25017,
          28515,
          32287,
          35781,
          39872,
          44636,
          50651,
          56546,
          62726,
          68679,
          73919,
          79893,
          88196,
          95040,
          102915,
          110346,
          116606,
          122546,
          128597,
          135679,
          144263,
          151642,
          160170,
          166409,
          171756,
          177786,
          185227,
          192262,
          199295,
          206249,
          212104,
          216352,
          221361,
          228179,
          235152,
          241209,
          246691,
          252519,
          256366,
          260970,
          267096,
          273962,
          279654,
          285568,
          290165,
          294176,
          298112,
          304017,
          309502,
          315074,
          320716,
          325272,
          328840,
          332994,
          338134,
          343328,
          348407,
          354088,
          358399,
          361876,
          363492,
          368156,
          373557,
          378568,
          383728,
          388112,
          391271,
          394786,
          399989,
          405829,
          411268,
          416328,
          420543,
          423731,
          427896,
          433110,
          438588,
          443654,
          448461,
          452922,
          456565,
          460402,
          467542,
          473098,
          478409,
          484795,
          489314,
          493913,
          497650,
          503223,
          508764,
          513802,
          518886,
          523680,
          527194,
          531221,
          536428,
          541738,
          547161,
          552455,
          557248,
          561077,
          565315,
          571655,
          577284,
          583073,
          588704,
          593916,
          598291,
          602606,
          608610,
          614465,
          620648,
          627691,
          634264,
          638945,
          642973,
          649372,
          656727,
          663350,
          669807,
          675957,
          680284,
          685516,
          692238,
          699247,
          705891,
          712472,
          718553,
          722958,
          728024,
          735018,
          742507,
          749396,
          756093,
          762161,
          766961,
          772689,
          779302,
          786248,
          793079,
          799743,
          805748,
          810375,
          814899,
          822116,
          829235,
          835647,
          841382,
          847190,
          851451,
          856274,
          862908,
          869467,
          875682,
          881544,
          887168,
          891490,
          895871,
          902540,
          908896,
          914973,
          920862,
          926014,
          930087,
          939682,
          944793,
          951069,
          957089,
          963114,
          968171,
          972113,
          976651,
          983260,
          989209,
          994807,
          1000626,
          1006014,
          1009951,
          1014291,
          1020492,
          1026142,
          1032717,
          1038663,
          1044228,
          1048040,
          1052059,
          1058128,
          1064691,
          1073494,
          1078536,
          1083986,
          1087988,
          1094987,
          1100838,
          1106759,
          1113125,
          1119340,
          1124257,
          1128361,
          1132433,
          1137810,
          1144028,
          1150112,
          1156436,
          1162113,
          1165725,
          1170629,
          1177264,
          1183977,
          1189910,
          1196990,
          1202875,
          1207074,
          1212684,
          1220130,
          1227339,
          1234486,
          1242141,
          1248810,
          1253859,
          1260076,
          1269527,
          1279673,
          1287764,
          1297506,
          1305169,
          1311098,
          1318364,
          1328401,
          1338905,
          1348729,
          1358374,
          1367539,
          1373999,
          1381972,
          1393092,
          1404559,
          1415685,
          1427526,
          1436503,
          1443807,
          1452372,
          1465090,
          1477277,
          1488257,
          1499650,
          1508929,
          1516142,
          1525109,
          1537864,
          1550557,
          1563118,
          1575716,
          1585999,
          1593498,
          1602271,
          1614662,
          1627340,
          1640037,
          1653155,
          1663788,
          1671375,
          1680523,
          1694491,
          1708267,
          1721721,
          1734642,
          1745548,
          1753435,
          1763120,
          1777481,
          1791369,
          1803119,
          1811767,
          1819242,
          1826792,
          1836582,
          1851822,
          1867219,
          1880405,
          1890211,
          1898837,
          1906289,
          1916560,
          1932078,
          1947184,
          1962319,
          1977559,
          1990555,
          1999140,
          2009487,
          2026772,
          2043623,
          2059292,
          2074439,
          2088030,
          2096930,
          2106701,
          2123651,
          2141711,
          2158868,
          2175076,
          2188840,
          2197936,
          2209174,
          2226802,
          2243971,
          2261131,
          2276642,
          2290188,
          2298746,
          2309438,
          2324726,
          2340817,
          2353740,
          2370913,
          2381343,
          2389536,
          2398526,
          2414544,
          2428465,
          2442189,
          2455343,
          2465672,
          2472274,
          2479682,
          2491284,
          2503168,
          2514997,
          2526721,
          2535583,
          2541955,
          2549383,
          2561097,
          2573529,
          2584165,
          2594882,
          2603517,
          2609637,
          2617509,
          2627871,
          2639618,
          2649891,
          2660589,
          2668689,
          2674597,
          2681683,
          2692328,
          2702388,
          2712605,
          2722708,
          2731166,
          2737135,
          2744583,
          2755145,
          2765449,
          2776473,
          2787546,
          2796248,
          2802158,
          2810197,
          2821701,
          2832127,
          2843805,
          2856698,
          2866834,
          2874074,
          2882533,
          2894627,
          2907470,
          2919881,
          2930562,
          2939705,
          2947088,
          2954802,
          2967421,
          2982759,
          2997594,
          3011487,
          3024347,
          3033728,
          3043609,
          3057440,
          3071539,
          3085212,
          3098470,
          3111025,
          3120085,
          3130974,
          3145288,
          3160247,
          3174142,
          3189327,
          3202618,
          3213046,
          3224693,
          3239656,
          3255707,
          3271470,
          3285484,
          3298751,
          3308778,
          3320579,
          3334642,
          3349527,
          3364177,
          3378576,
          3391878,
          3402088,
          3413212,
          3427456,
          3441312,
          3455000,
          3468067,
          3480276,
          3490333,
          3501537,
          3515739,
          3529313,
          3542369,
          3555380,
          3566920,
          3576679,
          3585735,
          3598925,
          3611662,
          3624721,
          3636683,
          3647437,
          3655562,
          3664280,
          3679626,
          3691444,
          3701371,
          3712340,
          3721506,
          3728581,
          3736661,
          3747042,
          3757506,
          3773513,
          3785446,
          3795213,
          3804361,
          3812247,
          3822808,
          3833150,
          3842416,
          3851627,
          3859699,
          3866260,
          3873337,
          3882272,
          3891796,
          3900407,
          3909620,
          3917084,
          3923031,
          3929677,
          3937789,
          3946945,
          3955628,
          3963902,
          3970744,
          3977133,
          3984595,
          3993160,
          4001746,
          4010591,
          4018993,
          4024998
         ],
         "yaxis": "y"
        },
        {
         "customdata": [
          [
           "recovered"
          ],
          [
           "recovered"
          ],
          [
           "recovered"
          ],
          [
           "recovered"
          ],
          [
           "recovered"
          ],
          [
           "recovered"
          ],
          [
           "recovered"
          ],
          [
           "recovered"
          ],
          [
           "recovered"
          ],
          [
           "recovered"
          ],
          [
           "recovered"
          ],
          [
           "recovered"
          ],
          [
           "recovered"
          ],
          [
           "recovered"
          ],
          [
           "recovered"
          ],
          [
           "recovered"
          ],
          [
           "recovered"
          ],
          [
           "recovered"
          ],
          [
           "recovered"
          ],
          [
           "recovered"
          ],
          [
           "recovered"
          ],
          [
           "recovered"
          ],
          [
           "recovered"
          ],
          [
           "recovered"
          ],
          [
           "recovered"
          ],
          [
           "recovered"
          ],
          [
           "recovered"
          ],
          [
           "recovered"
          ],
          [
           "recovered"
          ],
          [
           "recovered"
          ],
          [
           "recovered"
          ],
          [
           "recovered"
          ],
          [
           "recovered"
          ],
          [
           "recovered"
          ],
          [
           "recovered"
          ],
          [
           "recovered"
          ],
          [
           "recovered"
          ],
          [
           "recovered"
          ],
          [
           "recovered"
          ],
          [
           "recovered"
          ],
          [
           "recovered"
          ],
          [
           "recovered"
          ],
          [
           "recovered"
          ],
          [
           "recovered"
          ],
          [
           "recovered"
          ],
          [
           "recovered"
          ],
          [
           "recovered"
          ],
          [
           "recovered"
          ],
          [
           "recovered"
          ],
          [
           "recovered"
          ],
          [
           "recovered"
          ],
          [
           "recovered"
          ],
          [
           "recovered"
          ],
          [
           "recovered"
          ],
          [
           "recovered"
          ],
          [
           "recovered"
          ],
          [
           "recovered"
          ],
          [
           "recovered"
          ],
          [
           "recovered"
          ],
          [
           "recovered"
          ],
          [
           "recovered"
          ],
          [
           "recovered"
          ],
          [
           "recovered"
          ],
          [
           "recovered"
          ],
          [
           "recovered"
          ],
          [
           "recovered"
          ],
          [
           "recovered"
          ],
          [
           "recovered"
          ],
          [
           "recovered"
          ],
          [
           "recovered"
          ],
          [
           "recovered"
          ],
          [
           "recovered"
          ],
          [
           "recovered"
          ],
          [
           "recovered"
          ],
          [
           "recovered"
          ],
          [
           "recovered"
          ],
          [
           "recovered"
          ],
          [
           "recovered"
          ],
          [
           "recovered"
          ],
          [
           "recovered"
          ],
          [
           "recovered"
          ],
          [
           "recovered"
          ],
          [
           "recovered"
          ],
          [
           "recovered"
          ],
          [
           "recovered"
          ],
          [
           "recovered"
          ],
          [
           "recovered"
          ],
          [
           "recovered"
          ],
          [
           "recovered"
          ],
          [
           "recovered"
          ],
          [
           "recovered"
          ],
          [
           "recovered"
          ],
          [
           "recovered"
          ],
          [
           "recovered"
          ],
          [
           "recovered"
          ],
          [
           "recovered"
          ],
          [
           "recovered"
          ],
          [
           "recovered"
          ],
          [
           "recovered"
          ],
          [
           "recovered"
          ],
          [
           "recovered"
          ],
          [
           "recovered"
          ],
          [
           "recovered"
          ],
          [
           "recovered"
          ],
          [
           "recovered"
          ],
          [
           "recovered"
          ],
          [
           "recovered"
          ],
          [
           "recovered"
          ],
          [
           "recovered"
          ],
          [
           "recovered"
          ],
          [
           "recovered"
          ],
          [
           "recovered"
          ],
          [
           "recovered"
          ],
          [
           "recovered"
          ],
          [
           "recovered"
          ],
          [
           "recovered"
          ],
          [
           "recovered"
          ],
          [
           "recovered"
          ],
          [
           "recovered"
          ],
          [
           "recovered"
          ],
          [
           "recovered"
          ],
          [
           "recovered"
          ],
          [
           "recovered"
          ],
          [
           "recovered"
          ],
          [
           "recovered"
          ],
          [
           "recovered"
          ],
          [
           "recovered"
          ],
          [
           "recovered"
          ],
          [
           "recovered"
          ],
          [
           "recovered"
          ],
          [
           "recovered"
          ],
          [
           "recovered"
          ],
          [
           "recovered"
          ],
          [
           "recovered"
          ],
          [
           "recovered"
          ],
          [
           "recovered"
          ],
          [
           "recovered"
          ],
          [
           "recovered"
          ],
          [
           "recovered"
          ],
          [
           "recovered"
          ],
          [
           "recovered"
          ],
          [
           "recovered"
          ],
          [
           "recovered"
          ],
          [
           "recovered"
          ],
          [
           "recovered"
          ],
          [
           "recovered"
          ],
          [
           "recovered"
          ],
          [
           "recovered"
          ],
          [
           "recovered"
          ],
          [
           "recovered"
          ],
          [
           "recovered"
          ],
          [
           "recovered"
          ],
          [
           "recovered"
          ],
          [
           "recovered"
          ],
          [
           "recovered"
          ],
          [
           "recovered"
          ],
          [
           "recovered"
          ],
          [
           "recovered"
          ],
          [
           "recovered"
          ],
          [
           "recovered"
          ],
          [
           "recovered"
          ],
          [
           "recovered"
          ],
          [
           "recovered"
          ],
          [
           "recovered"
          ],
          [
           "recovered"
          ],
          [
           "recovered"
          ],
          [
           "recovered"
          ],
          [
           "recovered"
          ],
          [
           "recovered"
          ],
          [
           "recovered"
          ],
          [
           "recovered"
          ],
          [
           "recovered"
          ],
          [
           "recovered"
          ],
          [
           "recovered"
          ],
          [
           "recovered"
          ],
          [
           "recovered"
          ],
          [
           "recovered"
          ],
          [
           "recovered"
          ],
          [
           "recovered"
          ],
          [
           "recovered"
          ],
          [
           "recovered"
          ],
          [
           "recovered"
          ],
          [
           "recovered"
          ],
          [
           "recovered"
          ],
          [
           "recovered"
          ],
          [
           "recovered"
          ],
          [
           "recovered"
          ],
          [
           "recovered"
          ],
          [
           "recovered"
          ],
          [
           "recovered"
          ],
          [
           "recovered"
          ],
          [
           "recovered"
          ],
          [
           "recovered"
          ],
          [
           "recovered"
          ],
          [
           "recovered"
          ],
          [
           "recovered"
          ],
          [
           "recovered"
          ],
          [
           "recovered"
          ],
          [
           "recovered"
          ],
          [
           "recovered"
          ],
          [
           "recovered"
          ],
          [
           "recovered"
          ],
          [
           "recovered"
          ],
          [
           "recovered"
          ],
          [
           "recovered"
          ],
          [
           "recovered"
          ],
          [
           "recovered"
          ],
          [
           "recovered"
          ],
          [
           "recovered"
          ],
          [
           "recovered"
          ],
          [
           "recovered"
          ],
          [
           "recovered"
          ],
          [
           "recovered"
          ],
          [
           "recovered"
          ],
          [
           "recovered"
          ],
          [
           "recovered"
          ],
          [
           "recovered"
          ],
          [
           "recovered"
          ],
          [
           "recovered"
          ],
          [
           "recovered"
          ],
          [
           "recovered"
          ],
          [
           "recovered"
          ],
          [
           "recovered"
          ],
          [
           "recovered"
          ],
          [
           "recovered"
          ],
          [
           "recovered"
          ],
          [
           "recovered"
          ],
          [
           "recovered"
          ],
          [
           "recovered"
          ],
          [
           "recovered"
          ],
          [
           "recovered"
          ],
          [
           "recovered"
          ],
          [
           "recovered"
          ],
          [
           "recovered"
          ],
          [
           "recovered"
          ],
          [
           "recovered"
          ],
          [
           "recovered"
          ],
          [
           "recovered"
          ],
          [
           "recovered"
          ],
          [
           "recovered"
          ],
          [
           "recovered"
          ],
          [
           "recovered"
          ],
          [
           "recovered"
          ],
          [
           "recovered"
          ],
          [
           "recovered"
          ],
          [
           "recovered"
          ],
          [
           "recovered"
          ],
          [
           "recovered"
          ],
          [
           "recovered"
          ],
          [
           "recovered"
          ],
          [
           "recovered"
          ],
          [
           "recovered"
          ],
          [
           "recovered"
          ],
          [
           "recovered"
          ],
          [
           "recovered"
          ],
          [
           "recovered"
          ],
          [
           "recovered"
          ],
          [
           "recovered"
          ],
          [
           "recovered"
          ],
          [
           "recovered"
          ],
          [
           "recovered"
          ],
          [
           "recovered"
          ],
          [
           "recovered"
          ],
          [
           "recovered"
          ],
          [
           "recovered"
          ],
          [
           "recovered"
          ],
          [
           "recovered"
          ],
          [
           "recovered"
          ],
          [
           "recovered"
          ],
          [
           "recovered"
          ],
          [
           "recovered"
          ],
          [
           "recovered"
          ],
          [
           "recovered"
          ],
          [
           "recovered"
          ],
          [
           "recovered"
          ],
          [
           "recovered"
          ],
          [
           "recovered"
          ],
          [
           "recovered"
          ],
          [
           "recovered"
          ],
          [
           "recovered"
          ],
          [
           "recovered"
          ],
          [
           "recovered"
          ],
          [
           "recovered"
          ],
          [
           "recovered"
          ],
          [
           "recovered"
          ],
          [
           "recovered"
          ],
          [
           "recovered"
          ],
          [
           "recovered"
          ],
          [
           "recovered"
          ],
          [
           "recovered"
          ],
          [
           "recovered"
          ],
          [
           "recovered"
          ],
          [
           "recovered"
          ],
          [
           "recovered"
          ],
          [
           "recovered"
          ],
          [
           "recovered"
          ],
          [
           "recovered"
          ],
          [
           "recovered"
          ],
          [
           "recovered"
          ],
          [
           "recovered"
          ],
          [
           "recovered"
          ],
          [
           "recovered"
          ],
          [
           "recovered"
          ],
          [
           "recovered"
          ],
          [
           "recovered"
          ],
          [
           "recovered"
          ],
          [
           "recovered"
          ],
          [
           "recovered"
          ],
          [
           "recovered"
          ],
          [
           "recovered"
          ],
          [
           "recovered"
          ],
          [
           "recovered"
          ],
          [
           "recovered"
          ],
          [
           "recovered"
          ],
          [
           "recovered"
          ],
          [
           "recovered"
          ],
          [
           "recovered"
          ],
          [
           "recovered"
          ],
          [
           "recovered"
          ],
          [
           "recovered"
          ],
          [
           "recovered"
          ],
          [
           "recovered"
          ],
          [
           "recovered"
          ],
          [
           "recovered"
          ],
          [
           "recovered"
          ],
          [
           "recovered"
          ],
          [
           "recovered"
          ],
          [
           "recovered"
          ],
          [
           "recovered"
          ],
          [
           "recovered"
          ],
          [
           "recovered"
          ],
          [
           "recovered"
          ],
          [
           "recovered"
          ],
          [
           "recovered"
          ],
          [
           "recovered"
          ],
          [
           "recovered"
          ],
          [
           "recovered"
          ],
          [
           "recovered"
          ],
          [
           "recovered"
          ],
          [
           "recovered"
          ],
          [
           "recovered"
          ],
          [
           "recovered"
          ],
          [
           "recovered"
          ],
          [
           "recovered"
          ],
          [
           "recovered"
          ],
          [
           "recovered"
          ],
          [
           "recovered"
          ],
          [
           "recovered"
          ],
          [
           "recovered"
          ],
          [
           "recovered"
          ],
          [
           "recovered"
          ],
          [
           "recovered"
          ],
          [
           "recovered"
          ],
          [
           "recovered"
          ],
          [
           "recovered"
          ],
          [
           "recovered"
          ],
          [
           "recovered"
          ],
          [
           "recovered"
          ],
          [
           "recovered"
          ],
          [
           "recovered"
          ],
          [
           "recovered"
          ],
          [
           "recovered"
          ],
          [
           "recovered"
          ],
          [
           "recovered"
          ],
          [
           "recovered"
          ],
          [
           "recovered"
          ],
          [
           "recovered"
          ],
          [
           "recovered"
          ],
          [
           "recovered"
          ],
          [
           "recovered"
          ],
          [
           "recovered"
          ],
          [
           "recovered"
          ],
          [
           "recovered"
          ],
          [
           "recovered"
          ],
          [
           "recovered"
          ],
          [
           "recovered"
          ],
          [
           "recovered"
          ],
          [
           "recovered"
          ],
          [
           "recovered"
          ],
          [
           "recovered"
          ],
          [
           "recovered"
          ],
          [
           "recovered"
          ],
          [
           "recovered"
          ],
          [
           "recovered"
          ],
          [
           "recovered"
          ],
          [
           "recovered"
          ],
          [
           "recovered"
          ],
          [
           "recovered"
          ],
          [
           "recovered"
          ],
          [
           "recovered"
          ],
          [
           "recovered"
          ],
          [
           "recovered"
          ],
          [
           "recovered"
          ],
          [
           "recovered"
          ],
          [
           "recovered"
          ],
          [
           "recovered"
          ],
          [
           "recovered"
          ],
          [
           "recovered"
          ],
          [
           "recovered"
          ],
          [
           "recovered"
          ],
          [
           "recovered"
          ],
          [
           "recovered"
          ],
          [
           "recovered"
          ],
          [
           "recovered"
          ],
          [
           "recovered"
          ],
          [
           "recovered"
          ],
          [
           "recovered"
          ],
          [
           "recovered"
          ],
          [
           "recovered"
          ],
          [
           "recovered"
          ],
          [
           "recovered"
          ],
          [
           "recovered"
          ],
          [
           "recovered"
          ],
          [
           "recovered"
          ],
          [
           "recovered"
          ],
          [
           "recovered"
          ],
          [
           "recovered"
          ],
          [
           "recovered"
          ],
          [
           "recovered"
          ],
          [
           "recovered"
          ],
          [
           "recovered"
          ],
          [
           "recovered"
          ],
          [
           "recovered"
          ],
          [
           "recovered"
          ],
          [
           "recovered"
          ],
          [
           "recovered"
          ],
          [
           "recovered"
          ],
          [
           "recovered"
          ],
          [
           "recovered"
          ],
          [
           "recovered"
          ],
          [
           "recovered"
          ],
          [
           "recovered"
          ],
          [
           "recovered"
          ],
          [
           "recovered"
          ],
          [
           "recovered"
          ],
          [
           "recovered"
          ],
          [
           "recovered"
          ],
          [
           "recovered"
          ],
          [
           "recovered"
          ],
          [
           "recovered"
          ],
          [
           "recovered"
          ],
          [
           "recovered"
          ],
          [
           "recovered"
          ],
          [
           "recovered"
          ],
          [
           "recovered"
          ],
          [
           "recovered"
          ],
          [
           "recovered"
          ],
          [
           "recovered"
          ],
          [
           "recovered"
          ],
          [
           "recovered"
          ],
          [
           "recovered"
          ],
          [
           "recovered"
          ],
          [
           "recovered"
          ],
          [
           "recovered"
          ],
          [
           "recovered"
          ],
          [
           "recovered"
          ],
          [
           "recovered"
          ],
          [
           "recovered"
          ],
          [
           "recovered"
          ],
          [
           "recovered"
          ],
          [
           "recovered"
          ],
          [
           "recovered"
          ],
          [
           "recovered"
          ],
          [
           "recovered"
          ],
          [
           "recovered"
          ],
          [
           "recovered"
          ],
          [
           "recovered"
          ],
          [
           "recovered"
          ],
          [
           "recovered"
          ],
          [
           "recovered"
          ],
          [
           "recovered"
          ],
          [
           "recovered"
          ],
          [
           "recovered"
          ],
          [
           "recovered"
          ],
          [
           "recovered"
          ],
          [
           "recovered"
          ],
          [
           "recovered"
          ],
          [
           "recovered"
          ],
          [
           "recovered"
          ],
          [
           "recovered"
          ],
          [
           "recovered"
          ],
          [
           "recovered"
          ],
          [
           "recovered"
          ],
          [
           "recovered"
          ],
          [
           "recovered"
          ],
          [
           "recovered"
          ],
          [
           "recovered"
          ],
          [
           "recovered"
          ],
          [
           "recovered"
          ],
          [
           "recovered"
          ],
          [
           "recovered"
          ],
          [
           "recovered"
          ],
          [
           "recovered"
          ],
          [
           "recovered"
          ],
          [
           "recovered"
          ],
          [
           "recovered"
          ],
          [
           "recovered"
          ],
          [
           "recovered"
          ],
          [
           "recovered"
          ],
          [
           "recovered"
          ],
          [
           "recovered"
          ],
          [
           "recovered"
          ],
          [
           "recovered"
          ],
          [
           "recovered"
          ],
          [
           "recovered"
          ],
          [
           "recovered"
          ],
          [
           "recovered"
          ],
          [
           "recovered"
          ],
          [
           "recovered"
          ],
          [
           "recovered"
          ],
          [
           "recovered"
          ],
          [
           "recovered"
          ],
          [
           "recovered"
          ],
          [
           "recovered"
          ],
          [
           "recovered"
          ],
          [
           "recovered"
          ],
          [
           "recovered"
          ],
          [
           "recovered"
          ],
          [
           "recovered"
          ],
          [
           "recovered"
          ],
          [
           "recovered"
          ],
          [
           "recovered"
          ],
          [
           "recovered"
          ],
          [
           "recovered"
          ],
          [
           "recovered"
          ],
          [
           "recovered"
          ],
          [
           "recovered"
          ],
          [
           "recovered"
          ],
          [
           "recovered"
          ],
          [
           "recovered"
          ],
          [
           "recovered"
          ],
          [
           "recovered"
          ],
          [
           "recovered"
          ],
          [
           "recovered"
          ],
          [
           "recovered"
          ],
          [
           "recovered"
          ]
         ],
         "hovertemplate": "Cases=%{y:,}<extra></extra>",
         "legendgroup": "recovered",
         "line": {
          "color": "#16a085",
          "dash": "solid"
         },
         "mode": "lines",
         "name": "recovered",
         "showlegend": true,
         "type": "scattergl",
         "x": [
          "1/22/20",
          "1/23/20",
          "1/24/20",
          "1/25/20",
          "1/26/20",
          "1/27/20",
          "1/28/20",
          "1/29/20",
          "1/30/20",
          "1/31/20",
          "2/1/20",
          "2/2/20",
          "2/3/20",
          "2/4/20",
          "2/5/20",
          "2/6/20",
          "2/7/20",
          "2/8/20",
          "2/9/20",
          "2/10/20",
          "2/11/20",
          "2/12/20",
          "2/13/20",
          "2/14/20",
          "2/15/20",
          "2/16/20",
          "2/17/20",
          "2/18/20",
          "2/19/20",
          "2/20/20",
          "2/21/20",
          "2/22/20",
          "2/23/20",
          "2/24/20",
          "2/25/20",
          "2/26/20",
          "2/27/20",
          "2/28/20",
          "2/29/20",
          "3/1/20",
          "3/2/20",
          "3/3/20",
          "3/4/20",
          "3/5/20",
          "3/6/20",
          "3/7/20",
          "3/8/20",
          "3/9/20",
          "3/10/20",
          "3/11/20",
          "3/12/20",
          "3/13/20",
          "3/14/20",
          "3/15/20",
          "3/16/20",
          "3/17/20",
          "3/18/20",
          "3/19/20",
          "3/20/20",
          "3/21/20",
          "3/22/20",
          "3/23/20",
          "3/24/20",
          "3/25/20",
          "3/26/20",
          "3/27/20",
          "3/28/20",
          "3/29/20",
          "3/30/20",
          "3/31/20",
          "4/1/20",
          "4/2/20",
          "4/3/20",
          "4/4/20",
          "4/5/20",
          "4/6/20",
          "4/7/20",
          "4/8/20",
          "4/9/20",
          "4/10/20",
          "4/11/20",
          "4/12/20",
          "4/13/20",
          "4/14/20",
          "4/15/20",
          "4/16/20",
          "4/17/20",
          "4/18/20",
          "4/19/20",
          "4/20/20",
          "4/21/20",
          "4/22/20",
          "4/23/20",
          "4/24/20",
          "4/25/20",
          "4/26/20",
          "4/27/20",
          "4/28/20",
          "4/29/20",
          "4/30/20",
          "5/1/20",
          "5/2/20",
          "5/3/20",
          "5/4/20",
          "5/5/20",
          "5/6/20",
          "5/7/20",
          "5/8/20",
          "5/9/20",
          "5/10/20",
          "5/11/20",
          "5/12/20",
          "5/13/20",
          "5/14/20",
          "5/15/20",
          "5/16/20",
          "5/17/20",
          "5/18/20",
          "5/19/20",
          "5/20/20",
          "5/21/20",
          "5/22/20",
          "5/23/20",
          "5/24/20",
          "5/25/20",
          "5/26/20",
          "5/27/20",
          "5/28/20",
          "5/29/20",
          "5/30/20",
          "5/31/20",
          "6/1/20",
          "6/2/20",
          "6/3/20",
          "6/4/20",
          "6/5/20",
          "6/6/20",
          "6/7/20",
          "6/8/20",
          "6/9/20",
          "6/10/20",
          "6/11/20",
          "6/12/20",
          "6/13/20",
          "6/14/20",
          "6/15/20",
          "6/16/20",
          "6/17/20",
          "6/18/20",
          "6/19/20",
          "6/20/20",
          "6/21/20",
          "6/22/20",
          "6/23/20",
          "6/24/20",
          "6/25/20",
          "6/26/20",
          "6/27/20",
          "6/28/20",
          "6/29/20",
          "6/30/20",
          "7/1/20",
          "7/2/20",
          "7/3/20",
          "7/4/20",
          "7/5/20",
          "7/6/20",
          "7/7/20",
          "7/8/20",
          "7/9/20",
          "7/10/20",
          "7/11/20",
          "7/12/20",
          "7/13/20",
          "7/14/20",
          "7/15/20",
          "7/16/20",
          "7/17/20",
          "7/18/20",
          "7/19/20",
          "7/20/20",
          "7/21/20",
          "7/22/20",
          "7/23/20",
          "7/24/20",
          "7/25/20",
          "7/26/20",
          "7/27/20",
          "7/28/20",
          "7/29/20",
          "7/30/20",
          "7/31/20",
          "8/1/20",
          "8/2/20",
          "8/3/20",
          "8/4/20",
          "8/5/20",
          "8/6/20",
          "8/7/20",
          "8/8/20",
          "8/9/20",
          "8/10/20",
          "8/11/20",
          "8/12/20",
          "8/13/20",
          "8/14/20",
          "8/15/20",
          "8/16/20",
          "8/17/20",
          "8/18/20",
          "8/19/20",
          "8/20/20",
          "8/21/20",
          "8/22/20",
          "8/23/20",
          "8/24/20",
          "8/25/20",
          "8/26/20",
          "8/27/20",
          "8/28/20",
          "8/29/20",
          "8/30/20",
          "8/31/20",
          "9/1/20",
          "9/2/20",
          "9/3/20",
          "9/4/20",
          "9/5/20",
          "9/6/20",
          "9/7/20",
          "9/8/20",
          "9/9/20",
          "9/10/20",
          "9/11/20",
          "9/12/20",
          "9/13/20",
          "9/14/20",
          "9/15/20",
          "9/16/20",
          "9/17/20",
          "9/18/20",
          "9/19/20",
          "9/20/20",
          "9/21/20",
          "9/22/20",
          "9/23/20",
          "9/24/20",
          "9/25/20",
          "9/26/20",
          "9/27/20",
          "9/28/20",
          "9/29/20",
          "9/30/20",
          "10/1/20",
          "10/2/20",
          "10/3/20",
          "10/4/20",
          "10/5/20",
          "10/6/20",
          "10/7/20",
          "10/8/20",
          "10/9/20",
          "10/10/20",
          "10/11/20",
          "10/12/20",
          "10/13/20",
          "10/14/20",
          "10/15/20",
          "10/16/20",
          "10/17/20",
          "10/18/20",
          "10/19/20",
          "10/20/20",
          "10/21/20",
          "10/22/20",
          "10/23/20",
          "10/24/20",
          "10/25/20",
          "10/26/20",
          "10/27/20",
          "10/28/20",
          "10/29/20",
          "10/30/20",
          "10/31/20",
          "11/1/20",
          "11/2/20",
          "11/3/20",
          "11/4/20",
          "11/5/20",
          "11/6/20",
          "11/7/20",
          "11/8/20",
          "11/9/20",
          "11/10/20",
          "11/11/20",
          "11/12/20",
          "11/13/20",
          "11/14/20",
          "11/15/20",
          "11/16/20",
          "11/17/20",
          "11/18/20",
          "11/19/20",
          "11/20/20",
          "11/21/20",
          "11/22/20",
          "11/23/20",
          "11/24/20",
          "11/25/20",
          "11/26/20",
          "11/27/20",
          "11/28/20",
          "11/29/20",
          "11/30/20",
          "12/1/20",
          "12/2/20",
          "12/3/20",
          "12/4/20",
          "12/5/20",
          "12/6/20",
          "12/7/20",
          "12/8/20",
          "12/9/20",
          "12/10/20",
          "12/11/20",
          "12/12/20",
          "12/13/20",
          "12/14/20",
          "12/15/20",
          "12/16/20",
          "12/17/20",
          "12/18/20",
          "12/19/20",
          "12/20/20",
          "12/21/20",
          "12/22/20",
          "12/23/20",
          "12/24/20",
          "12/25/20",
          "12/26/20",
          "12/27/20",
          "12/28/20",
          "12/29/20",
          "12/30/20",
          "12/31/20",
          "1/1/21",
          "1/2/21",
          "1/3/21",
          "1/4/21",
          "1/5/21",
          "1/6/21",
          "1/7/21",
          "1/8/21",
          "1/9/21",
          "1/10/21",
          "1/11/21",
          "1/12/21",
          "1/13/21",
          "1/14/21",
          "1/15/21",
          "1/16/21",
          "1/17/21",
          "1/18/21",
          "1/19/21",
          "1/20/21",
          "1/21/21",
          "1/22/21",
          "1/23/21",
          "1/24/21",
          "1/25/21",
          "1/26/21",
          "1/27/21",
          "1/28/21",
          "1/29/21",
          "1/30/21",
          "1/31/21",
          "2/1/21",
          "2/2/21",
          "2/3/21",
          "2/4/21",
          "2/5/21",
          "2/6/21",
          "2/7/21",
          "2/8/21",
          "2/9/21",
          "2/10/21",
          "2/11/21",
          "2/12/21",
          "2/13/21",
          "2/14/21",
          "2/15/21",
          "2/16/21",
          "2/17/21",
          "2/18/21",
          "2/19/21",
          "2/20/21",
          "2/21/21",
          "2/22/21",
          "2/23/21",
          "2/24/21",
          "2/25/21",
          "2/26/21",
          "2/27/21",
          "2/28/21",
          "3/1/21",
          "3/2/21",
          "3/3/21",
          "3/4/21",
          "3/5/21",
          "3/6/21",
          "3/7/21",
          "3/8/21",
          "3/9/21",
          "3/10/21",
          "3/11/21",
          "3/12/21",
          "3/13/21",
          "3/14/21",
          "3/15/21",
          "3/16/21",
          "3/17/21",
          "3/18/21",
          "3/19/21",
          "3/20/21",
          "3/21/21",
          "3/22/21",
          "3/23/21",
          "3/24/21",
          "3/25/21",
          "3/26/21",
          "3/27/21",
          "3/28/21",
          "3/29/21",
          "3/30/21",
          "3/31/21",
          "4/1/21",
          "4/2/21",
          "4/3/21",
          "4/4/21",
          "4/5/21",
          "4/6/21",
          "4/7/21",
          "4/8/21",
          "4/9/21",
          "4/10/21",
          "4/11/21",
          "4/12/21",
          "4/13/21",
          "4/14/21",
          "4/15/21",
          "4/16/21",
          "4/17/21",
          "4/18/21",
          "4/19/21",
          "4/20/21",
          "4/21/21",
          "4/22/21",
          "4/23/21",
          "4/24/21",
          "4/25/21",
          "4/26/21",
          "4/27/21",
          "4/28/21",
          "4/29/21",
          "4/30/21",
          "5/1/21",
          "5/2/21",
          "5/3/21",
          "5/4/21",
          "5/5/21",
          "5/6/21",
          "5/7/21",
          "5/8/21",
          "5/9/21",
          "5/10/21",
          "5/11/21",
          "5/12/21",
          "5/13/21",
          "5/14/21",
          "5/15/21",
          "5/16/21",
          "5/17/21",
          "5/18/21",
          "5/19/21",
          "5/20/21",
          "5/21/21",
          "5/22/21",
          "5/23/21",
          "5/24/21",
          "5/25/21",
          "5/26/21",
          "5/27/21",
          "5/28/21",
          "5/29/21",
          "5/30/21",
          "5/31/21",
          "6/1/21",
          "6/2/21",
          "6/3/21",
          "6/4/21",
          "6/5/21",
          "6/6/21",
          "6/7/21",
          "6/8/21",
          "6/9/21",
          "6/10/21",
          "6/11/21",
          "6/12/21",
          "6/13/21",
          "6/14/21",
          "6/15/21",
          "6/16/21",
          "6/17/21",
          "6/18/21",
          "6/19/21",
          "6/20/21",
          "6/21/21",
          "6/22/21",
          "6/23/21",
          "6/24/21",
          "6/25/21",
          "6/26/21",
          "6/27/21",
          "6/28/21",
          "6/29/21",
          "6/30/21",
          "7/1/21",
          "7/2/21",
          "7/3/21",
          "7/4/21",
          "7/5/21",
          "7/6/21",
          "7/7/21",
          "7/8/21",
          "7/9/21",
          "7/10/21"
         ],
         "xaxis": "x",
         "y": [
          30,
          32,
          39,
          42,
          56,
          65,
          108,
          127,
          145,
          225,
          287,
          476,
          627,
          857,
          1129,
          1492,
          2016,
          2616,
          3245,
          3947,
          4684,
          5151,
          6294,
          8057,
          9396,
          10866,
          12583,
          14352,
          16121,
          18179,
          18892,
          22889,
          23394,
          25227,
          27905,
          30386,
          33278,
          36710,
          39781,
          42717,
          45601,
          48227,
          51169,
          53795,
          55863,
          58357,
          60694,
          62493,
          64400,
          66998,
          68321,
          70248,
          72620,
          76031,
          78086,
          80830,
          83317,
          84958,
          87403,
          91650,
          97867,
          98335,
          107974,
          113753,
          122125,
          130910,
          139421,
          148877,
          164214,
          177804,
          193076,
          210219,
          225641,
          246053,
          259889,
          276598,
          299860,
          328742,
          353996,
          375734,
          401984,
          421367,
          448624,
          473698,
          510237,
          541120,
          567304,
          591170,
          622953,
          645131,
          679933,
          710018,
          738748,
          788777,
          816532,
          845344,
          873228,
          906440,
          948517,
          1013633,
          1051790,
          1092441,
          1124974,
          1159060,
          1195533,
          1241652,
          1281177,
          1317590,
          1371031,
          1404840,
          1451725,
          1488767,
          1544639,
          1584350,
          1632453,
          1688864,
          1729872,
          1782788,
          1834840,
          1893810,
          1945030,
          2053577,
          2108411,
          2163938,
          2227667,
          2282819,
          2346146,
          2413009,
          2490274,
          2560724,
          2637108,
          2692033,
          2796145,
          2875236,
          2945306,
          3014471,
          3086675,
          3141784,
          3293395,
          3375665,
          3454836,
          3540715,
          3620435,
          3706327,
          3777146,
          3857421,
          3955284,
          4074115,
          4155278,
          4250268,
          4366122,
          4434808,
          4526441,
          4630496,
          4746247,
          4839131,
          4945111,
          5051397,
          5140600,
          5235171,
          5352511,
          5468425,
          5753359,
          5863247,
          6059007,
          6178370,
          6302069,
          6447102,
          6605158,
          6739776,
          6879222,
          7004914,
          7116750,
          7257073,
          7399325,
          7559131,
          7711616,
          7895037,
          8045824,
          8133882,
          8293010,
          8467706,
          8647438,
          8823668,
          9051968,
          9271780,
          9415081,
          9586464,
          9756922,
          9959508,
          10173027,
          10372633,
          10553544,
          10692268,
          10914713,
          11138370,
          11360065,
          11548872,
          11740918,
          11941162,
          12119940,
          12284151,
          12589219,
          12829864,
          12993780,
          13277022,
          13445626,
          13678580,
          13889592,
          14117187,
          14335184,
          14542974,
          14711468,
          14921385,
          15137916,
          15337337,
          15568886,
          15794620,
          16001857,
          16200975,
          16412388,
          16622628,
          16823418,
          17081380,
          17300617,
          17521986,
          17735487,
          17936475,
          18148266,
          18345814,
          18547611,
          18787878,
          19004539,
          19228209,
          19451143,
          19638991,
          19867490,
          20093777,
          20323254,
          20543465,
          20794614,
          21031599,
          21268676,
          21514154,
          21733547,
          21996960,
          22252630,
          22491838,
          22753981,
          22967860,
          23190402,
          23431686,
          23679904,
          23901446,
          24073731,
          24329332,
          24551491,
          24788959,
          25021585,
          25276776,
          25496282,
          25703072,
          25898477,
          26121117,
          26321236,
          26513681,
          26725966,
          26933293,
          27136307,
          27334590,
          27536101,
          27738632,
          27950079,
          28161301,
          28388094,
          28594828,
          28806409,
          29003667,
          29242802,
          29832507,
          30098469,
          30345220,
          30600994,
          30845323,
          31103270,
          31383407,
          31634980,
          31914299,
          32217954,
          32506315,
          32805331,
          33058571,
          33315624,
          33572984,
          33953208,
          34179447,
          34481579,
          34759398,
          34990158,
          35380888,
          35814479,
          36177589,
          36551888,
          36907312,
          37246582,
          37520306,
          37931519,
          38303698,
          38741108,
          39107984,
          39489610,
          39849316,
          40167599,
          40569855,
          41046059,
          41508985,
          41935969,
          42426586,
          42862534,
          43178578,
          43591717,
          44032488,
          44458968,
          44950194,
          45428334,
          46933277,
          47328396,
          41338399,
          41696563,
          42058783,
          42434192,
          42751920,
          43103506,
          43380335,
          43723555,
          44086740,
          44410880,
          44725552,
          45017158,
          45425322,
          45717710,
          46016136,
          46369231,
          46757476,
          47032627,
          47313005,
          47614297,
          47882779,
          48173187,
          48488548,
          48801673,
          49125604,
          49422867,
          49753112,
          50023662,
          50313950,
          50657507,
          51023568,
          51396413,
          51717035,
          52034090,
          52349805,
          52668558,
          53071502,
          53399273,
          53765412,
          54147169,
          54463662,
          54774619,
          55089060,
          55418603,
          55759372,
          56075031,
          56439138,
          56790304,
          57079203,
          57351845,
          57702035,
          58031882,
          58325871,
          58607158,
          58901715,
          59179150,
          59411984,
          59783592,
          60052900,
          60328985,
          60616584,
          60862827,
          61058258,
          61346871,
          61582276,
          61876217,
          62112835,
          62347471,
          62616687,
          62833944,
          63016514,
          63295144,
          63504603,
          63732295,
          63992563,
          64243285,
          64418462,
          64633388,
          64903492,
          65132900,
          65383180,
          65609540,
          65846043,
          66084363,
          66358921,
          66621154,
          66856510,
          67129127,
          67397683,
          67650215,
          67895903,
          68185782,
          68452267,
          68716803,
          68985879,
          69264940,
          69523151,
          69803250,
          70137879,
          70451021,
          70786663,
          71098480,
          71463066,
          71768319,
          72097107,
          72401543,
          72736786,
          73119295,
          73464081,
          73784288,
          74150289,
          74498477,
          74846290,
          75216286,
          75699591,
          76094850,
          76548563,
          76933557,
          77464029,
          77858761,
          78345223,
          78792113,
          79236515,
          79740632,
          80259168,
          80839359,
          81374734,
          81979571,
          82491871,
          83128167,
          83767999,
          84344290,
          84878104,
          85565470,
          86246374,
          86843039,
          87550355,
          88236951,
          88919401,
          89612415,
          90255904,
          90912804,
          91626286,
          92301898,
          92998027,
          93709032,
          94371825,
          95000511,
          95751515,
          96399064,
          97089181,
          97754528,
          98397065,
          99064469,
          99808931,
          100552044,
          101250071,
          101886760,
          102501548,
          103118309,
          103620280,
          104247872,
          104824935,
          105380748,
          106078106,
          106633069,
          107140669,
          107630598,
          108159767,
          108743650,
          109272024,
          109701214,
          110226716,
          110704846,
          111146372,
          111568369,
          111983105,
          112435800,
          112849489,
          113225021,
          113563995,
          113993656,
          114340430,
          114800575,
          115149802,
          115530280,
          115849843,
          116181693,
          116446787,
          116804005,
          117107409,
          117507152,
          117796863,
          118125510,
          118420069,
          118678808,
          119006264,
          119299680,
          119579566,
          120005935,
          120299519,
          120569294,
          120868182,
          121235175,
          121563018,
          121831181,
          122123832,
          122457824,
          122867840
         ],
         "yaxis": "y"
        }
       ],
       "layout": {
        "legend": {
         "title": {
          "text": "Condition"
         },
         "tracegroupgap": 0
        },
        "margin": {
         "t": 60
        },
        "template": {
         "data": {
          "bar": [
           {
            "error_x": {
             "color": "#f2f5fa"
            },
            "error_y": {
             "color": "#f2f5fa"
            },
            "marker": {
             "line": {
              "color": "rgb(17,17,17)",
              "width": 0.5
             },
             "pattern": {
              "fillmode": "overlay",
              "size": 10,
              "solidity": 0.2
             }
            },
            "type": "bar"
           }
          ],
          "barpolar": [
           {
            "marker": {
             "line": {
              "color": "rgb(17,17,17)",
              "width": 0.5
             },
             "pattern": {
              "fillmode": "overlay",
              "size": 10,
              "solidity": 0.2
             }
            },
            "type": "barpolar"
           }
          ],
          "carpet": [
           {
            "aaxis": {
             "endlinecolor": "#A2B1C6",
             "gridcolor": "#506784",
             "linecolor": "#506784",
             "minorgridcolor": "#506784",
             "startlinecolor": "#A2B1C6"
            },
            "baxis": {
             "endlinecolor": "#A2B1C6",
             "gridcolor": "#506784",
             "linecolor": "#506784",
             "minorgridcolor": "#506784",
             "startlinecolor": "#A2B1C6"
            },
            "type": "carpet"
           }
          ],
          "choropleth": [
           {
            "colorbar": {
             "outlinewidth": 0,
             "ticks": ""
            },
            "type": "choropleth"
           }
          ],
          "contour": [
           {
            "colorbar": {
             "outlinewidth": 0,
             "ticks": ""
            },
            "colorscale": [
             [
              0,
              "#0d0887"
             ],
             [
              0.1111111111111111,
              "#46039f"
             ],
             [
              0.2222222222222222,
              "#7201a8"
             ],
             [
              0.3333333333333333,
              "#9c179e"
             ],
             [
              0.4444444444444444,
              "#bd3786"
             ],
             [
              0.5555555555555556,
              "#d8576b"
             ],
             [
              0.6666666666666666,
              "#ed7953"
             ],
             [
              0.7777777777777778,
              "#fb9f3a"
             ],
             [
              0.8888888888888888,
              "#fdca26"
             ],
             [
              1,
              "#f0f921"
             ]
            ],
            "type": "contour"
           }
          ],
          "contourcarpet": [
           {
            "colorbar": {
             "outlinewidth": 0,
             "ticks": ""
            },
            "type": "contourcarpet"
           }
          ],
          "heatmap": [
           {
            "colorbar": {
             "outlinewidth": 0,
             "ticks": ""
            },
            "colorscale": [
             [
              0,
              "#0d0887"
             ],
             [
              0.1111111111111111,
              "#46039f"
             ],
             [
              0.2222222222222222,
              "#7201a8"
             ],
             [
              0.3333333333333333,
              "#9c179e"
             ],
             [
              0.4444444444444444,
              "#bd3786"
             ],
             [
              0.5555555555555556,
              "#d8576b"
             ],
             [
              0.6666666666666666,
              "#ed7953"
             ],
             [
              0.7777777777777778,
              "#fb9f3a"
             ],
             [
              0.8888888888888888,
              "#fdca26"
             ],
             [
              1,
              "#f0f921"
             ]
            ],
            "type": "heatmap"
           }
          ],
          "heatmapgl": [
           {
            "colorbar": {
             "outlinewidth": 0,
             "ticks": ""
            },
            "colorscale": [
             [
              0,
              "#0d0887"
             ],
             [
              0.1111111111111111,
              "#46039f"
             ],
             [
              0.2222222222222222,
              "#7201a8"
             ],
             [
              0.3333333333333333,
              "#9c179e"
             ],
             [
              0.4444444444444444,
              "#bd3786"
             ],
             [
              0.5555555555555556,
              "#d8576b"
             ],
             [
              0.6666666666666666,
              "#ed7953"
             ],
             [
              0.7777777777777778,
              "#fb9f3a"
             ],
             [
              0.8888888888888888,
              "#fdca26"
             ],
             [
              1,
              "#f0f921"
             ]
            ],
            "type": "heatmapgl"
           }
          ],
          "histogram": [
           {
            "marker": {
             "pattern": {
              "fillmode": "overlay",
              "size": 10,
              "solidity": 0.2
             }
            },
            "type": "histogram"
           }
          ],
          "histogram2d": [
           {
            "colorbar": {
             "outlinewidth": 0,
             "ticks": ""
            },
            "colorscale": [
             [
              0,
              "#0d0887"
             ],
             [
              0.1111111111111111,
              "#46039f"
             ],
             [
              0.2222222222222222,
              "#7201a8"
             ],
             [
              0.3333333333333333,
              "#9c179e"
             ],
             [
              0.4444444444444444,
              "#bd3786"
             ],
             [
              0.5555555555555556,
              "#d8576b"
             ],
             [
              0.6666666666666666,
              "#ed7953"
             ],
             [
              0.7777777777777778,
              "#fb9f3a"
             ],
             [
              0.8888888888888888,
              "#fdca26"
             ],
             [
              1,
              "#f0f921"
             ]
            ],
            "type": "histogram2d"
           }
          ],
          "histogram2dcontour": [
           {
            "colorbar": {
             "outlinewidth": 0,
             "ticks": ""
            },
            "colorscale": [
             [
              0,
              "#0d0887"
             ],
             [
              0.1111111111111111,
              "#46039f"
             ],
             [
              0.2222222222222222,
              "#7201a8"
             ],
             [
              0.3333333333333333,
              "#9c179e"
             ],
             [
              0.4444444444444444,
              "#bd3786"
             ],
             [
              0.5555555555555556,
              "#d8576b"
             ],
             [
              0.6666666666666666,
              "#ed7953"
             ],
             [
              0.7777777777777778,
              "#fb9f3a"
             ],
             [
              0.8888888888888888,
              "#fdca26"
             ],
             [
              1,
              "#f0f921"
             ]
            ],
            "type": "histogram2dcontour"
           }
          ],
          "mesh3d": [
           {
            "colorbar": {
             "outlinewidth": 0,
             "ticks": ""
            },
            "type": "mesh3d"
           }
          ],
          "parcoords": [
           {
            "line": {
             "colorbar": {
              "outlinewidth": 0,
              "ticks": ""
             }
            },
            "type": "parcoords"
           }
          ],
          "pie": [
           {
            "automargin": true,
            "type": "pie"
           }
          ],
          "scatter": [
           {
            "marker": {
             "line": {
              "color": "#283442"
             }
            },
            "type": "scatter"
           }
          ],
          "scatter3d": [
           {
            "line": {
             "colorbar": {
              "outlinewidth": 0,
              "ticks": ""
             }
            },
            "marker": {
             "colorbar": {
              "outlinewidth": 0,
              "ticks": ""
             }
            },
            "type": "scatter3d"
           }
          ],
          "scattercarpet": [
           {
            "marker": {
             "colorbar": {
              "outlinewidth": 0,
              "ticks": ""
             }
            },
            "type": "scattercarpet"
           }
          ],
          "scattergeo": [
           {
            "marker": {
             "colorbar": {
              "outlinewidth": 0,
              "ticks": ""
             }
            },
            "type": "scattergeo"
           }
          ],
          "scattergl": [
           {
            "marker": {
             "line": {
              "color": "#283442"
             }
            },
            "type": "scattergl"
           }
          ],
          "scattermapbox": [
           {
            "marker": {
             "colorbar": {
              "outlinewidth": 0,
              "ticks": ""
             }
            },
            "type": "scattermapbox"
           }
          ],
          "scatterpolar": [
           {
            "marker": {
             "colorbar": {
              "outlinewidth": 0,
              "ticks": ""
             }
            },
            "type": "scatterpolar"
           }
          ],
          "scatterpolargl": [
           {
            "marker": {
             "colorbar": {
              "outlinewidth": 0,
              "ticks": ""
             }
            },
            "type": "scatterpolargl"
           }
          ],
          "scatterternary": [
           {
            "marker": {
             "colorbar": {
              "outlinewidth": 0,
              "ticks": ""
             }
            },
            "type": "scatterternary"
           }
          ],
          "surface": [
           {
            "colorbar": {
             "outlinewidth": 0,
             "ticks": ""
            },
            "colorscale": [
             [
              0,
              "#0d0887"
             ],
             [
              0.1111111111111111,
              "#46039f"
             ],
             [
              0.2222222222222222,
              "#7201a8"
             ],
             [
              0.3333333333333333,
              "#9c179e"
             ],
             [
              0.4444444444444444,
              "#bd3786"
             ],
             [
              0.5555555555555556,
              "#d8576b"
             ],
             [
              0.6666666666666666,
              "#ed7953"
             ],
             [
              0.7777777777777778,
              "#fb9f3a"
             ],
             [
              0.8888888888888888,
              "#fdca26"
             ],
             [
              1,
              "#f0f921"
             ]
            ],
            "type": "surface"
           }
          ],
          "table": [
           {
            "cells": {
             "fill": {
              "color": "#506784"
             },
             "line": {
              "color": "rgb(17,17,17)"
             }
            },
            "header": {
             "fill": {
              "color": "#2a3f5f"
             },
             "line": {
              "color": "rgb(17,17,17)"
             }
            },
            "type": "table"
           }
          ]
         },
         "layout": {
          "annotationdefaults": {
           "arrowcolor": "#f2f5fa",
           "arrowhead": 0,
           "arrowwidth": 1
          },
          "autotypenumbers": "strict",
          "coloraxis": {
           "colorbar": {
            "outlinewidth": 0,
            "ticks": ""
           }
          },
          "colorscale": {
           "diverging": [
            [
             0,
             "#8e0152"
            ],
            [
             0.1,
             "#c51b7d"
            ],
            [
             0.2,
             "#de77ae"
            ],
            [
             0.3,
             "#f1b6da"
            ],
            [
             0.4,
             "#fde0ef"
            ],
            [
             0.5,
             "#f7f7f7"
            ],
            [
             0.6,
             "#e6f5d0"
            ],
            [
             0.7,
             "#b8e186"
            ],
            [
             0.8,
             "#7fbc41"
            ],
            [
             0.9,
             "#4d9221"
            ],
            [
             1,
             "#276419"
            ]
           ],
           "sequential": [
            [
             0,
             "#0d0887"
            ],
            [
             0.1111111111111111,
             "#46039f"
            ],
            [
             0.2222222222222222,
             "#7201a8"
            ],
            [
             0.3333333333333333,
             "#9c179e"
            ],
            [
             0.4444444444444444,
             "#bd3786"
            ],
            [
             0.5555555555555556,
             "#d8576b"
            ],
            [
             0.6666666666666666,
             "#ed7953"
            ],
            [
             0.7777777777777778,
             "#fb9f3a"
            ],
            [
             0.8888888888888888,
             "#fdca26"
            ],
            [
             1,
             "#f0f921"
            ]
           ],
           "sequentialminus": [
            [
             0,
             "#0d0887"
            ],
            [
             0.1111111111111111,
             "#46039f"
            ],
            [
             0.2222222222222222,
             "#7201a8"
            ],
            [
             0.3333333333333333,
             "#9c179e"
            ],
            [
             0.4444444444444444,
             "#bd3786"
            ],
            [
             0.5555555555555556,
             "#d8576b"
            ],
            [
             0.6666666666666666,
             "#ed7953"
            ],
            [
             0.7777777777777778,
             "#fb9f3a"
            ],
            [
             0.8888888888888888,
             "#fdca26"
            ],
            [
             1,
             "#f0f921"
            ]
           ]
          },
          "colorway": [
           "#636efa",
           "#EF553B",
           "#00cc96",
           "#ab63fa",
           "#FFA15A",
           "#19d3f3",
           "#FF6692",
           "#B6E880",
           "#FF97FF",
           "#FECB52"
          ],
          "font": {
           "color": "#f2f5fa"
          },
          "geo": {
           "bgcolor": "rgb(17,17,17)",
           "lakecolor": "rgb(17,17,17)",
           "landcolor": "rgb(17,17,17)",
           "showlakes": true,
           "showland": true,
           "subunitcolor": "#506784"
          },
          "hoverlabel": {
           "align": "left"
          },
          "hovermode": "closest",
          "mapbox": {
           "style": "dark"
          },
          "paper_bgcolor": "rgb(17,17,17)",
          "plot_bgcolor": "rgb(17,17,17)",
          "polar": {
           "angularaxis": {
            "gridcolor": "#506784",
            "linecolor": "#506784",
            "ticks": ""
           },
           "bgcolor": "rgb(17,17,17)",
           "radialaxis": {
            "gridcolor": "#506784",
            "linecolor": "#506784",
            "ticks": ""
           }
          },
          "scene": {
           "xaxis": {
            "backgroundcolor": "rgb(17,17,17)",
            "gridcolor": "#506784",
            "gridwidth": 2,
            "linecolor": "#506784",
            "showbackground": true,
            "ticks": "",
            "zerolinecolor": "#C8D4E3"
           },
           "yaxis": {
            "backgroundcolor": "rgb(17,17,17)",
            "gridcolor": "#506784",
            "gridwidth": 2,
            "linecolor": "#506784",
            "showbackground": true,
            "ticks": "",
            "zerolinecolor": "#C8D4E3"
           },
           "zaxis": {
            "backgroundcolor": "rgb(17,17,17)",
            "gridcolor": "#506784",
            "gridwidth": 2,
            "linecolor": "#506784",
            "showbackground": true,
            "ticks": "",
            "zerolinecolor": "#C8D4E3"
           }
          },
          "shapedefaults": {
           "line": {
            "color": "#f2f5fa"
           }
          },
          "sliderdefaults": {
           "bgcolor": "#C8D4E3",
           "bordercolor": "rgb(17,17,17)",
           "borderwidth": 1,
           "tickwidth": 0
          },
          "ternary": {
           "aaxis": {
            "gridcolor": "#506784",
            "linecolor": "#506784",
            "ticks": ""
           },
           "baxis": {
            "gridcolor": "#506784",
            "linecolor": "#506784",
            "ticks": ""
           },
           "bgcolor": "rgb(17,17,17)",
           "caxis": {
            "gridcolor": "#506784",
            "linecolor": "#506784",
            "ticks": ""
           }
          },
          "title": {
           "x": 0.05
          },
          "updatemenudefaults": {
           "bgcolor": "#506784",
           "borderwidth": 0
          },
          "xaxis": {
           "automargin": true,
           "gridcolor": "#283442",
           "linecolor": "#506784",
           "ticks": "",
           "title": {
            "standoff": 15
           },
           "zerolinecolor": "#283442",
           "zerolinewidth": 2
          },
          "yaxis": {
           "automargin": true,
           "gridcolor": "#283442",
           "linecolor": "#506784",
           "ticks": "",
           "title": {
            "standoff": 15
           },
           "zerolinecolor": "#283442",
           "zerolinewidth": 2
          }
         }
        },
        "xaxis": {
         "anchor": "y",
         "domain": [
          0,
          1
         ],
         "rangeslider": {
          "visible": true
         },
         "title": {
          "text": "Date"
         }
        },
        "yaxis": {
         "anchor": "x",
         "domain": [
          0,
          1
         ],
         "title": {
          "text": "Cases"
         }
        }
       }
      },
      "text/html": [
       "<div>                            <div id=\"7e45371f-51cb-4858-910b-4022c4f72c92\" class=\"plotly-graph-div\" style=\"height:525px; width:100%;\"></div>            <script type=\"text/javascript\">                require([\"plotly\"], function(Plotly) {                    window.PLOTLYENV=window.PLOTLYENV || {};                                    if (document.getElementById(\"7e45371f-51cb-4858-910b-4022c4f72c92\")) {                    Plotly.newPlot(                        \"7e45371f-51cb-4858-910b-4022c4f72c92\",                        [{\"customdata\":[[\"confirmed\"],[\"confirmed\"],[\"confirmed\"],[\"confirmed\"],[\"confirmed\"],[\"confirmed\"],[\"confirmed\"],[\"confirmed\"],[\"confirmed\"],[\"confirmed\"],[\"confirmed\"],[\"confirmed\"],[\"confirmed\"],[\"confirmed\"],[\"confirmed\"],[\"confirmed\"],[\"confirmed\"],[\"confirmed\"],[\"confirmed\"],[\"confirmed\"],[\"confirmed\"],[\"confirmed\"],[\"confirmed\"],[\"confirmed\"],[\"confirmed\"],[\"confirmed\"],[\"confirmed\"],[\"confirmed\"],[\"confirmed\"],[\"confirmed\"],[\"confirmed\"],[\"confirmed\"],[\"confirmed\"],[\"confirmed\"],[\"confirmed\"],[\"confirmed\"],[\"confirmed\"],[\"confirmed\"],[\"confirmed\"],[\"confirmed\"],[\"confirmed\"],[\"confirmed\"],[\"confirmed\"],[\"confirmed\"],[\"confirmed\"],[\"confirmed\"],[\"confirmed\"],[\"confirmed\"],[\"confirmed\"],[\"confirmed\"],[\"confirmed\"],[\"confirmed\"],[\"confirmed\"],[\"confirmed\"],[\"confirmed\"],[\"confirmed\"],[\"confirmed\"],[\"confirmed\"],[\"confirmed\"],[\"confirmed\"],[\"confirmed\"],[\"confirmed\"],[\"confirmed\"],[\"confirmed\"],[\"confirmed\"],[\"confirmed\"],[\"confirmed\"],[\"confirmed\"],[\"confirmed\"],[\"confirmed\"],[\"confirmed\"],[\"confirmed\"],[\"confirmed\"],[\"confirmed\"],[\"confirmed\"],[\"confirmed\"],[\"confirmed\"],[\"confirmed\"],[\"confirmed\"],[\"confirmed\"],[\"confirmed\"],[\"confirmed\"],[\"confirmed\"],[\"confirmed\"],[\"confirmed\"],[\"confirmed\"],[\"confirmed\"],[\"confirmed\"],[\"confirmed\"],[\"confirmed\"],[\"confirmed\"],[\"confirmed\"],[\"confirmed\"],[\"confirmed\"],[\"confirmed\"],[\"confirmed\"],[\"confirmed\"],[\"confirmed\"],[\"confirmed\"],[\"confirmed\"],[\"confirmed\"],[\"confirmed\"],[\"confirmed\"],[\"confirmed\"],[\"confirmed\"],[\"confirmed\"],[\"confirmed\"],[\"confirmed\"],[\"confirmed\"],[\"confirmed\"],[\"confirmed\"],[\"confirmed\"],[\"confirmed\"],[\"confirmed\"],[\"confirmed\"],[\"confirmed\"],[\"confirmed\"],[\"confirmed\"],[\"confirmed\"],[\"confirmed\"],[\"confirmed\"],[\"confirmed\"],[\"confirmed\"],[\"confirmed\"],[\"confirmed\"],[\"confirmed\"],[\"confirmed\"],[\"confirmed\"],[\"confirmed\"],[\"confirmed\"],[\"confirmed\"],[\"confirmed\"],[\"confirmed\"],[\"confirmed\"],[\"confirmed\"],[\"confirmed\"],[\"confirmed\"],[\"confirmed\"],[\"confirmed\"],[\"confirmed\"],[\"confirmed\"],[\"confirmed\"],[\"confirmed\"],[\"confirmed\"],[\"confirmed\"],[\"confirmed\"],[\"confirmed\"],[\"confirmed\"],[\"confirmed\"],[\"confirmed\"],[\"confirmed\"],[\"confirmed\"],[\"confirmed\"],[\"confirmed\"],[\"confirmed\"],[\"confirmed\"],[\"confirmed\"],[\"confirmed\"],[\"confirmed\"],[\"confirmed\"],[\"confirmed\"],[\"confirmed\"],[\"confirmed\"],[\"confirmed\"],[\"confirmed\"],[\"confirmed\"],[\"confirmed\"],[\"confirmed\"],[\"confirmed\"],[\"confirmed\"],[\"confirmed\"],[\"confirmed\"],[\"confirmed\"],[\"confirmed\"],[\"confirmed\"],[\"confirmed\"],[\"confirmed\"],[\"confirmed\"],[\"confirmed\"],[\"confirmed\"],[\"confirmed\"],[\"confirmed\"],[\"confirmed\"],[\"confirmed\"],[\"confirmed\"],[\"confirmed\"],[\"confirmed\"],[\"confirmed\"],[\"confirmed\"],[\"confirmed\"],[\"confirmed\"],[\"confirmed\"],[\"confirmed\"],[\"confirmed\"],[\"confirmed\"],[\"confirmed\"],[\"confirmed\"],[\"confirmed\"],[\"confirmed\"],[\"confirmed\"],[\"confirmed\"],[\"confirmed\"],[\"confirmed\"],[\"confirmed\"],[\"confirmed\"],[\"confirmed\"],[\"confirmed\"],[\"confirmed\"],[\"confirmed\"],[\"confirmed\"],[\"confirmed\"],[\"confirmed\"],[\"confirmed\"],[\"confirmed\"],[\"confirmed\"],[\"confirmed\"],[\"confirmed\"],[\"confirmed\"],[\"confirmed\"],[\"confirmed\"],[\"confirmed\"],[\"confirmed\"],[\"confirmed\"],[\"confirmed\"],[\"confirmed\"],[\"confirmed\"],[\"confirmed\"],[\"confirmed\"],[\"confirmed\"],[\"confirmed\"],[\"confirmed\"],[\"confirmed\"],[\"confirmed\"],[\"confirmed\"],[\"confirmed\"],[\"confirmed\"],[\"confirmed\"],[\"confirmed\"],[\"confirmed\"],[\"confirmed\"],[\"confirmed\"],[\"confirmed\"],[\"confirmed\"],[\"confirmed\"],[\"confirmed\"],[\"confirmed\"],[\"confirmed\"],[\"confirmed\"],[\"confirmed\"],[\"confirmed\"],[\"confirmed\"],[\"confirmed\"],[\"confirmed\"],[\"confirmed\"],[\"confirmed\"],[\"confirmed\"],[\"confirmed\"],[\"confirmed\"],[\"confirmed\"],[\"confirmed\"],[\"confirmed\"],[\"confirmed\"],[\"confirmed\"],[\"confirmed\"],[\"confirmed\"],[\"confirmed\"],[\"confirmed\"],[\"confirmed\"],[\"confirmed\"],[\"confirmed\"],[\"confirmed\"],[\"confirmed\"],[\"confirmed\"],[\"confirmed\"],[\"confirmed\"],[\"confirmed\"],[\"confirmed\"],[\"confirmed\"],[\"confirmed\"],[\"confirmed\"],[\"confirmed\"],[\"confirmed\"],[\"confirmed\"],[\"confirmed\"],[\"confirmed\"],[\"confirmed\"],[\"confirmed\"],[\"confirmed\"],[\"confirmed\"],[\"confirmed\"],[\"confirmed\"],[\"confirmed\"],[\"confirmed\"],[\"confirmed\"],[\"confirmed\"],[\"confirmed\"],[\"confirmed\"],[\"confirmed\"],[\"confirmed\"],[\"confirmed\"],[\"confirmed\"],[\"confirmed\"],[\"confirmed\"],[\"confirmed\"],[\"confirmed\"],[\"confirmed\"],[\"confirmed\"],[\"confirmed\"],[\"confirmed\"],[\"confirmed\"],[\"confirmed\"],[\"confirmed\"],[\"confirmed\"],[\"confirmed\"],[\"confirmed\"],[\"confirmed\"],[\"confirmed\"],[\"confirmed\"],[\"confirmed\"],[\"confirmed\"],[\"confirmed\"],[\"confirmed\"],[\"confirmed\"],[\"confirmed\"],[\"confirmed\"],[\"confirmed\"],[\"confirmed\"],[\"confirmed\"],[\"confirmed\"],[\"confirmed\"],[\"confirmed\"],[\"confirmed\"],[\"confirmed\"],[\"confirmed\"],[\"confirmed\"],[\"confirmed\"],[\"confirmed\"],[\"confirmed\"],[\"confirmed\"],[\"confirmed\"],[\"confirmed\"],[\"confirmed\"],[\"confirmed\"],[\"confirmed\"],[\"confirmed\"],[\"confirmed\"],[\"confirmed\"],[\"confirmed\"],[\"confirmed\"],[\"confirmed\"],[\"confirmed\"],[\"confirmed\"],[\"confirmed\"],[\"confirmed\"],[\"confirmed\"],[\"confirmed\"],[\"confirmed\"],[\"confirmed\"],[\"confirmed\"],[\"confirmed\"],[\"confirmed\"],[\"confirmed\"],[\"confirmed\"],[\"confirmed\"],[\"confirmed\"],[\"confirmed\"],[\"confirmed\"],[\"confirmed\"],[\"confirmed\"],[\"confirmed\"],[\"confirmed\"],[\"confirmed\"],[\"confirmed\"],[\"confirmed\"],[\"confirmed\"],[\"confirmed\"],[\"confirmed\"],[\"confirmed\"],[\"confirmed\"],[\"confirmed\"],[\"confirmed\"],[\"confirmed\"],[\"confirmed\"],[\"confirmed\"],[\"confirmed\"],[\"confirmed\"],[\"confirmed\"],[\"confirmed\"],[\"confirmed\"],[\"confirmed\"],[\"confirmed\"],[\"confirmed\"],[\"confirmed\"],[\"confirmed\"],[\"confirmed\"],[\"confirmed\"],[\"confirmed\"],[\"confirmed\"],[\"confirmed\"],[\"confirmed\"],[\"confirmed\"],[\"confirmed\"],[\"confirmed\"],[\"confirmed\"],[\"confirmed\"],[\"confirmed\"],[\"confirmed\"],[\"confirmed\"],[\"confirmed\"],[\"confirmed\"],[\"confirmed\"],[\"confirmed\"],[\"confirmed\"],[\"confirmed\"],[\"confirmed\"],[\"confirmed\"],[\"confirmed\"],[\"confirmed\"],[\"confirmed\"],[\"confirmed\"],[\"confirmed\"],[\"confirmed\"],[\"confirmed\"],[\"confirmed\"],[\"confirmed\"],[\"confirmed\"],[\"confirmed\"],[\"confirmed\"],[\"confirmed\"],[\"confirmed\"],[\"confirmed\"],[\"confirmed\"],[\"confirmed\"],[\"confirmed\"],[\"confirmed\"],[\"confirmed\"],[\"confirmed\"],[\"confirmed\"],[\"confirmed\"],[\"confirmed\"],[\"confirmed\"],[\"confirmed\"],[\"confirmed\"],[\"confirmed\"],[\"confirmed\"],[\"confirmed\"],[\"confirmed\"],[\"confirmed\"],[\"confirmed\"],[\"confirmed\"],[\"confirmed\"],[\"confirmed\"],[\"confirmed\"],[\"confirmed\"],[\"confirmed\"],[\"confirmed\"],[\"confirmed\"],[\"confirmed\"],[\"confirmed\"],[\"confirmed\"],[\"confirmed\"],[\"confirmed\"],[\"confirmed\"],[\"confirmed\"],[\"confirmed\"],[\"confirmed\"],[\"confirmed\"],[\"confirmed\"],[\"confirmed\"],[\"confirmed\"],[\"confirmed\"],[\"confirmed\"],[\"confirmed\"],[\"confirmed\"],[\"confirmed\"],[\"confirmed\"],[\"confirmed\"],[\"confirmed\"],[\"confirmed\"],[\"confirmed\"],[\"confirmed\"],[\"confirmed\"],[\"confirmed\"],[\"confirmed\"],[\"confirmed\"],[\"confirmed\"],[\"confirmed\"],[\"confirmed\"],[\"confirmed\"],[\"confirmed\"],[\"confirmed\"],[\"confirmed\"],[\"confirmed\"],[\"confirmed\"],[\"confirmed\"],[\"confirmed\"],[\"confirmed\"],[\"confirmed\"],[\"confirmed\"],[\"confirmed\"],[\"confirmed\"],[\"confirmed\"],[\"confirmed\"],[\"confirmed\"],[\"confirmed\"],[\"confirmed\"],[\"confirmed\"],[\"confirmed\"],[\"confirmed\"],[\"confirmed\"],[\"confirmed\"],[\"confirmed\"],[\"confirmed\"],[\"confirmed\"],[\"confirmed\"],[\"confirmed\"],[\"confirmed\"],[\"confirmed\"],[\"confirmed\"],[\"confirmed\"],[\"confirmed\"],[\"confirmed\"],[\"confirmed\"],[\"confirmed\"],[\"confirmed\"],[\"confirmed\"],[\"confirmed\"],[\"confirmed\"],[\"confirmed\"],[\"confirmed\"],[\"confirmed\"],[\"confirmed\"],[\"confirmed\"],[\"confirmed\"],[\"confirmed\"],[\"confirmed\"]],\"hovertemplate\":\"Cases=%{y:,}<extra></extra>\",\"legendgroup\":\"confirmed\",\"line\":{\"color\":\"#34495e\",\"dash\":\"solid\"},\"mode\":\"lines\",\"name\":\"confirmed\",\"showlegend\":true,\"type\":\"scattergl\",\"x\":[\"1/22/20\",\"1/23/20\",\"1/24/20\",\"1/25/20\",\"1/26/20\",\"1/27/20\",\"1/28/20\",\"1/29/20\",\"1/30/20\",\"1/31/20\",\"2/1/20\",\"2/2/20\",\"2/3/20\",\"2/4/20\",\"2/5/20\",\"2/6/20\",\"2/7/20\",\"2/8/20\",\"2/9/20\",\"2/10/20\",\"2/11/20\",\"2/12/20\",\"2/13/20\",\"2/14/20\",\"2/15/20\",\"2/16/20\",\"2/17/20\",\"2/18/20\",\"2/19/20\",\"2/20/20\",\"2/21/20\",\"2/22/20\",\"2/23/20\",\"2/24/20\",\"2/25/20\",\"2/26/20\",\"2/27/20\",\"2/28/20\",\"2/29/20\",\"3/1/20\",\"3/2/20\",\"3/3/20\",\"3/4/20\",\"3/5/20\",\"3/6/20\",\"3/7/20\",\"3/8/20\",\"3/9/20\",\"3/10/20\",\"3/11/20\",\"3/12/20\",\"3/13/20\",\"3/14/20\",\"3/15/20\",\"3/16/20\",\"3/17/20\",\"3/18/20\",\"3/19/20\",\"3/20/20\",\"3/21/20\",\"3/22/20\",\"3/23/20\",\"3/24/20\",\"3/25/20\",\"3/26/20\",\"3/27/20\",\"3/28/20\",\"3/29/20\",\"3/30/20\",\"3/31/20\",\"4/1/20\",\"4/2/20\",\"4/3/20\",\"4/4/20\",\"4/5/20\",\"4/6/20\",\"4/7/20\",\"4/8/20\",\"4/9/20\",\"4/10/20\",\"4/11/20\",\"4/12/20\",\"4/13/20\",\"4/14/20\",\"4/15/20\",\"4/16/20\",\"4/17/20\",\"4/18/20\",\"4/19/20\",\"4/20/20\",\"4/21/20\",\"4/22/20\",\"4/23/20\",\"4/24/20\",\"4/25/20\",\"4/26/20\",\"4/27/20\",\"4/28/20\",\"4/29/20\",\"4/30/20\",\"5/1/20\",\"5/2/20\",\"5/3/20\",\"5/4/20\",\"5/5/20\",\"5/6/20\",\"5/7/20\",\"5/8/20\",\"5/9/20\",\"5/10/20\",\"5/11/20\",\"5/12/20\",\"5/13/20\",\"5/14/20\",\"5/15/20\",\"5/16/20\",\"5/17/20\",\"5/18/20\",\"5/19/20\",\"5/20/20\",\"5/21/20\",\"5/22/20\",\"5/23/20\",\"5/24/20\",\"5/25/20\",\"5/26/20\",\"5/27/20\",\"5/28/20\",\"5/29/20\",\"5/30/20\",\"5/31/20\",\"6/1/20\",\"6/2/20\",\"6/3/20\",\"6/4/20\",\"6/5/20\",\"6/6/20\",\"6/7/20\",\"6/8/20\",\"6/9/20\",\"6/10/20\",\"6/11/20\",\"6/12/20\",\"6/13/20\",\"6/14/20\",\"6/15/20\",\"6/16/20\",\"6/17/20\",\"6/18/20\",\"6/19/20\",\"6/20/20\",\"6/21/20\",\"6/22/20\",\"6/23/20\",\"6/24/20\",\"6/25/20\",\"6/26/20\",\"6/27/20\",\"6/28/20\",\"6/29/20\",\"6/30/20\",\"7/1/20\",\"7/2/20\",\"7/3/20\",\"7/4/20\",\"7/5/20\",\"7/6/20\",\"7/7/20\",\"7/8/20\",\"7/9/20\",\"7/10/20\",\"7/11/20\",\"7/12/20\",\"7/13/20\",\"7/14/20\",\"7/15/20\",\"7/16/20\",\"7/17/20\",\"7/18/20\",\"7/19/20\",\"7/20/20\",\"7/21/20\",\"7/22/20\",\"7/23/20\",\"7/24/20\",\"7/25/20\",\"7/26/20\",\"7/27/20\",\"7/28/20\",\"7/29/20\",\"7/30/20\",\"7/31/20\",\"8/1/20\",\"8/2/20\",\"8/3/20\",\"8/4/20\",\"8/5/20\",\"8/6/20\",\"8/7/20\",\"8/8/20\",\"8/9/20\",\"8/10/20\",\"8/11/20\",\"8/12/20\",\"8/13/20\",\"8/14/20\",\"8/15/20\",\"8/16/20\",\"8/17/20\",\"8/18/20\",\"8/19/20\",\"8/20/20\",\"8/21/20\",\"8/22/20\",\"8/23/20\",\"8/24/20\",\"8/25/20\",\"8/26/20\",\"8/27/20\",\"8/28/20\",\"8/29/20\",\"8/30/20\",\"8/31/20\",\"9/1/20\",\"9/2/20\",\"9/3/20\",\"9/4/20\",\"9/5/20\",\"9/6/20\",\"9/7/20\",\"9/8/20\",\"9/9/20\",\"9/10/20\",\"9/11/20\",\"9/12/20\",\"9/13/20\",\"9/14/20\",\"9/15/20\",\"9/16/20\",\"9/17/20\",\"9/18/20\",\"9/19/20\",\"9/20/20\",\"9/21/20\",\"9/22/20\",\"9/23/20\",\"9/24/20\",\"9/25/20\",\"9/26/20\",\"9/27/20\",\"9/28/20\",\"9/29/20\",\"9/30/20\",\"10/1/20\",\"10/2/20\",\"10/3/20\",\"10/4/20\",\"10/5/20\",\"10/6/20\",\"10/7/20\",\"10/8/20\",\"10/9/20\",\"10/10/20\",\"10/11/20\",\"10/12/20\",\"10/13/20\",\"10/14/20\",\"10/15/20\",\"10/16/20\",\"10/17/20\",\"10/18/20\",\"10/19/20\",\"10/20/20\",\"10/21/20\",\"10/22/20\",\"10/23/20\",\"10/24/20\",\"10/25/20\",\"10/26/20\",\"10/27/20\",\"10/28/20\",\"10/29/20\",\"10/30/20\",\"10/31/20\",\"11/1/20\",\"11/2/20\",\"11/3/20\",\"11/4/20\",\"11/5/20\",\"11/6/20\",\"11/7/20\",\"11/8/20\",\"11/9/20\",\"11/10/20\",\"11/11/20\",\"11/12/20\",\"11/13/20\",\"11/14/20\",\"11/15/20\",\"11/16/20\",\"11/17/20\",\"11/18/20\",\"11/19/20\",\"11/20/20\",\"11/21/20\",\"11/22/20\",\"11/23/20\",\"11/24/20\",\"11/25/20\",\"11/26/20\",\"11/27/20\",\"11/28/20\",\"11/29/20\",\"11/30/20\",\"12/1/20\",\"12/2/20\",\"12/3/20\",\"12/4/20\",\"12/5/20\",\"12/6/20\",\"12/7/20\",\"12/8/20\",\"12/9/20\",\"12/10/20\",\"12/11/20\",\"12/12/20\",\"12/13/20\",\"12/14/20\",\"12/15/20\",\"12/16/20\",\"12/17/20\",\"12/18/20\",\"12/19/20\",\"12/20/20\",\"12/21/20\",\"12/22/20\",\"12/23/20\",\"12/24/20\",\"12/25/20\",\"12/26/20\",\"12/27/20\",\"12/28/20\",\"12/29/20\",\"12/30/20\",\"12/31/20\",\"1/1/21\",\"1/2/21\",\"1/3/21\",\"1/4/21\",\"1/5/21\",\"1/6/21\",\"1/7/21\",\"1/8/21\",\"1/9/21\",\"1/10/21\",\"1/11/21\",\"1/12/21\",\"1/13/21\",\"1/14/21\",\"1/15/21\",\"1/16/21\",\"1/17/21\",\"1/18/21\",\"1/19/21\",\"1/20/21\",\"1/21/21\",\"1/22/21\",\"1/23/21\",\"1/24/21\",\"1/25/21\",\"1/26/21\",\"1/27/21\",\"1/28/21\",\"1/29/21\",\"1/30/21\",\"1/31/21\",\"2/1/21\",\"2/2/21\",\"2/3/21\",\"2/4/21\",\"2/5/21\",\"2/6/21\",\"2/7/21\",\"2/8/21\",\"2/9/21\",\"2/10/21\",\"2/11/21\",\"2/12/21\",\"2/13/21\",\"2/14/21\",\"2/15/21\",\"2/16/21\",\"2/17/21\",\"2/18/21\",\"2/19/21\",\"2/20/21\",\"2/21/21\",\"2/22/21\",\"2/23/21\",\"2/24/21\",\"2/25/21\",\"2/26/21\",\"2/27/21\",\"2/28/21\",\"3/1/21\",\"3/2/21\",\"3/3/21\",\"3/4/21\",\"3/5/21\",\"3/6/21\",\"3/7/21\",\"3/8/21\",\"3/9/21\",\"3/10/21\",\"3/11/21\",\"3/12/21\",\"3/13/21\",\"3/14/21\",\"3/15/21\",\"3/16/21\",\"3/17/21\",\"3/18/21\",\"3/19/21\",\"3/20/21\",\"3/21/21\",\"3/22/21\",\"3/23/21\",\"3/24/21\",\"3/25/21\",\"3/26/21\",\"3/27/21\",\"3/28/21\",\"3/29/21\",\"3/30/21\",\"3/31/21\",\"4/1/21\",\"4/2/21\",\"4/3/21\",\"4/4/21\",\"4/5/21\",\"4/6/21\",\"4/7/21\",\"4/8/21\",\"4/9/21\",\"4/10/21\",\"4/11/21\",\"4/12/21\",\"4/13/21\",\"4/14/21\",\"4/15/21\",\"4/16/21\",\"4/17/21\",\"4/18/21\",\"4/19/21\",\"4/20/21\",\"4/21/21\",\"4/22/21\",\"4/23/21\",\"4/24/21\",\"4/25/21\",\"4/26/21\",\"4/27/21\",\"4/28/21\",\"4/29/21\",\"4/30/21\",\"5/1/21\",\"5/2/21\",\"5/3/21\",\"5/4/21\",\"5/5/21\",\"5/6/21\",\"5/7/21\",\"5/8/21\",\"5/9/21\",\"5/10/21\",\"5/11/21\",\"5/12/21\",\"5/13/21\",\"5/14/21\",\"5/15/21\",\"5/16/21\",\"5/17/21\",\"5/18/21\",\"5/19/21\",\"5/20/21\",\"5/21/21\",\"5/22/21\",\"5/23/21\",\"5/24/21\",\"5/25/21\",\"5/26/21\",\"5/27/21\",\"5/28/21\",\"5/29/21\",\"5/30/21\",\"5/31/21\",\"6/1/21\",\"6/2/21\",\"6/3/21\",\"6/4/21\",\"6/5/21\",\"6/6/21\",\"6/7/21\",\"6/8/21\",\"6/9/21\",\"6/10/21\",\"6/11/21\",\"6/12/21\",\"6/13/21\",\"6/14/21\",\"6/15/21\",\"6/16/21\",\"6/17/21\",\"6/18/21\",\"6/19/21\",\"6/20/21\",\"6/21/21\",\"6/22/21\",\"6/23/21\",\"6/24/21\",\"6/25/21\",\"6/26/21\",\"6/27/21\",\"6/28/21\",\"6/29/21\",\"6/30/21\",\"7/1/21\",\"7/2/21\",\"7/3/21\",\"7/4/21\",\"7/5/21\",\"7/6/21\",\"7/7/21\",\"7/8/21\",\"7/9/21\",\"7/10/21\"],\"xaxis\":\"x\",\"y\":[557,655,941,1433,2118,2927,5578,6167,8235,9927,12038,16787,19887,23898,27643,30803,34396,37130,40160,42769,44811,45229,60382,66909,69052,71235,73270,75152,75652,76212,76841,78602,78982,79546,80399,81376,82736,84122,86013,88394,90377,92971,95279,98090,102003,106098,110047,114219,119041,126702,132492,146876,157950,169219,184027,199970,219535,246584,277359,309350,344205,387040,428219,479220,542097,607138,674418,733655,798949,875794,958629,1041679,1125250,1183609,1256219,1329371,1399212,1482610,1569630,1655153,1729417,1849112,1919853,2003857,2080973,2176491,2264524,2341739,2418310,2494320,2570078,2651377,2735668,2819764,2902007,2973582,3043786,3119324,3196455,3279935,3368292,3447490,3523887,3601559,3682058,3772095,3860819,3951089,4036352,4111266,4187924,4272394,4357399,4453629,4549347,4643762,4721809,4810975,4907722,5009628,5116275,5222689,5327481,5421702,5508408,5602388,5705152,5824433,5945341,6081855,6188259,6284232,6406196,6520447,6651410,6782636,6916355,7028730,7131206,7256265,7391371,7529424,7658151,7793444,7925721,8045387,8187468,8331222,8472296,8652193,8809651,8937355,9076708,9243514,9416110,9594500,9786102,9964218,10128093,10283456,10457988,10675596,10885548,11086923,11280744,11464726,11628722,11840091,12054250,12281090,12513766,12730232,12922492,13113970,13336173,13567611,13818969,14061686,14297865,14511279,14718412,14952034,15231917,15514776,15795846,16049938,16263015,16489477,16742217,17033965,17314074,17604811,17853166,18084181,18290628,18548543,18825127,19110321,19392566,19651099,19875797,20101808,20359380,20636018,20925236,21228980,21476718,21691208,21898916,22157171,22436722,22709277,22970496,23234766,23440930,23666158,23910153,24193952,24477860,24761471,25025287,25246275,25509140,25774047,26057555,26339015,26653020,26923081,27153595,27371523,27613555,27898369,28198228,28519589,28806206,29048946,29312693,29598140,29902687,30217566,30543485,30835647,31087793,31363785,31648303,31924402,32277431,32608314,32896777,33148188,33403027,33685585,34011804,34330104,34627958,34960044,35221464,35522414,35848966,36199957,36561290,36922190,37279326,37566278,37857976,38177218,38559565,38966541,39378313,39750993,40067583,40454758,40843745,41288653,41761382,42258164,42714986,43075703,43562021,44032249,44544143,45094525,45665604,46142428,46604864,47167894,47721721,48233206,48829777,49474659,50071611,50555683,51057076,51616461,52265191,52914645,53566727,54161862,54635935,55170071,55781327,56408504,57062051,57730831,58318557,58806701,59331660,59921951,60558291,61140970,61827863,62414022,62902699,63411091,64023308,64675043,65369179,66052314,66694746,67233741,67753311,68396799,69066819,70564945,71269554,71904616,72435722,72960602,73596794,74330464,75070221,75790546,76401995,76935664,77484615,78134972,78830100,79496691,79962475,80475205,80913868,81409709,82074293,82835540,83560482,84093788,84720299,85253202,85807043,86547096,87330661,88211545,89014809,89776075,90365376,90984976,91690531,92438858,93194145,93961381,94600703,95130064,95645312,96253248,96946210,97602571,98261639,98829909,99275699,99772747,100329071,100927448,101541893,102132381,102647858,103029652,103476199,103934126,104456157,104923095,105458548,105830862,106229038,106545054,106972720,107408534,107850003,108278724,108652122,108946086,109229345,109580144,109975720,110379223,110791727,111162353,111476871,111765248,112154108,112599061,113046542,113489584,113878865,114182439,114488172,114798498,115239638,115692696,116139718,116550302,116918680,117217284,117631974,118099028,118575921,119065239,119519454,119879896,120228672,120701736,121241165,121794725,122356426,122855391,123278760,123695424,124209754,124843313,125494744,126136151,126720885,127190969,127649218,128217671,128900602,129612463,130246258,130775895,131328859,131818168,132422385,133106714,133946580,134694637,135359296,136050166,136666636,137446291,138263344,139080124,139935059,140723260,141408858,142102452,142956553,143846526,144746302,145650061,146471133,147193577,147876238,148720688,149626705,150524359,151403370,152200137,152874521,153556042,154363468,155204661,156074676,156907075,157692803,158334377,158956206,159694690,160454737,161180001,161898023,162526046,163074638,163614666,164237186,164908812,165188760,165814775,166392974,166869511,167324050,167856231,168424816,168979539,169479825,169961141,170352567,170731471,171195193,171680900,172170117,172589912,172988179,173310870,173632175,173998995,174418487,174867993,175289246,175661149,175964067,176272585,176644086,177042620,177435116,177841047,178188494,178488818,178786159,179158296,179595551,179999393,180421133,180783952,181093841,181425790,181809946,182202375,182641434,183084575,183459631,183786486,184158258,184612003,185075852,185557387,186060062,186459999],\"yaxis\":\"y\"},{\"customdata\":[[\"deaths\"],[\"deaths\"],[\"deaths\"],[\"deaths\"],[\"deaths\"],[\"deaths\"],[\"deaths\"],[\"deaths\"],[\"deaths\"],[\"deaths\"],[\"deaths\"],[\"deaths\"],[\"deaths\"],[\"deaths\"],[\"deaths\"],[\"deaths\"],[\"deaths\"],[\"deaths\"],[\"deaths\"],[\"deaths\"],[\"deaths\"],[\"deaths\"],[\"deaths\"],[\"deaths\"],[\"deaths\"],[\"deaths\"],[\"deaths\"],[\"deaths\"],[\"deaths\"],[\"deaths\"],[\"deaths\"],[\"deaths\"],[\"deaths\"],[\"deaths\"],[\"deaths\"],[\"deaths\"],[\"deaths\"],[\"deaths\"],[\"deaths\"],[\"deaths\"],[\"deaths\"],[\"deaths\"],[\"deaths\"],[\"deaths\"],[\"deaths\"],[\"deaths\"],[\"deaths\"],[\"deaths\"],[\"deaths\"],[\"deaths\"],[\"deaths\"],[\"deaths\"],[\"deaths\"],[\"deaths\"],[\"deaths\"],[\"deaths\"],[\"deaths\"],[\"deaths\"],[\"deaths\"],[\"deaths\"],[\"deaths\"],[\"deaths\"],[\"deaths\"],[\"deaths\"],[\"deaths\"],[\"deaths\"],[\"deaths\"],[\"deaths\"],[\"deaths\"],[\"deaths\"],[\"deaths\"],[\"deaths\"],[\"deaths\"],[\"deaths\"],[\"deaths\"],[\"deaths\"],[\"deaths\"],[\"deaths\"],[\"deaths\"],[\"deaths\"],[\"deaths\"],[\"deaths\"],[\"deaths\"],[\"deaths\"],[\"deaths\"],[\"deaths\"],[\"deaths\"],[\"deaths\"],[\"deaths\"],[\"deaths\"],[\"deaths\"],[\"deaths\"],[\"deaths\"],[\"deaths\"],[\"deaths\"],[\"deaths\"],[\"deaths\"],[\"deaths\"],[\"deaths\"],[\"deaths\"],[\"deaths\"],[\"deaths\"],[\"deaths\"],[\"deaths\"],[\"deaths\"],[\"deaths\"],[\"deaths\"],[\"deaths\"],[\"deaths\"],[\"deaths\"],[\"deaths\"],[\"deaths\"],[\"deaths\"],[\"deaths\"],[\"deaths\"],[\"deaths\"],[\"deaths\"],[\"deaths\"],[\"deaths\"],[\"deaths\"],[\"deaths\"],[\"deaths\"],[\"deaths\"],[\"deaths\"],[\"deaths\"],[\"deaths\"],[\"deaths\"],[\"deaths\"],[\"deaths\"],[\"deaths\"],[\"deaths\"],[\"deaths\"],[\"deaths\"],[\"deaths\"],[\"deaths\"],[\"deaths\"],[\"deaths\"],[\"deaths\"],[\"deaths\"],[\"deaths\"],[\"deaths\"],[\"deaths\"],[\"deaths\"],[\"deaths\"],[\"deaths\"],[\"deaths\"],[\"deaths\"],[\"deaths\"],[\"deaths\"],[\"deaths\"],[\"deaths\"],[\"deaths\"],[\"deaths\"],[\"deaths\"],[\"deaths\"],[\"deaths\"],[\"deaths\"],[\"deaths\"],[\"deaths\"],[\"deaths\"],[\"deaths\"],[\"deaths\"],[\"deaths\"],[\"deaths\"],[\"deaths\"],[\"deaths\"],[\"deaths\"],[\"deaths\"],[\"deaths\"],[\"deaths\"],[\"deaths\"],[\"deaths\"],[\"deaths\"],[\"deaths\"],[\"deaths\"],[\"deaths\"],[\"deaths\"],[\"deaths\"],[\"deaths\"],[\"deaths\"],[\"deaths\"],[\"deaths\"],[\"deaths\"],[\"deaths\"],[\"deaths\"],[\"deaths\"],[\"deaths\"],[\"deaths\"],[\"deaths\"],[\"deaths\"],[\"deaths\"],[\"deaths\"],[\"deaths\"],[\"deaths\"],[\"deaths\"],[\"deaths\"],[\"deaths\"],[\"deaths\"],[\"deaths\"],[\"deaths\"],[\"deaths\"],[\"deaths\"],[\"deaths\"],[\"deaths\"],[\"deaths\"],[\"deaths\"],[\"deaths\"],[\"deaths\"],[\"deaths\"],[\"deaths\"],[\"deaths\"],[\"deaths\"],[\"deaths\"],[\"deaths\"],[\"deaths\"],[\"deaths\"],[\"deaths\"],[\"deaths\"],[\"deaths\"],[\"deaths\"],[\"deaths\"],[\"deaths\"],[\"deaths\"],[\"deaths\"],[\"deaths\"],[\"deaths\"],[\"deaths\"],[\"deaths\"],[\"deaths\"],[\"deaths\"],[\"deaths\"],[\"deaths\"],[\"deaths\"],[\"deaths\"],[\"deaths\"],[\"deaths\"],[\"deaths\"],[\"deaths\"],[\"deaths\"],[\"deaths\"],[\"deaths\"],[\"deaths\"],[\"deaths\"],[\"deaths\"],[\"deaths\"],[\"deaths\"],[\"deaths\"],[\"deaths\"],[\"deaths\"],[\"deaths\"],[\"deaths\"],[\"deaths\"],[\"deaths\"],[\"deaths\"],[\"deaths\"],[\"deaths\"],[\"deaths\"],[\"deaths\"],[\"deaths\"],[\"deaths\"],[\"deaths\"],[\"deaths\"],[\"deaths\"],[\"deaths\"],[\"deaths\"],[\"deaths\"],[\"deaths\"],[\"deaths\"],[\"deaths\"],[\"deaths\"],[\"deaths\"],[\"deaths\"],[\"deaths\"],[\"deaths\"],[\"deaths\"],[\"deaths\"],[\"deaths\"],[\"deaths\"],[\"deaths\"],[\"deaths\"],[\"deaths\"],[\"deaths\"],[\"deaths\"],[\"deaths\"],[\"deaths\"],[\"deaths\"],[\"deaths\"],[\"deaths\"],[\"deaths\"],[\"deaths\"],[\"deaths\"],[\"deaths\"],[\"deaths\"],[\"deaths\"],[\"deaths\"],[\"deaths\"],[\"deaths\"],[\"deaths\"],[\"deaths\"],[\"deaths\"],[\"deaths\"],[\"deaths\"],[\"deaths\"],[\"deaths\"],[\"deaths\"],[\"deaths\"],[\"deaths\"],[\"deaths\"],[\"deaths\"],[\"deaths\"],[\"deaths\"],[\"deaths\"],[\"deaths\"],[\"deaths\"],[\"deaths\"],[\"deaths\"],[\"deaths\"],[\"deaths\"],[\"deaths\"],[\"deaths\"],[\"deaths\"],[\"deaths\"],[\"deaths\"],[\"deaths\"],[\"deaths\"],[\"deaths\"],[\"deaths\"],[\"deaths\"],[\"deaths\"],[\"deaths\"],[\"deaths\"],[\"deaths\"],[\"deaths\"],[\"deaths\"],[\"deaths\"],[\"deaths\"],[\"deaths\"],[\"deaths\"],[\"deaths\"],[\"deaths\"],[\"deaths\"],[\"deaths\"],[\"deaths\"],[\"deaths\"],[\"deaths\"],[\"deaths\"],[\"deaths\"],[\"deaths\"],[\"deaths\"],[\"deaths\"],[\"deaths\"],[\"deaths\"],[\"deaths\"],[\"deaths\"],[\"deaths\"],[\"deaths\"],[\"deaths\"],[\"deaths\"],[\"deaths\"],[\"deaths\"],[\"deaths\"],[\"deaths\"],[\"deaths\"],[\"deaths\"],[\"deaths\"],[\"deaths\"],[\"deaths\"],[\"deaths\"],[\"deaths\"],[\"deaths\"],[\"deaths\"],[\"deaths\"],[\"deaths\"],[\"deaths\"],[\"deaths\"],[\"deaths\"],[\"deaths\"],[\"deaths\"],[\"deaths\"],[\"deaths\"],[\"deaths\"],[\"deaths\"],[\"deaths\"],[\"deaths\"],[\"deaths\"],[\"deaths\"],[\"deaths\"],[\"deaths\"],[\"deaths\"],[\"deaths\"],[\"deaths\"],[\"deaths\"],[\"deaths\"],[\"deaths\"],[\"deaths\"],[\"deaths\"],[\"deaths\"],[\"deaths\"],[\"deaths\"],[\"deaths\"],[\"deaths\"],[\"deaths\"],[\"deaths\"],[\"deaths\"],[\"deaths\"],[\"deaths\"],[\"deaths\"],[\"deaths\"],[\"deaths\"],[\"deaths\"],[\"deaths\"],[\"deaths\"],[\"deaths\"],[\"deaths\"],[\"deaths\"],[\"deaths\"],[\"deaths\"],[\"deaths\"],[\"deaths\"],[\"deaths\"],[\"deaths\"],[\"deaths\"],[\"deaths\"],[\"deaths\"],[\"deaths\"],[\"deaths\"],[\"deaths\"],[\"deaths\"],[\"deaths\"],[\"deaths\"],[\"deaths\"],[\"deaths\"],[\"deaths\"],[\"deaths\"],[\"deaths\"],[\"deaths\"],[\"deaths\"],[\"deaths\"],[\"deaths\"],[\"deaths\"],[\"deaths\"],[\"deaths\"],[\"deaths\"],[\"deaths\"],[\"deaths\"],[\"deaths\"],[\"deaths\"],[\"deaths\"],[\"deaths\"],[\"deaths\"],[\"deaths\"],[\"deaths\"],[\"deaths\"],[\"deaths\"],[\"deaths\"],[\"deaths\"],[\"deaths\"],[\"deaths\"],[\"deaths\"],[\"deaths\"],[\"deaths\"],[\"deaths\"],[\"deaths\"],[\"deaths\"],[\"deaths\"],[\"deaths\"],[\"deaths\"],[\"deaths\"],[\"deaths\"],[\"deaths\"],[\"deaths\"],[\"deaths\"],[\"deaths\"],[\"deaths\"],[\"deaths\"],[\"deaths\"],[\"deaths\"],[\"deaths\"],[\"deaths\"],[\"deaths\"],[\"deaths\"],[\"deaths\"],[\"deaths\"],[\"deaths\"],[\"deaths\"],[\"deaths\"],[\"deaths\"],[\"deaths\"],[\"deaths\"],[\"deaths\"],[\"deaths\"],[\"deaths\"],[\"deaths\"],[\"deaths\"],[\"deaths\"],[\"deaths\"],[\"deaths\"],[\"deaths\"],[\"deaths\"],[\"deaths\"],[\"deaths\"],[\"deaths\"],[\"deaths\"],[\"deaths\"],[\"deaths\"],[\"deaths\"],[\"deaths\"],[\"deaths\"],[\"deaths\"],[\"deaths\"],[\"deaths\"],[\"deaths\"],[\"deaths\"],[\"deaths\"],[\"deaths\"],[\"deaths\"],[\"deaths\"],[\"deaths\"],[\"deaths\"],[\"deaths\"],[\"deaths\"],[\"deaths\"],[\"deaths\"],[\"deaths\"],[\"deaths\"],[\"deaths\"],[\"deaths\"],[\"deaths\"],[\"deaths\"],[\"deaths\"],[\"deaths\"],[\"deaths\"],[\"deaths\"],[\"deaths\"],[\"deaths\"],[\"deaths\"]],\"hovertemplate\":\"Cases=%{y:,}<extra></extra>\",\"legendgroup\":\"deaths\",\"line\":{\"color\":\"#95a5a6\",\"dash\":\"solid\"},\"mode\":\"lines\",\"name\":\"deaths\",\"showlegend\":true,\"type\":\"scattergl\",\"x\":[\"1/22/20\",\"1/23/20\",\"1/24/20\",\"1/25/20\",\"1/26/20\",\"1/27/20\",\"1/28/20\",\"1/29/20\",\"1/30/20\",\"1/31/20\",\"2/1/20\",\"2/2/20\",\"2/3/20\",\"2/4/20\",\"2/5/20\",\"2/6/20\",\"2/7/20\",\"2/8/20\",\"2/9/20\",\"2/10/20\",\"2/11/20\",\"2/12/20\",\"2/13/20\",\"2/14/20\",\"2/15/20\",\"2/16/20\",\"2/17/20\",\"2/18/20\",\"2/19/20\",\"2/20/20\",\"2/21/20\",\"2/22/20\",\"2/23/20\",\"2/24/20\",\"2/25/20\",\"2/26/20\",\"2/27/20\",\"2/28/20\",\"2/29/20\",\"3/1/20\",\"3/2/20\",\"3/3/20\",\"3/4/20\",\"3/5/20\",\"3/6/20\",\"3/7/20\",\"3/8/20\",\"3/9/20\",\"3/10/20\",\"3/11/20\",\"3/12/20\",\"3/13/20\",\"3/14/20\",\"3/15/20\",\"3/16/20\",\"3/17/20\",\"3/18/20\",\"3/19/20\",\"3/20/20\",\"3/21/20\",\"3/22/20\",\"3/23/20\",\"3/24/20\",\"3/25/20\",\"3/26/20\",\"3/27/20\",\"3/28/20\",\"3/29/20\",\"3/30/20\",\"3/31/20\",\"4/1/20\",\"4/2/20\",\"4/3/20\",\"4/4/20\",\"4/5/20\",\"4/6/20\",\"4/7/20\",\"4/8/20\",\"4/9/20\",\"4/10/20\",\"4/11/20\",\"4/12/20\",\"4/13/20\",\"4/14/20\",\"4/15/20\",\"4/16/20\",\"4/17/20\",\"4/18/20\",\"4/19/20\",\"4/20/20\",\"4/21/20\",\"4/22/20\",\"4/23/20\",\"4/24/20\",\"4/25/20\",\"4/26/20\",\"4/27/20\",\"4/28/20\",\"4/29/20\",\"4/30/20\",\"5/1/20\",\"5/2/20\",\"5/3/20\",\"5/4/20\",\"5/5/20\",\"5/6/20\",\"5/7/20\",\"5/8/20\",\"5/9/20\",\"5/10/20\",\"5/11/20\",\"5/12/20\",\"5/13/20\",\"5/14/20\",\"5/15/20\",\"5/16/20\",\"5/17/20\",\"5/18/20\",\"5/19/20\",\"5/20/20\",\"5/21/20\",\"5/22/20\",\"5/23/20\",\"5/24/20\",\"5/25/20\",\"5/26/20\",\"5/27/20\",\"5/28/20\",\"5/29/20\",\"5/30/20\",\"5/31/20\",\"6/1/20\",\"6/2/20\",\"6/3/20\",\"6/4/20\",\"6/5/20\",\"6/6/20\",\"6/7/20\",\"6/8/20\",\"6/9/20\",\"6/10/20\",\"6/11/20\",\"6/12/20\",\"6/13/20\",\"6/14/20\",\"6/15/20\",\"6/16/20\",\"6/17/20\",\"6/18/20\",\"6/19/20\",\"6/20/20\",\"6/21/20\",\"6/22/20\",\"6/23/20\",\"6/24/20\",\"6/25/20\",\"6/26/20\",\"6/27/20\",\"6/28/20\",\"6/29/20\",\"6/30/20\",\"7/1/20\",\"7/2/20\",\"7/3/20\",\"7/4/20\",\"7/5/20\",\"7/6/20\",\"7/7/20\",\"7/8/20\",\"7/9/20\",\"7/10/20\",\"7/11/20\",\"7/12/20\",\"7/13/20\",\"7/14/20\",\"7/15/20\",\"7/16/20\",\"7/17/20\",\"7/18/20\",\"7/19/20\",\"7/20/20\",\"7/21/20\",\"7/22/20\",\"7/23/20\",\"7/24/20\",\"7/25/20\",\"7/26/20\",\"7/27/20\",\"7/28/20\",\"7/29/20\",\"7/30/20\",\"7/31/20\",\"8/1/20\",\"8/2/20\",\"8/3/20\",\"8/4/20\",\"8/5/20\",\"8/6/20\",\"8/7/20\",\"8/8/20\",\"8/9/20\",\"8/10/20\",\"8/11/20\",\"8/12/20\",\"8/13/20\",\"8/14/20\",\"8/15/20\",\"8/16/20\",\"8/17/20\",\"8/18/20\",\"8/19/20\",\"8/20/20\",\"8/21/20\",\"8/22/20\",\"8/23/20\",\"8/24/20\",\"8/25/20\",\"8/26/20\",\"8/27/20\",\"8/28/20\",\"8/29/20\",\"8/30/20\",\"8/31/20\",\"9/1/20\",\"9/2/20\",\"9/3/20\",\"9/4/20\",\"9/5/20\",\"9/6/20\",\"9/7/20\",\"9/8/20\",\"9/9/20\",\"9/10/20\",\"9/11/20\",\"9/12/20\",\"9/13/20\",\"9/14/20\",\"9/15/20\",\"9/16/20\",\"9/17/20\",\"9/18/20\",\"9/19/20\",\"9/20/20\",\"9/21/20\",\"9/22/20\",\"9/23/20\",\"9/24/20\",\"9/25/20\",\"9/26/20\",\"9/27/20\",\"9/28/20\",\"9/29/20\",\"9/30/20\",\"10/1/20\",\"10/2/20\",\"10/3/20\",\"10/4/20\",\"10/5/20\",\"10/6/20\",\"10/7/20\",\"10/8/20\",\"10/9/20\",\"10/10/20\",\"10/11/20\",\"10/12/20\",\"10/13/20\",\"10/14/20\",\"10/15/20\",\"10/16/20\",\"10/17/20\",\"10/18/20\",\"10/19/20\",\"10/20/20\",\"10/21/20\",\"10/22/20\",\"10/23/20\",\"10/24/20\",\"10/25/20\",\"10/26/20\",\"10/27/20\",\"10/28/20\",\"10/29/20\",\"10/30/20\",\"10/31/20\",\"11/1/20\",\"11/2/20\",\"11/3/20\",\"11/4/20\",\"11/5/20\",\"11/6/20\",\"11/7/20\",\"11/8/20\",\"11/9/20\",\"11/10/20\",\"11/11/20\",\"11/12/20\",\"11/13/20\",\"11/14/20\",\"11/15/20\",\"11/16/20\",\"11/17/20\",\"11/18/20\",\"11/19/20\",\"11/20/20\",\"11/21/20\",\"11/22/20\",\"11/23/20\",\"11/24/20\",\"11/25/20\",\"11/26/20\",\"11/27/20\",\"11/28/20\",\"11/29/20\",\"11/30/20\",\"12/1/20\",\"12/2/20\",\"12/3/20\",\"12/4/20\",\"12/5/20\",\"12/6/20\",\"12/7/20\",\"12/8/20\",\"12/9/20\",\"12/10/20\",\"12/11/20\",\"12/12/20\",\"12/13/20\",\"12/14/20\",\"12/15/20\",\"12/16/20\",\"12/17/20\",\"12/18/20\",\"12/19/20\",\"12/20/20\",\"12/21/20\",\"12/22/20\",\"12/23/20\",\"12/24/20\",\"12/25/20\",\"12/26/20\",\"12/27/20\",\"12/28/20\",\"12/29/20\",\"12/30/20\",\"12/31/20\",\"1/1/21\",\"1/2/21\",\"1/3/21\",\"1/4/21\",\"1/5/21\",\"1/6/21\",\"1/7/21\",\"1/8/21\",\"1/9/21\",\"1/10/21\",\"1/11/21\",\"1/12/21\",\"1/13/21\",\"1/14/21\",\"1/15/21\",\"1/16/21\",\"1/17/21\",\"1/18/21\",\"1/19/21\",\"1/20/21\",\"1/21/21\",\"1/22/21\",\"1/23/21\",\"1/24/21\",\"1/25/21\",\"1/26/21\",\"1/27/21\",\"1/28/21\",\"1/29/21\",\"1/30/21\",\"1/31/21\",\"2/1/21\",\"2/2/21\",\"2/3/21\",\"2/4/21\",\"2/5/21\",\"2/6/21\",\"2/7/21\",\"2/8/21\",\"2/9/21\",\"2/10/21\",\"2/11/21\",\"2/12/21\",\"2/13/21\",\"2/14/21\",\"2/15/21\",\"2/16/21\",\"2/17/21\",\"2/18/21\",\"2/19/21\",\"2/20/21\",\"2/21/21\",\"2/22/21\",\"2/23/21\",\"2/24/21\",\"2/25/21\",\"2/26/21\",\"2/27/21\",\"2/28/21\",\"3/1/21\",\"3/2/21\",\"3/3/21\",\"3/4/21\",\"3/5/21\",\"3/6/21\",\"3/7/21\",\"3/8/21\",\"3/9/21\",\"3/10/21\",\"3/11/21\",\"3/12/21\",\"3/13/21\",\"3/14/21\",\"3/15/21\",\"3/16/21\",\"3/17/21\",\"3/18/21\",\"3/19/21\",\"3/20/21\",\"3/21/21\",\"3/22/21\",\"3/23/21\",\"3/24/21\",\"3/25/21\",\"3/26/21\",\"3/27/21\",\"3/28/21\",\"3/29/21\",\"3/30/21\",\"3/31/21\",\"4/1/21\",\"4/2/21\",\"4/3/21\",\"4/4/21\",\"4/5/21\",\"4/6/21\",\"4/7/21\",\"4/8/21\",\"4/9/21\",\"4/10/21\",\"4/11/21\",\"4/12/21\",\"4/13/21\",\"4/14/21\",\"4/15/21\",\"4/16/21\",\"4/17/21\",\"4/18/21\",\"4/19/21\",\"4/20/21\",\"4/21/21\",\"4/22/21\",\"4/23/21\",\"4/24/21\",\"4/25/21\",\"4/26/21\",\"4/27/21\",\"4/28/21\",\"4/29/21\",\"4/30/21\",\"5/1/21\",\"5/2/21\",\"5/3/21\",\"5/4/21\",\"5/5/21\",\"5/6/21\",\"5/7/21\",\"5/8/21\",\"5/9/21\",\"5/10/21\",\"5/11/21\",\"5/12/21\",\"5/13/21\",\"5/14/21\",\"5/15/21\",\"5/16/21\",\"5/17/21\",\"5/18/21\",\"5/19/21\",\"5/20/21\",\"5/21/21\",\"5/22/21\",\"5/23/21\",\"5/24/21\",\"5/25/21\",\"5/26/21\",\"5/27/21\",\"5/28/21\",\"5/29/21\",\"5/30/21\",\"5/31/21\",\"6/1/21\",\"6/2/21\",\"6/3/21\",\"6/4/21\",\"6/5/21\",\"6/6/21\",\"6/7/21\",\"6/8/21\",\"6/9/21\",\"6/10/21\",\"6/11/21\",\"6/12/21\",\"6/13/21\",\"6/14/21\",\"6/15/21\",\"6/16/21\",\"6/17/21\",\"6/18/21\",\"6/19/21\",\"6/20/21\",\"6/21/21\",\"6/22/21\",\"6/23/21\",\"6/24/21\",\"6/25/21\",\"6/26/21\",\"6/27/21\",\"6/28/21\",\"6/29/21\",\"6/30/21\",\"7/1/21\",\"7/2/21\",\"7/3/21\",\"7/4/21\",\"7/5/21\",\"7/6/21\",\"7/7/21\",\"7/8/21\",\"7/9/21\",\"7/10/21\"],\"xaxis\":\"x\",\"y\":[17,18,26,42,56,82,131,133,171,213,259,362,426,492,564,634,719,806,906,1013,1113,1118,1371,1523,1666,1770,1868,2008,2123,2248,2252,2459,2470,2630,2710,2771,2814,2873,2942,2996,3085,3160,3255,3349,3461,3565,3805,3995,4269,4613,4920,5417,5837,6480,7158,7976,8889,10005,11493,13217,14913,16864,19156,21979,25017,28515,32287,35781,39872,44636,50651,56546,62726,68679,73919,79893,88196,95040,102915,110346,116606,122546,128597,135679,144263,151642,160170,166409,171756,177786,185227,192262,199295,206249,212104,216352,221361,228179,235152,241209,246691,252519,256366,260970,267096,273962,279654,285568,290165,294176,298112,304017,309502,315074,320716,325272,328840,332994,338134,343328,348407,354088,358399,361876,363492,368156,373557,378568,383728,388112,391271,394786,399989,405829,411268,416328,420543,423731,427896,433110,438588,443654,448461,452922,456565,460402,467542,473098,478409,484795,489314,493913,497650,503223,508764,513802,518886,523680,527194,531221,536428,541738,547161,552455,557248,561077,565315,571655,577284,583073,588704,593916,598291,602606,608610,614465,620648,627691,634264,638945,642973,649372,656727,663350,669807,675957,680284,685516,692238,699247,705891,712472,718553,722958,728024,735018,742507,749396,756093,762161,766961,772689,779302,786248,793079,799743,805748,810375,814899,822116,829235,835647,841382,847190,851451,856274,862908,869467,875682,881544,887168,891490,895871,902540,908896,914973,920862,926014,930087,939682,944793,951069,957089,963114,968171,972113,976651,983260,989209,994807,1000626,1006014,1009951,1014291,1020492,1026142,1032717,1038663,1044228,1048040,1052059,1058128,1064691,1073494,1078536,1083986,1087988,1094987,1100838,1106759,1113125,1119340,1124257,1128361,1132433,1137810,1144028,1150112,1156436,1162113,1165725,1170629,1177264,1183977,1189910,1196990,1202875,1207074,1212684,1220130,1227339,1234486,1242141,1248810,1253859,1260076,1269527,1279673,1287764,1297506,1305169,1311098,1318364,1328401,1338905,1348729,1358374,1367539,1373999,1381972,1393092,1404559,1415685,1427526,1436503,1443807,1452372,1465090,1477277,1488257,1499650,1508929,1516142,1525109,1537864,1550557,1563118,1575716,1585999,1593498,1602271,1614662,1627340,1640037,1653155,1663788,1671375,1680523,1694491,1708267,1721721,1734642,1745548,1753435,1763120,1777481,1791369,1803119,1811767,1819242,1826792,1836582,1851822,1867219,1880405,1890211,1898837,1906289,1916560,1932078,1947184,1962319,1977559,1990555,1999140,2009487,2026772,2043623,2059292,2074439,2088030,2096930,2106701,2123651,2141711,2158868,2175076,2188840,2197936,2209174,2226802,2243971,2261131,2276642,2290188,2298746,2309438,2324726,2340817,2353740,2370913,2381343,2389536,2398526,2414544,2428465,2442189,2455343,2465672,2472274,2479682,2491284,2503168,2514997,2526721,2535583,2541955,2549383,2561097,2573529,2584165,2594882,2603517,2609637,2617509,2627871,2639618,2649891,2660589,2668689,2674597,2681683,2692328,2702388,2712605,2722708,2731166,2737135,2744583,2755145,2765449,2776473,2787546,2796248,2802158,2810197,2821701,2832127,2843805,2856698,2866834,2874074,2882533,2894627,2907470,2919881,2930562,2939705,2947088,2954802,2967421,2982759,2997594,3011487,3024347,3033728,3043609,3057440,3071539,3085212,3098470,3111025,3120085,3130974,3145288,3160247,3174142,3189327,3202618,3213046,3224693,3239656,3255707,3271470,3285484,3298751,3308778,3320579,3334642,3349527,3364177,3378576,3391878,3402088,3413212,3427456,3441312,3455000,3468067,3480276,3490333,3501537,3515739,3529313,3542369,3555380,3566920,3576679,3585735,3598925,3611662,3624721,3636683,3647437,3655562,3664280,3679626,3691444,3701371,3712340,3721506,3728581,3736661,3747042,3757506,3773513,3785446,3795213,3804361,3812247,3822808,3833150,3842416,3851627,3859699,3866260,3873337,3882272,3891796,3900407,3909620,3917084,3923031,3929677,3937789,3946945,3955628,3963902,3970744,3977133,3984595,3993160,4001746,4010591,4018993,4024998],\"yaxis\":\"y\"},{\"customdata\":[[\"recovered\"],[\"recovered\"],[\"recovered\"],[\"recovered\"],[\"recovered\"],[\"recovered\"],[\"recovered\"],[\"recovered\"],[\"recovered\"],[\"recovered\"],[\"recovered\"],[\"recovered\"],[\"recovered\"],[\"recovered\"],[\"recovered\"],[\"recovered\"],[\"recovered\"],[\"recovered\"],[\"recovered\"],[\"recovered\"],[\"recovered\"],[\"recovered\"],[\"recovered\"],[\"recovered\"],[\"recovered\"],[\"recovered\"],[\"recovered\"],[\"recovered\"],[\"recovered\"],[\"recovered\"],[\"recovered\"],[\"recovered\"],[\"recovered\"],[\"recovered\"],[\"recovered\"],[\"recovered\"],[\"recovered\"],[\"recovered\"],[\"recovered\"],[\"recovered\"],[\"recovered\"],[\"recovered\"],[\"recovered\"],[\"recovered\"],[\"recovered\"],[\"recovered\"],[\"recovered\"],[\"recovered\"],[\"recovered\"],[\"recovered\"],[\"recovered\"],[\"recovered\"],[\"recovered\"],[\"recovered\"],[\"recovered\"],[\"recovered\"],[\"recovered\"],[\"recovered\"],[\"recovered\"],[\"recovered\"],[\"recovered\"],[\"recovered\"],[\"recovered\"],[\"recovered\"],[\"recovered\"],[\"recovered\"],[\"recovered\"],[\"recovered\"],[\"recovered\"],[\"recovered\"],[\"recovered\"],[\"recovered\"],[\"recovered\"],[\"recovered\"],[\"recovered\"],[\"recovered\"],[\"recovered\"],[\"recovered\"],[\"recovered\"],[\"recovered\"],[\"recovered\"],[\"recovered\"],[\"recovered\"],[\"recovered\"],[\"recovered\"],[\"recovered\"],[\"recovered\"],[\"recovered\"],[\"recovered\"],[\"recovered\"],[\"recovered\"],[\"recovered\"],[\"recovered\"],[\"recovered\"],[\"recovered\"],[\"recovered\"],[\"recovered\"],[\"recovered\"],[\"recovered\"],[\"recovered\"],[\"recovered\"],[\"recovered\"],[\"recovered\"],[\"recovered\"],[\"recovered\"],[\"recovered\"],[\"recovered\"],[\"recovered\"],[\"recovered\"],[\"recovered\"],[\"recovered\"],[\"recovered\"],[\"recovered\"],[\"recovered\"],[\"recovered\"],[\"recovered\"],[\"recovered\"],[\"recovered\"],[\"recovered\"],[\"recovered\"],[\"recovered\"],[\"recovered\"],[\"recovered\"],[\"recovered\"],[\"recovered\"],[\"recovered\"],[\"recovered\"],[\"recovered\"],[\"recovered\"],[\"recovered\"],[\"recovered\"],[\"recovered\"],[\"recovered\"],[\"recovered\"],[\"recovered\"],[\"recovered\"],[\"recovered\"],[\"recovered\"],[\"recovered\"],[\"recovered\"],[\"recovered\"],[\"recovered\"],[\"recovered\"],[\"recovered\"],[\"recovered\"],[\"recovered\"],[\"recovered\"],[\"recovered\"],[\"recovered\"],[\"recovered\"],[\"recovered\"],[\"recovered\"],[\"recovered\"],[\"recovered\"],[\"recovered\"],[\"recovered\"],[\"recovered\"],[\"recovered\"],[\"recovered\"],[\"recovered\"],[\"recovered\"],[\"recovered\"],[\"recovered\"],[\"recovered\"],[\"recovered\"],[\"recovered\"],[\"recovered\"],[\"recovered\"],[\"recovered\"],[\"recovered\"],[\"recovered\"],[\"recovered\"],[\"recovered\"],[\"recovered\"],[\"recovered\"],[\"recovered\"],[\"recovered\"],[\"recovered\"],[\"recovered\"],[\"recovered\"],[\"recovered\"],[\"recovered\"],[\"recovered\"],[\"recovered\"],[\"recovered\"],[\"recovered\"],[\"recovered\"],[\"recovered\"],[\"recovered\"],[\"recovered\"],[\"recovered\"],[\"recovered\"],[\"recovered\"],[\"recovered\"],[\"recovered\"],[\"recovered\"],[\"recovered\"],[\"recovered\"],[\"recovered\"],[\"recovered\"],[\"recovered\"],[\"recovered\"],[\"recovered\"],[\"recovered\"],[\"recovered\"],[\"recovered\"],[\"recovered\"],[\"recovered\"],[\"recovered\"],[\"recovered\"],[\"recovered\"],[\"recovered\"],[\"recovered\"],[\"recovered\"],[\"recovered\"],[\"recovered\"],[\"recovered\"],[\"recovered\"],[\"recovered\"],[\"recovered\"],[\"recovered\"],[\"recovered\"],[\"recovered\"],[\"recovered\"],[\"recovered\"],[\"recovered\"],[\"recovered\"],[\"recovered\"],[\"recovered\"],[\"recovered\"],[\"recovered\"],[\"recovered\"],[\"recovered\"],[\"recovered\"],[\"recovered\"],[\"recovered\"],[\"recovered\"],[\"recovered\"],[\"recovered\"],[\"recovered\"],[\"recovered\"],[\"recovered\"],[\"recovered\"],[\"recovered\"],[\"recovered\"],[\"recovered\"],[\"recovered\"],[\"recovered\"],[\"recovered\"],[\"recovered\"],[\"recovered\"],[\"recovered\"],[\"recovered\"],[\"recovered\"],[\"recovered\"],[\"recovered\"],[\"recovered\"],[\"recovered\"],[\"recovered\"],[\"recovered\"],[\"recovered\"],[\"recovered\"],[\"recovered\"],[\"recovered\"],[\"recovered\"],[\"recovered\"],[\"recovered\"],[\"recovered\"],[\"recovered\"],[\"recovered\"],[\"recovered\"],[\"recovered\"],[\"recovered\"],[\"recovered\"],[\"recovered\"],[\"recovered\"],[\"recovered\"],[\"recovered\"],[\"recovered\"],[\"recovered\"],[\"recovered\"],[\"recovered\"],[\"recovered\"],[\"recovered\"],[\"recovered\"],[\"recovered\"],[\"recovered\"],[\"recovered\"],[\"recovered\"],[\"recovered\"],[\"recovered\"],[\"recovered\"],[\"recovered\"],[\"recovered\"],[\"recovered\"],[\"recovered\"],[\"recovered\"],[\"recovered\"],[\"recovered\"],[\"recovered\"],[\"recovered\"],[\"recovered\"],[\"recovered\"],[\"recovered\"],[\"recovered\"],[\"recovered\"],[\"recovered\"],[\"recovered\"],[\"recovered\"],[\"recovered\"],[\"recovered\"],[\"recovered\"],[\"recovered\"],[\"recovered\"],[\"recovered\"],[\"recovered\"],[\"recovered\"],[\"recovered\"],[\"recovered\"],[\"recovered\"],[\"recovered\"],[\"recovered\"],[\"recovered\"],[\"recovered\"],[\"recovered\"],[\"recovered\"],[\"recovered\"],[\"recovered\"],[\"recovered\"],[\"recovered\"],[\"recovered\"],[\"recovered\"],[\"recovered\"],[\"recovered\"],[\"recovered\"],[\"recovered\"],[\"recovered\"],[\"recovered\"],[\"recovered\"],[\"recovered\"],[\"recovered\"],[\"recovered\"],[\"recovered\"],[\"recovered\"],[\"recovered\"],[\"recovered\"],[\"recovered\"],[\"recovered\"],[\"recovered\"],[\"recovered\"],[\"recovered\"],[\"recovered\"],[\"recovered\"],[\"recovered\"],[\"recovered\"],[\"recovered\"],[\"recovered\"],[\"recovered\"],[\"recovered\"],[\"recovered\"],[\"recovered\"],[\"recovered\"],[\"recovered\"],[\"recovered\"],[\"recovered\"],[\"recovered\"],[\"recovered\"],[\"recovered\"],[\"recovered\"],[\"recovered\"],[\"recovered\"],[\"recovered\"],[\"recovered\"],[\"recovered\"],[\"recovered\"],[\"recovered\"],[\"recovered\"],[\"recovered\"],[\"recovered\"],[\"recovered\"],[\"recovered\"],[\"recovered\"],[\"recovered\"],[\"recovered\"],[\"recovered\"],[\"recovered\"],[\"recovered\"],[\"recovered\"],[\"recovered\"],[\"recovered\"],[\"recovered\"],[\"recovered\"],[\"recovered\"],[\"recovered\"],[\"recovered\"],[\"recovered\"],[\"recovered\"],[\"recovered\"],[\"recovered\"],[\"recovered\"],[\"recovered\"],[\"recovered\"],[\"recovered\"],[\"recovered\"],[\"recovered\"],[\"recovered\"],[\"recovered\"],[\"recovered\"],[\"recovered\"],[\"recovered\"],[\"recovered\"],[\"recovered\"],[\"recovered\"],[\"recovered\"],[\"recovered\"],[\"recovered\"],[\"recovered\"],[\"recovered\"],[\"recovered\"],[\"recovered\"],[\"recovered\"],[\"recovered\"],[\"recovered\"],[\"recovered\"],[\"recovered\"],[\"recovered\"],[\"recovered\"],[\"recovered\"],[\"recovered\"],[\"recovered\"],[\"recovered\"],[\"recovered\"],[\"recovered\"],[\"recovered\"],[\"recovered\"],[\"recovered\"],[\"recovered\"],[\"recovered\"],[\"recovered\"],[\"recovered\"],[\"recovered\"],[\"recovered\"],[\"recovered\"],[\"recovered\"],[\"recovered\"],[\"recovered\"],[\"recovered\"],[\"recovered\"],[\"recovered\"],[\"recovered\"],[\"recovered\"],[\"recovered\"],[\"recovered\"],[\"recovered\"],[\"recovered\"],[\"recovered\"],[\"recovered\"],[\"recovered\"],[\"recovered\"],[\"recovered\"],[\"recovered\"],[\"recovered\"],[\"recovered\"],[\"recovered\"],[\"recovered\"],[\"recovered\"],[\"recovered\"],[\"recovered\"],[\"recovered\"],[\"recovered\"],[\"recovered\"],[\"recovered\"],[\"recovered\"],[\"recovered\"],[\"recovered\"],[\"recovered\"],[\"recovered\"],[\"recovered\"],[\"recovered\"],[\"recovered\"],[\"recovered\"],[\"recovered\"],[\"recovered\"],[\"recovered\"],[\"recovered\"],[\"recovered\"],[\"recovered\"],[\"recovered\"],[\"recovered\"],[\"recovered\"],[\"recovered\"],[\"recovered\"],[\"recovered\"],[\"recovered\"],[\"recovered\"],[\"recovered\"],[\"recovered\"],[\"recovered\"],[\"recovered\"],[\"recovered\"],[\"recovered\"],[\"recovered\"],[\"recovered\"],[\"recovered\"],[\"recovered\"],[\"recovered\"],[\"recovered\"],[\"recovered\"],[\"recovered\"],[\"recovered\"],[\"recovered\"],[\"recovered\"],[\"recovered\"],[\"recovered\"],[\"recovered\"],[\"recovered\"],[\"recovered\"],[\"recovered\"],[\"recovered\"],[\"recovered\"],[\"recovered\"],[\"recovered\"],[\"recovered\"],[\"recovered\"],[\"recovered\"],[\"recovered\"],[\"recovered\"],[\"recovered\"],[\"recovered\"],[\"recovered\"],[\"recovered\"],[\"recovered\"],[\"recovered\"],[\"recovered\"],[\"recovered\"],[\"recovered\"]],\"hovertemplate\":\"Cases=%{y:,}<extra></extra>\",\"legendgroup\":\"recovered\",\"line\":{\"color\":\"#16a085\",\"dash\":\"solid\"},\"mode\":\"lines\",\"name\":\"recovered\",\"showlegend\":true,\"type\":\"scattergl\",\"x\":[\"1/22/20\",\"1/23/20\",\"1/24/20\",\"1/25/20\",\"1/26/20\",\"1/27/20\",\"1/28/20\",\"1/29/20\",\"1/30/20\",\"1/31/20\",\"2/1/20\",\"2/2/20\",\"2/3/20\",\"2/4/20\",\"2/5/20\",\"2/6/20\",\"2/7/20\",\"2/8/20\",\"2/9/20\",\"2/10/20\",\"2/11/20\",\"2/12/20\",\"2/13/20\",\"2/14/20\",\"2/15/20\",\"2/16/20\",\"2/17/20\",\"2/18/20\",\"2/19/20\",\"2/20/20\",\"2/21/20\",\"2/22/20\",\"2/23/20\",\"2/24/20\",\"2/25/20\",\"2/26/20\",\"2/27/20\",\"2/28/20\",\"2/29/20\",\"3/1/20\",\"3/2/20\",\"3/3/20\",\"3/4/20\",\"3/5/20\",\"3/6/20\",\"3/7/20\",\"3/8/20\",\"3/9/20\",\"3/10/20\",\"3/11/20\",\"3/12/20\",\"3/13/20\",\"3/14/20\",\"3/15/20\",\"3/16/20\",\"3/17/20\",\"3/18/20\",\"3/19/20\",\"3/20/20\",\"3/21/20\",\"3/22/20\",\"3/23/20\",\"3/24/20\",\"3/25/20\",\"3/26/20\",\"3/27/20\",\"3/28/20\",\"3/29/20\",\"3/30/20\",\"3/31/20\",\"4/1/20\",\"4/2/20\",\"4/3/20\",\"4/4/20\",\"4/5/20\",\"4/6/20\",\"4/7/20\",\"4/8/20\",\"4/9/20\",\"4/10/20\",\"4/11/20\",\"4/12/20\",\"4/13/20\",\"4/14/20\",\"4/15/20\",\"4/16/20\",\"4/17/20\",\"4/18/20\",\"4/19/20\",\"4/20/20\",\"4/21/20\",\"4/22/20\",\"4/23/20\",\"4/24/20\",\"4/25/20\",\"4/26/20\",\"4/27/20\",\"4/28/20\",\"4/29/20\",\"4/30/20\",\"5/1/20\",\"5/2/20\",\"5/3/20\",\"5/4/20\",\"5/5/20\",\"5/6/20\",\"5/7/20\",\"5/8/20\",\"5/9/20\",\"5/10/20\",\"5/11/20\",\"5/12/20\",\"5/13/20\",\"5/14/20\",\"5/15/20\",\"5/16/20\",\"5/17/20\",\"5/18/20\",\"5/19/20\",\"5/20/20\",\"5/21/20\",\"5/22/20\",\"5/23/20\",\"5/24/20\",\"5/25/20\",\"5/26/20\",\"5/27/20\",\"5/28/20\",\"5/29/20\",\"5/30/20\",\"5/31/20\",\"6/1/20\",\"6/2/20\",\"6/3/20\",\"6/4/20\",\"6/5/20\",\"6/6/20\",\"6/7/20\",\"6/8/20\",\"6/9/20\",\"6/10/20\",\"6/11/20\",\"6/12/20\",\"6/13/20\",\"6/14/20\",\"6/15/20\",\"6/16/20\",\"6/17/20\",\"6/18/20\",\"6/19/20\",\"6/20/20\",\"6/21/20\",\"6/22/20\",\"6/23/20\",\"6/24/20\",\"6/25/20\",\"6/26/20\",\"6/27/20\",\"6/28/20\",\"6/29/20\",\"6/30/20\",\"7/1/20\",\"7/2/20\",\"7/3/20\",\"7/4/20\",\"7/5/20\",\"7/6/20\",\"7/7/20\",\"7/8/20\",\"7/9/20\",\"7/10/20\",\"7/11/20\",\"7/12/20\",\"7/13/20\",\"7/14/20\",\"7/15/20\",\"7/16/20\",\"7/17/20\",\"7/18/20\",\"7/19/20\",\"7/20/20\",\"7/21/20\",\"7/22/20\",\"7/23/20\",\"7/24/20\",\"7/25/20\",\"7/26/20\",\"7/27/20\",\"7/28/20\",\"7/29/20\",\"7/30/20\",\"7/31/20\",\"8/1/20\",\"8/2/20\",\"8/3/20\",\"8/4/20\",\"8/5/20\",\"8/6/20\",\"8/7/20\",\"8/8/20\",\"8/9/20\",\"8/10/20\",\"8/11/20\",\"8/12/20\",\"8/13/20\",\"8/14/20\",\"8/15/20\",\"8/16/20\",\"8/17/20\",\"8/18/20\",\"8/19/20\",\"8/20/20\",\"8/21/20\",\"8/22/20\",\"8/23/20\",\"8/24/20\",\"8/25/20\",\"8/26/20\",\"8/27/20\",\"8/28/20\",\"8/29/20\",\"8/30/20\",\"8/31/20\",\"9/1/20\",\"9/2/20\",\"9/3/20\",\"9/4/20\",\"9/5/20\",\"9/6/20\",\"9/7/20\",\"9/8/20\",\"9/9/20\",\"9/10/20\",\"9/11/20\",\"9/12/20\",\"9/13/20\",\"9/14/20\",\"9/15/20\",\"9/16/20\",\"9/17/20\",\"9/18/20\",\"9/19/20\",\"9/20/20\",\"9/21/20\",\"9/22/20\",\"9/23/20\",\"9/24/20\",\"9/25/20\",\"9/26/20\",\"9/27/20\",\"9/28/20\",\"9/29/20\",\"9/30/20\",\"10/1/20\",\"10/2/20\",\"10/3/20\",\"10/4/20\",\"10/5/20\",\"10/6/20\",\"10/7/20\",\"10/8/20\",\"10/9/20\",\"10/10/20\",\"10/11/20\",\"10/12/20\",\"10/13/20\",\"10/14/20\",\"10/15/20\",\"10/16/20\",\"10/17/20\",\"10/18/20\",\"10/19/20\",\"10/20/20\",\"10/21/20\",\"10/22/20\",\"10/23/20\",\"10/24/20\",\"10/25/20\",\"10/26/20\",\"10/27/20\",\"10/28/20\",\"10/29/20\",\"10/30/20\",\"10/31/20\",\"11/1/20\",\"11/2/20\",\"11/3/20\",\"11/4/20\",\"11/5/20\",\"11/6/20\",\"11/7/20\",\"11/8/20\",\"11/9/20\",\"11/10/20\",\"11/11/20\",\"11/12/20\",\"11/13/20\",\"11/14/20\",\"11/15/20\",\"11/16/20\",\"11/17/20\",\"11/18/20\",\"11/19/20\",\"11/20/20\",\"11/21/20\",\"11/22/20\",\"11/23/20\",\"11/24/20\",\"11/25/20\",\"11/26/20\",\"11/27/20\",\"11/28/20\",\"11/29/20\",\"11/30/20\",\"12/1/20\",\"12/2/20\",\"12/3/20\",\"12/4/20\",\"12/5/20\",\"12/6/20\",\"12/7/20\",\"12/8/20\",\"12/9/20\",\"12/10/20\",\"12/11/20\",\"12/12/20\",\"12/13/20\",\"12/14/20\",\"12/15/20\",\"12/16/20\",\"12/17/20\",\"12/18/20\",\"12/19/20\",\"12/20/20\",\"12/21/20\",\"12/22/20\",\"12/23/20\",\"12/24/20\",\"12/25/20\",\"12/26/20\",\"12/27/20\",\"12/28/20\",\"12/29/20\",\"12/30/20\",\"12/31/20\",\"1/1/21\",\"1/2/21\",\"1/3/21\",\"1/4/21\",\"1/5/21\",\"1/6/21\",\"1/7/21\",\"1/8/21\",\"1/9/21\",\"1/10/21\",\"1/11/21\",\"1/12/21\",\"1/13/21\",\"1/14/21\",\"1/15/21\",\"1/16/21\",\"1/17/21\",\"1/18/21\",\"1/19/21\",\"1/20/21\",\"1/21/21\",\"1/22/21\",\"1/23/21\",\"1/24/21\",\"1/25/21\",\"1/26/21\",\"1/27/21\",\"1/28/21\",\"1/29/21\",\"1/30/21\",\"1/31/21\",\"2/1/21\",\"2/2/21\",\"2/3/21\",\"2/4/21\",\"2/5/21\",\"2/6/21\",\"2/7/21\",\"2/8/21\",\"2/9/21\",\"2/10/21\",\"2/11/21\",\"2/12/21\",\"2/13/21\",\"2/14/21\",\"2/15/21\",\"2/16/21\",\"2/17/21\",\"2/18/21\",\"2/19/21\",\"2/20/21\",\"2/21/21\",\"2/22/21\",\"2/23/21\",\"2/24/21\",\"2/25/21\",\"2/26/21\",\"2/27/21\",\"2/28/21\",\"3/1/21\",\"3/2/21\",\"3/3/21\",\"3/4/21\",\"3/5/21\",\"3/6/21\",\"3/7/21\",\"3/8/21\",\"3/9/21\",\"3/10/21\",\"3/11/21\",\"3/12/21\",\"3/13/21\",\"3/14/21\",\"3/15/21\",\"3/16/21\",\"3/17/21\",\"3/18/21\",\"3/19/21\",\"3/20/21\",\"3/21/21\",\"3/22/21\",\"3/23/21\",\"3/24/21\",\"3/25/21\",\"3/26/21\",\"3/27/21\",\"3/28/21\",\"3/29/21\",\"3/30/21\",\"3/31/21\",\"4/1/21\",\"4/2/21\",\"4/3/21\",\"4/4/21\",\"4/5/21\",\"4/6/21\",\"4/7/21\",\"4/8/21\",\"4/9/21\",\"4/10/21\",\"4/11/21\",\"4/12/21\",\"4/13/21\",\"4/14/21\",\"4/15/21\",\"4/16/21\",\"4/17/21\",\"4/18/21\",\"4/19/21\",\"4/20/21\",\"4/21/21\",\"4/22/21\",\"4/23/21\",\"4/24/21\",\"4/25/21\",\"4/26/21\",\"4/27/21\",\"4/28/21\",\"4/29/21\",\"4/30/21\",\"5/1/21\",\"5/2/21\",\"5/3/21\",\"5/4/21\",\"5/5/21\",\"5/6/21\",\"5/7/21\",\"5/8/21\",\"5/9/21\",\"5/10/21\",\"5/11/21\",\"5/12/21\",\"5/13/21\",\"5/14/21\",\"5/15/21\",\"5/16/21\",\"5/17/21\",\"5/18/21\",\"5/19/21\",\"5/20/21\",\"5/21/21\",\"5/22/21\",\"5/23/21\",\"5/24/21\",\"5/25/21\",\"5/26/21\",\"5/27/21\",\"5/28/21\",\"5/29/21\",\"5/30/21\",\"5/31/21\",\"6/1/21\",\"6/2/21\",\"6/3/21\",\"6/4/21\",\"6/5/21\",\"6/6/21\",\"6/7/21\",\"6/8/21\",\"6/9/21\",\"6/10/21\",\"6/11/21\",\"6/12/21\",\"6/13/21\",\"6/14/21\",\"6/15/21\",\"6/16/21\",\"6/17/21\",\"6/18/21\",\"6/19/21\",\"6/20/21\",\"6/21/21\",\"6/22/21\",\"6/23/21\",\"6/24/21\",\"6/25/21\",\"6/26/21\",\"6/27/21\",\"6/28/21\",\"6/29/21\",\"6/30/21\",\"7/1/21\",\"7/2/21\",\"7/3/21\",\"7/4/21\",\"7/5/21\",\"7/6/21\",\"7/7/21\",\"7/8/21\",\"7/9/21\",\"7/10/21\"],\"xaxis\":\"x\",\"y\":[30,32,39,42,56,65,108,127,145,225,287,476,627,857,1129,1492,2016,2616,3245,3947,4684,5151,6294,8057,9396,10866,12583,14352,16121,18179,18892,22889,23394,25227,27905,30386,33278,36710,39781,42717,45601,48227,51169,53795,55863,58357,60694,62493,64400,66998,68321,70248,72620,76031,78086,80830,83317,84958,87403,91650,97867,98335,107974,113753,122125,130910,139421,148877,164214,177804,193076,210219,225641,246053,259889,276598,299860,328742,353996,375734,401984,421367,448624,473698,510237,541120,567304,591170,622953,645131,679933,710018,738748,788777,816532,845344,873228,906440,948517,1013633,1051790,1092441,1124974,1159060,1195533,1241652,1281177,1317590,1371031,1404840,1451725,1488767,1544639,1584350,1632453,1688864,1729872,1782788,1834840,1893810,1945030,2053577,2108411,2163938,2227667,2282819,2346146,2413009,2490274,2560724,2637108,2692033,2796145,2875236,2945306,3014471,3086675,3141784,3293395,3375665,3454836,3540715,3620435,3706327,3777146,3857421,3955284,4074115,4155278,4250268,4366122,4434808,4526441,4630496,4746247,4839131,4945111,5051397,5140600,5235171,5352511,5468425,5753359,5863247,6059007,6178370,6302069,6447102,6605158,6739776,6879222,7004914,7116750,7257073,7399325,7559131,7711616,7895037,8045824,8133882,8293010,8467706,8647438,8823668,9051968,9271780,9415081,9586464,9756922,9959508,10173027,10372633,10553544,10692268,10914713,11138370,11360065,11548872,11740918,11941162,12119940,12284151,12589219,12829864,12993780,13277022,13445626,13678580,13889592,14117187,14335184,14542974,14711468,14921385,15137916,15337337,15568886,15794620,16001857,16200975,16412388,16622628,16823418,17081380,17300617,17521986,17735487,17936475,18148266,18345814,18547611,18787878,19004539,19228209,19451143,19638991,19867490,20093777,20323254,20543465,20794614,21031599,21268676,21514154,21733547,21996960,22252630,22491838,22753981,22967860,23190402,23431686,23679904,23901446,24073731,24329332,24551491,24788959,25021585,25276776,25496282,25703072,25898477,26121117,26321236,26513681,26725966,26933293,27136307,27334590,27536101,27738632,27950079,28161301,28388094,28594828,28806409,29003667,29242802,29832507,30098469,30345220,30600994,30845323,31103270,31383407,31634980,31914299,32217954,32506315,32805331,33058571,33315624,33572984,33953208,34179447,34481579,34759398,34990158,35380888,35814479,36177589,36551888,36907312,37246582,37520306,37931519,38303698,38741108,39107984,39489610,39849316,40167599,40569855,41046059,41508985,41935969,42426586,42862534,43178578,43591717,44032488,44458968,44950194,45428334,46933277,47328396,41338399,41696563,42058783,42434192,42751920,43103506,43380335,43723555,44086740,44410880,44725552,45017158,45425322,45717710,46016136,46369231,46757476,47032627,47313005,47614297,47882779,48173187,48488548,48801673,49125604,49422867,49753112,50023662,50313950,50657507,51023568,51396413,51717035,52034090,52349805,52668558,53071502,53399273,53765412,54147169,54463662,54774619,55089060,55418603,55759372,56075031,56439138,56790304,57079203,57351845,57702035,58031882,58325871,58607158,58901715,59179150,59411984,59783592,60052900,60328985,60616584,60862827,61058258,61346871,61582276,61876217,62112835,62347471,62616687,62833944,63016514,63295144,63504603,63732295,63992563,64243285,64418462,64633388,64903492,65132900,65383180,65609540,65846043,66084363,66358921,66621154,66856510,67129127,67397683,67650215,67895903,68185782,68452267,68716803,68985879,69264940,69523151,69803250,70137879,70451021,70786663,71098480,71463066,71768319,72097107,72401543,72736786,73119295,73464081,73784288,74150289,74498477,74846290,75216286,75699591,76094850,76548563,76933557,77464029,77858761,78345223,78792113,79236515,79740632,80259168,80839359,81374734,81979571,82491871,83128167,83767999,84344290,84878104,85565470,86246374,86843039,87550355,88236951,88919401,89612415,90255904,90912804,91626286,92301898,92998027,93709032,94371825,95000511,95751515,96399064,97089181,97754528,98397065,99064469,99808931,100552044,101250071,101886760,102501548,103118309,103620280,104247872,104824935,105380748,106078106,106633069,107140669,107630598,108159767,108743650,109272024,109701214,110226716,110704846,111146372,111568369,111983105,112435800,112849489,113225021,113563995,113993656,114340430,114800575,115149802,115530280,115849843,116181693,116446787,116804005,117107409,117507152,117796863,118125510,118420069,118678808,119006264,119299680,119579566,120005935,120299519,120569294,120868182,121235175,121563018,121831181,122123832,122457824,122867840],\"yaxis\":\"y\"}],                        {\"legend\":{\"title\":{\"text\":\"Condition\"},\"tracegroupgap\":0},\"margin\":{\"t\":60},\"template\":{\"data\":{\"bar\":[{\"error_x\":{\"color\":\"#f2f5fa\"},\"error_y\":{\"color\":\"#f2f5fa\"},\"marker\":{\"line\":{\"color\":\"rgb(17,17,17)\",\"width\":0.5},\"pattern\":{\"fillmode\":\"overlay\",\"size\":10,\"solidity\":0.2}},\"type\":\"bar\"}],\"barpolar\":[{\"marker\":{\"line\":{\"color\":\"rgb(17,17,17)\",\"width\":0.5},\"pattern\":{\"fillmode\":\"overlay\",\"size\":10,\"solidity\":0.2}},\"type\":\"barpolar\"}],\"carpet\":[{\"aaxis\":{\"endlinecolor\":\"#A2B1C6\",\"gridcolor\":\"#506784\",\"linecolor\":\"#506784\",\"minorgridcolor\":\"#506784\",\"startlinecolor\":\"#A2B1C6\"},\"baxis\":{\"endlinecolor\":\"#A2B1C6\",\"gridcolor\":\"#506784\",\"linecolor\":\"#506784\",\"minorgridcolor\":\"#506784\",\"startlinecolor\":\"#A2B1C6\"},\"type\":\"carpet\"}],\"choropleth\":[{\"colorbar\":{\"outlinewidth\":0,\"ticks\":\"\"},\"type\":\"choropleth\"}],\"contour\":[{\"colorbar\":{\"outlinewidth\":0,\"ticks\":\"\"},\"colorscale\":[[0.0,\"#0d0887\"],[0.1111111111111111,\"#46039f\"],[0.2222222222222222,\"#7201a8\"],[0.3333333333333333,\"#9c179e\"],[0.4444444444444444,\"#bd3786\"],[0.5555555555555556,\"#d8576b\"],[0.6666666666666666,\"#ed7953\"],[0.7777777777777778,\"#fb9f3a\"],[0.8888888888888888,\"#fdca26\"],[1.0,\"#f0f921\"]],\"type\":\"contour\"}],\"contourcarpet\":[{\"colorbar\":{\"outlinewidth\":0,\"ticks\":\"\"},\"type\":\"contourcarpet\"}],\"heatmap\":[{\"colorbar\":{\"outlinewidth\":0,\"ticks\":\"\"},\"colorscale\":[[0.0,\"#0d0887\"],[0.1111111111111111,\"#46039f\"],[0.2222222222222222,\"#7201a8\"],[0.3333333333333333,\"#9c179e\"],[0.4444444444444444,\"#bd3786\"],[0.5555555555555556,\"#d8576b\"],[0.6666666666666666,\"#ed7953\"],[0.7777777777777778,\"#fb9f3a\"],[0.8888888888888888,\"#fdca26\"],[1.0,\"#f0f921\"]],\"type\":\"heatmap\"}],\"heatmapgl\":[{\"colorbar\":{\"outlinewidth\":0,\"ticks\":\"\"},\"colorscale\":[[0.0,\"#0d0887\"],[0.1111111111111111,\"#46039f\"],[0.2222222222222222,\"#7201a8\"],[0.3333333333333333,\"#9c179e\"],[0.4444444444444444,\"#bd3786\"],[0.5555555555555556,\"#d8576b\"],[0.6666666666666666,\"#ed7953\"],[0.7777777777777778,\"#fb9f3a\"],[0.8888888888888888,\"#fdca26\"],[1.0,\"#f0f921\"]],\"type\":\"heatmapgl\"}],\"histogram\":[{\"marker\":{\"pattern\":{\"fillmode\":\"overlay\",\"size\":10,\"solidity\":0.2}},\"type\":\"histogram\"}],\"histogram2d\":[{\"colorbar\":{\"outlinewidth\":0,\"ticks\":\"\"},\"colorscale\":[[0.0,\"#0d0887\"],[0.1111111111111111,\"#46039f\"],[0.2222222222222222,\"#7201a8\"],[0.3333333333333333,\"#9c179e\"],[0.4444444444444444,\"#bd3786\"],[0.5555555555555556,\"#d8576b\"],[0.6666666666666666,\"#ed7953\"],[0.7777777777777778,\"#fb9f3a\"],[0.8888888888888888,\"#fdca26\"],[1.0,\"#f0f921\"]],\"type\":\"histogram2d\"}],\"histogram2dcontour\":[{\"colorbar\":{\"outlinewidth\":0,\"ticks\":\"\"},\"colorscale\":[[0.0,\"#0d0887\"],[0.1111111111111111,\"#46039f\"],[0.2222222222222222,\"#7201a8\"],[0.3333333333333333,\"#9c179e\"],[0.4444444444444444,\"#bd3786\"],[0.5555555555555556,\"#d8576b\"],[0.6666666666666666,\"#ed7953\"],[0.7777777777777778,\"#fb9f3a\"],[0.8888888888888888,\"#fdca26\"],[1.0,\"#f0f921\"]],\"type\":\"histogram2dcontour\"}],\"mesh3d\":[{\"colorbar\":{\"outlinewidth\":0,\"ticks\":\"\"},\"type\":\"mesh3d\"}],\"parcoords\":[{\"line\":{\"colorbar\":{\"outlinewidth\":0,\"ticks\":\"\"}},\"type\":\"parcoords\"}],\"pie\":[{\"automargin\":true,\"type\":\"pie\"}],\"scatter\":[{\"marker\":{\"line\":{\"color\":\"#283442\"}},\"type\":\"scatter\"}],\"scatter3d\":[{\"line\":{\"colorbar\":{\"outlinewidth\":0,\"ticks\":\"\"}},\"marker\":{\"colorbar\":{\"outlinewidth\":0,\"ticks\":\"\"}},\"type\":\"scatter3d\"}],\"scattercarpet\":[{\"marker\":{\"colorbar\":{\"outlinewidth\":0,\"ticks\":\"\"}},\"type\":\"scattercarpet\"}],\"scattergeo\":[{\"marker\":{\"colorbar\":{\"outlinewidth\":0,\"ticks\":\"\"}},\"type\":\"scattergeo\"}],\"scattergl\":[{\"marker\":{\"line\":{\"color\":\"#283442\"}},\"type\":\"scattergl\"}],\"scattermapbox\":[{\"marker\":{\"colorbar\":{\"outlinewidth\":0,\"ticks\":\"\"}},\"type\":\"scattermapbox\"}],\"scatterpolar\":[{\"marker\":{\"colorbar\":{\"outlinewidth\":0,\"ticks\":\"\"}},\"type\":\"scatterpolar\"}],\"scatterpolargl\":[{\"marker\":{\"colorbar\":{\"outlinewidth\":0,\"ticks\":\"\"}},\"type\":\"scatterpolargl\"}],\"scatterternary\":[{\"marker\":{\"colorbar\":{\"outlinewidth\":0,\"ticks\":\"\"}},\"type\":\"scatterternary\"}],\"surface\":[{\"colorbar\":{\"outlinewidth\":0,\"ticks\":\"\"},\"colorscale\":[[0.0,\"#0d0887\"],[0.1111111111111111,\"#46039f\"],[0.2222222222222222,\"#7201a8\"],[0.3333333333333333,\"#9c179e\"],[0.4444444444444444,\"#bd3786\"],[0.5555555555555556,\"#d8576b\"],[0.6666666666666666,\"#ed7953\"],[0.7777777777777778,\"#fb9f3a\"],[0.8888888888888888,\"#fdca26\"],[1.0,\"#f0f921\"]],\"type\":\"surface\"}],\"table\":[{\"cells\":{\"fill\":{\"color\":\"#506784\"},\"line\":{\"color\":\"rgb(17,17,17)\"}},\"header\":{\"fill\":{\"color\":\"#2a3f5f\"},\"line\":{\"color\":\"rgb(17,17,17)\"}},\"type\":\"table\"}]},\"layout\":{\"annotationdefaults\":{\"arrowcolor\":\"#f2f5fa\",\"arrowhead\":0,\"arrowwidth\":1},\"autotypenumbers\":\"strict\",\"coloraxis\":{\"colorbar\":{\"outlinewidth\":0,\"ticks\":\"\"}},\"colorscale\":{\"diverging\":[[0,\"#8e0152\"],[0.1,\"#c51b7d\"],[0.2,\"#de77ae\"],[0.3,\"#f1b6da\"],[0.4,\"#fde0ef\"],[0.5,\"#f7f7f7\"],[0.6,\"#e6f5d0\"],[0.7,\"#b8e186\"],[0.8,\"#7fbc41\"],[0.9,\"#4d9221\"],[1,\"#276419\"]],\"sequential\":[[0.0,\"#0d0887\"],[0.1111111111111111,\"#46039f\"],[0.2222222222222222,\"#7201a8\"],[0.3333333333333333,\"#9c179e\"],[0.4444444444444444,\"#bd3786\"],[0.5555555555555556,\"#d8576b\"],[0.6666666666666666,\"#ed7953\"],[0.7777777777777778,\"#fb9f3a\"],[0.8888888888888888,\"#fdca26\"],[1.0,\"#f0f921\"]],\"sequentialminus\":[[0.0,\"#0d0887\"],[0.1111111111111111,\"#46039f\"],[0.2222222222222222,\"#7201a8\"],[0.3333333333333333,\"#9c179e\"],[0.4444444444444444,\"#bd3786\"],[0.5555555555555556,\"#d8576b\"],[0.6666666666666666,\"#ed7953\"],[0.7777777777777778,\"#fb9f3a\"],[0.8888888888888888,\"#fdca26\"],[1.0,\"#f0f921\"]]},\"colorway\":[\"#636efa\",\"#EF553B\",\"#00cc96\",\"#ab63fa\",\"#FFA15A\",\"#19d3f3\",\"#FF6692\",\"#B6E880\",\"#FF97FF\",\"#FECB52\"],\"font\":{\"color\":\"#f2f5fa\"},\"geo\":{\"bgcolor\":\"rgb(17,17,17)\",\"lakecolor\":\"rgb(17,17,17)\",\"landcolor\":\"rgb(17,17,17)\",\"showlakes\":true,\"showland\":true,\"subunitcolor\":\"#506784\"},\"hoverlabel\":{\"align\":\"left\"},\"hovermode\":\"closest\",\"mapbox\":{\"style\":\"dark\"},\"paper_bgcolor\":\"rgb(17,17,17)\",\"plot_bgcolor\":\"rgb(17,17,17)\",\"polar\":{\"angularaxis\":{\"gridcolor\":\"#506784\",\"linecolor\":\"#506784\",\"ticks\":\"\"},\"bgcolor\":\"rgb(17,17,17)\",\"radialaxis\":{\"gridcolor\":\"#506784\",\"linecolor\":\"#506784\",\"ticks\":\"\"}},\"scene\":{\"xaxis\":{\"backgroundcolor\":\"rgb(17,17,17)\",\"gridcolor\":\"#506784\",\"gridwidth\":2,\"linecolor\":\"#506784\",\"showbackground\":true,\"ticks\":\"\",\"zerolinecolor\":\"#C8D4E3\"},\"yaxis\":{\"backgroundcolor\":\"rgb(17,17,17)\",\"gridcolor\":\"#506784\",\"gridwidth\":2,\"linecolor\":\"#506784\",\"showbackground\":true,\"ticks\":\"\",\"zerolinecolor\":\"#C8D4E3\"},\"zaxis\":{\"backgroundcolor\":\"rgb(17,17,17)\",\"gridcolor\":\"#506784\",\"gridwidth\":2,\"linecolor\":\"#506784\",\"showbackground\":true,\"ticks\":\"\",\"zerolinecolor\":\"#C8D4E3\"}},\"shapedefaults\":{\"line\":{\"color\":\"#f2f5fa\"}},\"sliderdefaults\":{\"bgcolor\":\"#C8D4E3\",\"bordercolor\":\"rgb(17,17,17)\",\"borderwidth\":1,\"tickwidth\":0},\"ternary\":{\"aaxis\":{\"gridcolor\":\"#506784\",\"linecolor\":\"#506784\",\"ticks\":\"\"},\"baxis\":{\"gridcolor\":\"#506784\",\"linecolor\":\"#506784\",\"ticks\":\"\"},\"bgcolor\":\"rgb(17,17,17)\",\"caxis\":{\"gridcolor\":\"#506784\",\"linecolor\":\"#506784\",\"ticks\":\"\"}},\"title\":{\"x\":0.05},\"updatemenudefaults\":{\"bgcolor\":\"#506784\",\"borderwidth\":0},\"xaxis\":{\"automargin\":true,\"gridcolor\":\"#283442\",\"linecolor\":\"#506784\",\"ticks\":\"\",\"title\":{\"standoff\":15},\"zerolinecolor\":\"#283442\",\"zerolinewidth\":2},\"yaxis\":{\"automargin\":true,\"gridcolor\":\"#283442\",\"linecolor\":\"#506784\",\"ticks\":\"\",\"title\":{\"standoff\":15},\"zerolinecolor\":\"#283442\",\"zerolinewidth\":2}}},\"xaxis\":{\"anchor\":\"y\",\"domain\":[0.0,1.0],\"rangeslider\":{\"visible\":true},\"title\":{\"text\":\"Date\"}},\"yaxis\":{\"anchor\":\"x\",\"domain\":[0.0,1.0],\"title\":{\"text\":\"Cases\"}}},                        {\"responsive\": true}                    ).then(function(){\n",
       "                            \n",
       "var gd = document.getElementById('7e45371f-51cb-4858-910b-4022c4f72c92');\n",
       "var x = new MutationObserver(function (mutations, observer) {{\n",
       "        var display = window.getComputedStyle(gd).display;\n",
       "        if (!display || display === 'none') {{\n",
       "            console.log([gd, 'removed!']);\n",
       "            Plotly.purge(gd);\n",
       "            observer.disconnect();\n",
       "        }}\n",
       "}});\n",
       "\n",
       "// Listen for the removal of the full notebook cells\n",
       "var notebookContainer = gd.closest('#notebook-container');\n",
       "if (notebookContainer) {{\n",
       "    x.observe(notebookContainer, {childList: true});\n",
       "}}\n",
       "\n",
       "// Listen for the clearing of the current output cell\n",
       "var outputEl = gd.closest('.output');\n",
       "if (outputEl) {{\n",
       "    x.observe(outputEl, {childList: true});\n",
       "}}\n",
       "\n",
       "                        })                };                });            </script>        </div>"
      ]
     },
     "metadata": {},
     "output_type": "display_data"
    }
   ],
   "source": [
    "import plotly.express as px \n",
    "from data import make_global_df\n",
    "\n",
    "df = make_global_df()\n",
    "\n",
    "fig = px.line(df, x=\"date\", y=[\"confirmed\", \"deaths\", \"recovered\"],\n",
    "              template=\"plotly_dark\",\n",
    "             labels={\"value\":\"Cases\",\n",
    "                    \"variable\":\"Condition\",\n",
    "                    \"date\":\"Date\"},\n",
    "             hover_data={\"value\":\":,\",\n",
    "                        \"variable\":False,\n",
    "                        \"date\":False})\n",
    "fig.update_xaxes(rangeslider_visible=True)\n",
    "fig[\"data\"][0][\"line\"][\"color\"] = \"#34495e\"\n",
    "fig[\"data\"][1][\"line\"][\"color\"] = \"#95a5a6\"\n",
    "fig[\"data\"][2][\"line\"][\"color\"] = \"#16a085\"\n",
    "fig"
   ]
  },
  {
   "cell_type": "code",
   "execution_count": null,
   "metadata": {},
   "outputs": [],
   "source": []
  }
 ],
 "metadata": {
  "kernelspec": {
   "display_name": "Python 3",
   "language": "python",
   "name": "python3"
  },
  "language_info": {
   "codemirror_mode": {
    "name": "ipython",
    "version": 3
   },
   "file_extension": ".py",
   "mimetype": "text/x-python",
   "name": "python",
   "nbconvert_exporter": "python",
   "pygments_lexer": "ipython3",
   "version": "3.9.1"
  }
 },
 "nbformat": 4,
 "nbformat_minor": 4
}
